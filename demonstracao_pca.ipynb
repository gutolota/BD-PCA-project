{
 "cells": [
  {
   "cell_type": "markdown",
   "metadata": {},
   "source": [
    "# Importações de modulos necessários"
   ]
  },
  {
   "cell_type": "code",
   "execution_count": 5,
   "metadata": {},
   "outputs": [],
   "source": [
    "import pandas as pd\n",
    "import seaborn as sns\n",
    "import plotly.express as px\n",
    "import matplotlib.pyplot as plt\n",
    "import random\n",
    "from sklearn.datasets import load_iris\n",
    "from sklearn.cluster import KMeans\n",
    "from sklearn.decomposition import PCA\n",
    "from sklearn.preprocessing import MinMaxScaler\n"
   ]
  },
  {
   "cell_type": "markdown",
   "metadata": {},
   "source": [
    "# Aquisição dos dados"
   ]
  },
  {
   "cell_type": "code",
   "execution_count": 5,
   "metadata": {},
   "outputs": [],
   "source": [
    "example_df = pd.read_csv('./data/example_data.csv')"
   ]
  },
  {
   "cell_type": "code",
   "execution_count": 93,
   "metadata": {},
   "outputs": [
    {
     "ename": "NameError",
     "evalue": "name 'example_df' is not defined",
     "output_type": "error",
     "traceback": [
      "\u001b[0;31m---------------------------------------------------------------------------\u001b[0m",
      "\u001b[0;31mNameError\u001b[0m                                 Traceback (most recent call last)",
      "\u001b[1;32m/Users/gustavotamiosso/dev/Faculdade/bd2/BD-PCA-project/demonstracao_pca.ipynb Célula: 5\u001b[0m in \u001b[0;36m<cell line: 1>\u001b[0;34m()\u001b[0m\n\u001b[0;32m----> <a href='vscode-notebook-cell:/Users/gustavotamiosso/dev/Faculdade/bd2/BD-PCA-project/demonstracao_pca.ipynb#ch0000011?line=0'>1</a>\u001b[0m example_df\u001b[39m.\u001b[39mhead()\n",
      "\u001b[0;31mNameError\u001b[0m: name 'example_df' is not defined"
     ]
    }
   ],
   "source": [
    "example_df.head()"
   ]
  },
  {
   "cell_type": "markdown",
   "metadata": {},
   "source": [
    "# Preparação dos dados"
   ]
  },
  {
   "cell_type": "code",
   "execution_count": 7,
   "metadata": {},
   "outputs": [
    {
     "name": "stdout",
     "output_type": "stream",
     "text": [
      "<class 'pandas.core.frame.DataFrame'>\n",
      "RangeIndex: 150 entries, 0 to 149\n",
      "Data columns (total 4 columns):\n",
      " #   Column             Non-Null Count  Dtype  \n",
      "---  ------             --------------  -----  \n",
      " 0   sepal length (cm)  150 non-null    float64\n",
      " 1   sepal width (cm)   150 non-null    float64\n",
      " 2   petal length (cm)  150 non-null    float64\n",
      " 3   petal width (cm)   150 non-null    float64\n",
      "dtypes: float64(4)\n",
      "memory usage: 4.8 KB\n"
     ]
    }
   ],
   "source": [
    "iris_df.info()"
   ]
  },
  {
   "cell_type": "markdown",
   "metadata": {},
   "source": [
    "* Uma prática comum para a criação de um modelo de aprendizado de máquina é normalizar os dados para que as faixas dos dados sejam padronizadas, o quê ajuda o algoritmo de aprendizado a convergir para um solução"
   ]
  },
  {
   "cell_type": "markdown",
   "metadata": {},
   "source": [
    "### Minmax scaler\n",
    "Será utilizado o minmax scaler que normaliza os dados de forma que converta o espaço para uma faixa entre 0 e 1"
   ]
  },
  {
   "cell_type": "code",
   "execution_count": 10,
   "metadata": {},
   "outputs": [
    {
     "data": {
      "text/html": [
       "<div>\n",
       "<style scoped>\n",
       "    .dataframe tbody tr th:only-of-type {\n",
       "        vertical-align: middle;\n",
       "    }\n",
       "\n",
       "    .dataframe tbody tr th {\n",
       "        vertical-align: top;\n",
       "    }\n",
       "\n",
       "    .dataframe thead th {\n",
       "        text-align: right;\n",
       "    }\n",
       "</style>\n",
       "<table border=\"1\" class=\"dataframe\">\n",
       "  <thead>\n",
       "    <tr style=\"text-align: right;\">\n",
       "      <th></th>\n",
       "      <th>sepal length</th>\n",
       "      <th>sepal width</th>\n",
       "      <th>petal length</th>\n",
       "      <th>petal width</th>\n",
       "    </tr>\n",
       "  </thead>\n",
       "  <tbody>\n",
       "    <tr>\n",
       "      <th>0</th>\n",
       "      <td>0.222222</td>\n",
       "      <td>0.625000</td>\n",
       "      <td>0.067797</td>\n",
       "      <td>0.041667</td>\n",
       "    </tr>\n",
       "    <tr>\n",
       "      <th>1</th>\n",
       "      <td>0.166667</td>\n",
       "      <td>0.416667</td>\n",
       "      <td>0.067797</td>\n",
       "      <td>0.041667</td>\n",
       "    </tr>\n",
       "    <tr>\n",
       "      <th>2</th>\n",
       "      <td>0.111111</td>\n",
       "      <td>0.500000</td>\n",
       "      <td>0.050847</td>\n",
       "      <td>0.041667</td>\n",
       "    </tr>\n",
       "    <tr>\n",
       "      <th>3</th>\n",
       "      <td>0.083333</td>\n",
       "      <td>0.458333</td>\n",
       "      <td>0.084746</td>\n",
       "      <td>0.041667</td>\n",
       "    </tr>\n",
       "    <tr>\n",
       "      <th>4</th>\n",
       "      <td>0.194444</td>\n",
       "      <td>0.666667</td>\n",
       "      <td>0.067797</td>\n",
       "      <td>0.041667</td>\n",
       "    </tr>\n",
       "  </tbody>\n",
       "</table>\n",
       "</div>"
      ],
      "text/plain": [
       "   sepal length   sepal width   petal length   petal width \n",
       "0       0.222222      0.625000       0.067797      0.041667\n",
       "1       0.166667      0.416667       0.067797      0.041667\n",
       "2       0.111111      0.500000       0.050847      0.041667\n",
       "3       0.083333      0.458333       0.084746      0.041667\n",
       "4       0.194444      0.666667       0.067797      0.041667"
      ]
     },
     "execution_count": 10,
     "metadata": {},
     "output_type": "execute_result"
    }
   ],
   "source": [
    "scaler = MinMaxScaler()\n",
    "normalized_iris_df = pd.DataFrame(data=scaler.fit_transform(iris_df), columns=[x[:x.find('(cm)')] for x in iris_df.columns])\n",
    "normalized_iris_df.head()"
   ]
  },
  {
   "cell_type": "markdown",
   "metadata": {},
   "source": [
    "# Criação do modelo de aprendizado"
   ]
  },
  {
   "cell_type": "markdown",
   "metadata": {},
   "source": [
    "## Procurando o K ideal\n",
    "\n",
    "* Para encontrar o k ideal utilizaremos o método do cotovoleo, que encontra um número de cluster a partir de onde os dados deixam de apresentar uma redução significativa da variância dentro de cada cluster"
   ]
  },
  {
   "cell_type": "code",
   "execution_count": 14,
   "metadata": {},
   "outputs": [
    {
     "data": {
      "text/plain": [
       "([<matplotlib.axis.XTick at 0x285037e50>,\n",
       "  <matplotlib.axis.XTick at 0x285037e20>,\n",
       "  <matplotlib.axis.XTick at 0x28506beb0>,\n",
       "  <matplotlib.axis.XTick at 0x285099570>,\n",
       "  <matplotlib.axis.XTick at 0x285099cc0>,\n",
       "  <matplotlib.axis.XTick at 0x285099cf0>,\n",
       "  <matplotlib.axis.XTick at 0x28509a530>,\n",
       "  <matplotlib.axis.XTick at 0x28509ac80>,\n",
       "  <matplotlib.axis.XTick at 0x28509b3d0>,\n",
       "  <matplotlib.axis.XTick at 0x285035db0>,\n",
       "  <matplotlib.axis.XTick at 0x2850a98a0>,\n",
       "  <matplotlib.axis.XTick at 0x2850a9f00>,\n",
       "  <matplotlib.axis.XTick at 0x2850aa650>,\n",
       "  <matplotlib.axis.XTick at 0x285099330>,\n",
       "  <matplotlib.axis.XTick at 0x2850aa3e0>,\n",
       "  <matplotlib.axis.XTick at 0x2850a9270>,\n",
       "  <matplotlib.axis.XTick at 0x2850aafe0>,\n",
       "  <matplotlib.axis.XTick at 0x2850ab730>],\n",
       " [Text(0, 0, ''),\n",
       "  Text(0, 0, ''),\n",
       "  Text(0, 0, ''),\n",
       "  Text(0, 0, ''),\n",
       "  Text(0, 0, ''),\n",
       "  Text(0, 0, ''),\n",
       "  Text(0, 0, ''),\n",
       "  Text(0, 0, ''),\n",
       "  Text(0, 0, ''),\n",
       "  Text(0, 0, ''),\n",
       "  Text(0, 0, ''),\n",
       "  Text(0, 0, ''),\n",
       "  Text(0, 0, ''),\n",
       "  Text(0, 0, ''),\n",
       "  Text(0, 0, ''),\n",
       "  Text(0, 0, ''),\n",
       "  Text(0, 0, ''),\n",
       "  Text(0, 0, '')])"
      ]
     },
     "execution_count": 14,
     "metadata": {},
     "output_type": "execute_result"
    },
    {
     "data": {
      "image/png": "[encoded data removed]",
      "text/plain": [
       "<Figure size 432x288 with 1 Axes>"
      ]
     },
     "metadata": {
      "needs_background": "light"
     },
     "output_type": "display_data"
    }
   ],
   "source": [
    "variance_intra_cluster = []\n",
    "\n",
    "for k in range(2, 20):\n",
    "    kmeans = KMeans(n_clusters=k)\n",
    "    kmeans.fit(normalized_iris_df)\n",
    "    variance_intra_cluster.append(kmeans.inertia_)\n",
    "\n",
    "sns.lineplot(x=list(range(2, 20)), y=variance_intra_cluster)\n",
    "plt.xticks(list(range(2, 20)))"
   ]
  },
  {
   "cell_type": "code",
   "execution_count": 27,
   "metadata": {},
   "outputs": [],
   "source": [
    "final_df = iris_df.copy()\n",
    "kmeans = KMeans(n_clusters=8)\n",
    "final_df['cluster'] = kmeans.fit_predict(normalized_iris_df)"
   ]
  },
  {
   "cell_type": "markdown",
   "metadata": {},
   "source": [
    "# Avaliação do modelo"
   ]
  },
  {
   "cell_type": "code",
   "execution_count": 28,
   "metadata": {},
   "outputs": [
    {
     "data": {
      "text/html": [
       "<div>\n",
       "<style scoped>\n",
       "    .dataframe tbody tr th:only-of-type {\n",
       "        vertical-align: middle;\n",
       "    }\n",
       "\n",
       "    .dataframe tbody tr th {\n",
       "        vertical-align: top;\n",
       "    }\n",
       "\n",
       "    .dataframe thead th {\n",
       "        text-align: right;\n",
       "    }\n",
       "</style>\n",
       "<table border=\"1\" class=\"dataframe\">\n",
       "  <thead>\n",
       "    <tr style=\"text-align: right;\">\n",
       "      <th></th>\n",
       "      <th>sepal length (cm)</th>\n",
       "      <th>sepal width (cm)</th>\n",
       "      <th>petal length (cm)</th>\n",
       "      <th>petal width (cm)</th>\n",
       "      <th>cluster</th>\n",
       "    </tr>\n",
       "  </thead>\n",
       "  <tbody>\n",
       "    <tr>\n",
       "      <th>0</th>\n",
       "      <td>5.1</td>\n",
       "      <td>3.5</td>\n",
       "      <td>1.4</td>\n",
       "      <td>0.2</td>\n",
       "      <td>0</td>\n",
       "    </tr>\n",
       "    <tr>\n",
       "      <th>1</th>\n",
       "      <td>4.9</td>\n",
       "      <td>3.0</td>\n",
       "      <td>1.4</td>\n",
       "      <td>0.2</td>\n",
       "      <td>7</td>\n",
       "    </tr>\n",
       "    <tr>\n",
       "      <th>2</th>\n",
       "      <td>4.7</td>\n",
       "      <td>3.2</td>\n",
       "      <td>1.3</td>\n",
       "      <td>0.2</td>\n",
       "      <td>7</td>\n",
       "    </tr>\n",
       "    <tr>\n",
       "      <th>3</th>\n",
       "      <td>4.6</td>\n",
       "      <td>3.1</td>\n",
       "      <td>1.5</td>\n",
       "      <td>0.2</td>\n",
       "      <td>7</td>\n",
       "    </tr>\n",
       "    <tr>\n",
       "      <th>4</th>\n",
       "      <td>5.0</td>\n",
       "      <td>3.6</td>\n",
       "      <td>1.4</td>\n",
       "      <td>0.2</td>\n",
       "      <td>0</td>\n",
       "    </tr>\n",
       "  </tbody>\n",
       "</table>\n",
       "</div>"
      ],
      "text/plain": [
       "   sepal length (cm)  sepal width (cm)  petal length (cm)  petal width (cm)  \\\n",
       "0                5.1               3.5                1.4               0.2   \n",
       "1                4.9               3.0                1.4               0.2   \n",
       "2                4.7               3.2                1.3               0.2   \n",
       "3                4.6               3.1                1.5               0.2   \n",
       "4                5.0               3.6                1.4               0.2   \n",
       "\n",
       "   cluster  \n",
       "0        0  \n",
       "1        7  \n",
       "2        7  \n",
       "3        7  \n",
       "4        0  "
      ]
     },
     "execution_count": 28,
     "metadata": {},
     "output_type": "execute_result"
    }
   ],
   "source": [
    "final_df.head()"
   ]
  },
  {
   "cell_type": "code",
   "execution_count": 29,
   "metadata": {},
   "outputs": [
    {
     "data": {
      "text/plain": [
       "<AxesSubplot:xlabel='sepal length (cm)', ylabel='sepal width (cm)'>"
      ]
     },
     "execution_count": 29,
     "metadata": {},
     "output_type": "execute_result"
    },
    {
     "data": {
      "image/png": "[encoded data removed]",
      "text/plain": [
       "<Figure size 432x288 with 1 Axes>"
      ]
     },
     "metadata": {
      "needs_background": "light"
     },
     "output_type": "display_data"
    }
   ],
   "source": [
    "sns.scatterplot(data=final_df, x='sepal length (cm)', y='sepal width (cm)', hue='cluster')"
   ]
  },
  {
   "cell_type": "markdown",
   "metadata": {},
   "source": [
    "## Utilização do pca"
   ]
  },
  {
   "cell_type": "code",
   "execution_count": 30,
   "metadata": {},
   "outputs": [],
   "source": [
    "pca = PCA()\n",
    "pca_df = pca.fit_transform(final_df.drop('cluster', axis='columns'))\n",
    "pca_df = pd.DataFrame(pca_df)"
   ]
  },
  {
   "cell_type": "code",
   "execution_count": 31,
   "metadata": {},
   "outputs": [
    {
     "data": {
      "text/html": [
       "<div>\n",
       "<style scoped>\n",
       "    .dataframe tbody tr th:only-of-type {\n",
       "        vertical-align: middle;\n",
       "    }\n",
       "\n",
       "    .dataframe tbody tr th {\n",
       "        vertical-align: top;\n",
       "    }\n",
       "\n",
       "    .dataframe thead th {\n",
       "        text-align: right;\n",
       "    }\n",
       "</style>\n",
       "<table border=\"1\" class=\"dataframe\">\n",
       "  <thead>\n",
       "    <tr style=\"text-align: right;\">\n",
       "      <th></th>\n",
       "      <th>0</th>\n",
       "      <th>1</th>\n",
       "      <th>2</th>\n",
       "      <th>3</th>\n",
       "    </tr>\n",
       "  </thead>\n",
       "  <tbody>\n",
       "    <tr>\n",
       "      <th>0</th>\n",
       "      <td>-2.684126</td>\n",
       "      <td>0.319397</td>\n",
       "      <td>-0.027915</td>\n",
       "      <td>-0.002262</td>\n",
       "    </tr>\n",
       "    <tr>\n",
       "      <th>1</th>\n",
       "      <td>-2.714142</td>\n",
       "      <td>-0.177001</td>\n",
       "      <td>-0.210464</td>\n",
       "      <td>-0.099027</td>\n",
       "    </tr>\n",
       "    <tr>\n",
       "      <th>2</th>\n",
       "      <td>-2.888991</td>\n",
       "      <td>-0.144949</td>\n",
       "      <td>0.017900</td>\n",
       "      <td>-0.019968</td>\n",
       "    </tr>\n",
       "    <tr>\n",
       "      <th>3</th>\n",
       "      <td>-2.745343</td>\n",
       "      <td>-0.318299</td>\n",
       "      <td>0.031559</td>\n",
       "      <td>0.075576</td>\n",
       "    </tr>\n",
       "    <tr>\n",
       "      <th>4</th>\n",
       "      <td>-2.728717</td>\n",
       "      <td>0.326755</td>\n",
       "      <td>0.090079</td>\n",
       "      <td>0.061259</td>\n",
       "    </tr>\n",
       "  </tbody>\n",
       "</table>\n",
       "</div>"
      ],
      "text/plain": [
       "          0         1         2         3\n",
       "0 -2.684126  0.319397 -0.027915 -0.002262\n",
       "1 -2.714142 -0.177001 -0.210464 -0.099027\n",
       "2 -2.888991 -0.144949  0.017900 -0.019968\n",
       "3 -2.745343 -0.318299  0.031559  0.075576\n",
       "4 -2.728717  0.326755  0.090079  0.061259"
      ]
     },
     "execution_count": 31,
     "metadata": {},
     "output_type": "execute_result"
    }
   ],
   "source": [
    "pca_df.head()"
   ]
  },
  {
   "cell_type": "code",
   "execution_count": 32,
   "metadata": {},
   "outputs": [
    {
     "data": {
      "application/vnd.plotly.v1+json": {
       "config": {
        "plotlyServerURL": "https://plot.ly"
       },
       "data": [
        {
         "hovertemplate": "0=%{x}<br>1=%{y}<br>2=%{z}<br>color=%{marker.color}<extra></extra>",
         "legendgroup": "",
         "marker": {
          "color": [
           0,
           7,
           7,
           7,
           0,
           0,
           7,
           0,
           7,
           7,
           0,
           7,
           7,
           7,
           0,
           0,
           0,
           0,
           0,
           0,
           0,
           0,
           0,
           0,
           7,
           7,
           0,
           0,
           0,
           7,
           7,
           0,
           0,
           0,
           7,
           7,
           0,
           0,
           7,
           0,
           0,
           7,
           7,
           0,
           0,
           7,
           0,
           7,
           0,
           7,
           1,
           1,
           1,
           3,
           1,
           5,
           1,
           3,
           1,
           5,
           3,
           5,
           3,
           1,
           5,
           1,
           5,
           5,
           5,
           3,
           2,
           5,
           2,
           5,
           1,
           1,
           1,
           1,
           5,
           3,
           3,
           3,
           5,
           2,
           5,
           1,
           1,
           5,
           5,
           5,
           5,
           1,
           5,
           3,
           5,
           5,
           5,
           1,
           3,
           5,
           4,
           2,
           6,
           2,
           4,
           6,
           5,
           6,
           2,
           4,
           4,
           2,
           4,
           2,
           2,
           4,
           2,
           6,
           6,
           5,
           4,
           2,
           6,
           2,
           4,
           6,
           2,
           2,
           2,
           6,
           6,
           6,
           2,
           1,
           2,
           6,
           4,
           2,
           2,
           4,
           4,
           4,
           2,
           4,
           4,
           4,
           2,
           2,
           4,
           2
          ],
          "coloraxis": "coloraxis",
          "symbol": "circle"
         },
         "mode": "markers",
         "name": "",
         "scene": "scene",
         "showlegend": false,
         "type": "scatter3d",
         "x": [
          -2.684125625969527,
          -2.7141416872943287,
          -2.888990569059294,
          -2.745342855641408,
          -2.7287165365545274,
          -2.28085963284449,
          -2.820537750740607,
          -2.626144973146631,
          -2.8863827317805506,
          -2.6727557978209515,
          -2.5069470906518534,
          -2.6127552309087205,
          -2.7861092661880154,
          -3.223803743865649,
          -2.6447503899420277,
          -2.386039033531131,
          -2.6235278752244238,
          -2.6482967062543787,
          -2.1998203236175784,
          -2.5879863998787656,
          -2.3102562152425157,
          -2.5437052287571538,
          -3.215939415648609,
          -2.302733182226205,
          -2.35575404912377,
          -2.5066689069258192,
          -2.468820073121337,
          -2.562319906196014,
          -2.6395347153845403,
          -2.6319893872743436,
          -2.58739847668935,
          -2.4099324970021727,
          -2.64886233434991,
          -2.5987367491005844,
          -2.6369268781057964,
          -2.8662416521186675,
          -2.62523804985037,
          -2.8006841154482194,
          -2.9805020437819905,
          -2.5900063139680936,
          -2.770102426027899,
          -2.8493687050431005,
          -2.9974065465949042,
          -2.405614485097483,
          -2.209489237783677,
          -2.714451426757705,
          -2.538148258998937,
          -2.8394621676428478,
          -2.5430857498303907,
          -2.703359782335157,
          1.2848256888583525,
          0.93248853231232,
          1.464302321991395,
          0.1833177199583726,
          1.0881032577116672,
          0.6416690842580793,
          1.0950606626324484,
          -0.7491226698296549,
          1.044131826053437,
          -0.0087454040828938,
          -0.5078408838353237,
          0.5116985574475992,
          0.2649765081120481,
          0.9849345104708918,
          -0.1739253716817658,
          0.9278607809442485,
          0.6602837616969387,
          0.23610499331767332,
          0.944733728019815,
          0.04522697629870179,
          1.1162831773500517,
          0.35788841799730886,
          1.2981838753589152,
          0.9217289224470385,
          0.7148533259114133,
          0.9001743731721685,
          1.3320244367220895,
          1.5578021550660714,
          0.8132906498175433,
          -0.3055837780243074,
          -0.0681264920683616,
          -0.1896224723784999,
          0.1364287115580167,
          1.3800264359155128,
          0.5880064433398657,
          0.8068583125004138,
          1.2206908824443539,
          0.815095235766601,
          0.24595767988669437,
          0.1664132171454588,
          0.46480028840378124,
          0.8908151984694511,
          0.23054802355945717,
          -0.7045317592446614,
          0.35698149470104884,
          0.33193447994506003,
          0.37621565106667226,
          0.6425760075543395,
          -0.9064698649488335,
          0.2990008418781451,
          2.5311927278036292,
          1.4152358767039042,
          2.616676015995691,
          1.9715310530434371,
          2.3500059200446413,
          3.397038736053259,
          0.521232243909776,
          2.9325870689936893,
          2.3212288165733788,
          2.916750966786074,
          1.6617741536365325,
          1.8034019529650924,
          2.1655917960801467,
          1.346163579458453,
          1.5859282238732229,
          1.9044563747934282,
          1.9496890593990706,
          3.4870553642902804,
          3.795645422072884,
          1.3007917126376585,
          2.4278179130660464,
          1.1990011054655625,
          3.499920038924539,
          1.3887661316914668,
          2.2754305038722062,
          2.614090473810832,
          1.2585081605114892,
          1.2911320591150224,
          2.123608722773896,
          2.3880030160034686,
          2.8416727781038715,
          3.230673661432093,
          2.159437642489051,
          1.444161242329511,
          1.7812948100451131,
          3.076499931687189,
          2.144243314302083,
          1.905098148814077,
          1.1693263393415017,
          2.1076111432572433,
          2.314154705235601,
          1.9222678009026017,
          1.4152358767039042,
          2.5630133750774773,
          2.4187461827328267,
          1.944109794546969,
          1.5271666148145187,
          1.7643457170444306,
          1.9009416142184248,
          1.3901888619479152
         ],
         "y": [
          0.3193972465850999,
          -0.17700122506477872,
          -0.14494942608555683,
          -0.31829897925191547,
          0.32675451293492075,
          0.7413304490629158,
          -0.08946138452856789,
          0.1633849596983293,
          -0.5783117541867031,
          -0.11377424587411644,
          0.6450688986485743,
          0.01472993916137531,
          -0.2351120002017181,
          -0.5113945870063815,
          1.1787646364375755,
          1.3380623304006534,
          0.8106795141812584,
          0.31184914459335544,
          0.8728390389622115,
          0.5135603087492778,
          0.3913459356538945,
          0.432996063279029,
          0.13346806953852675,
          0.0987088548141001,
          -0.03728185967738163,
          -0.1460168804952674,
          0.13095148943525098,
          0.3677188574342004,
          0.31203998023528323,
          -0.1969612249243138,
          -0.20431849127413287,
          0.41092426422957323,
          0.8133638202969633,
          1.0931457594493577,
          -0.12132234786586275,
          0.06936447158008104,
          0.599370021379424,
          0.26864373779798323,
          -0.4879583444286147,
          0.22904383682701324,
          0.2635275337442572,
          -0.940960573641197,
          -0.341926057471609,
          0.18887142893026124,
          0.43666314163918896,
          -0.2502082041852107,
          0.5037711444614386,
          -0.2279455694938269,
          0.5794100215198901,
          0.10770608249941223,
          0.6851604704673083,
          0.318333638262629,
          0.5042628153092039,
          -0.8279590118206324,
          0.07459067519771587,
          -0.41824687156867835,
          0.28346827006152947,
          -1.0048909611818952,
          0.22836189978839527,
          -0.7230819050048337,
          -1.2659711905263933,
          -0.1039812354990401,
          -0.5500364636804753,
          -0.12481785412635725,
          -0.254854208702589,
          0.46717949444151025,
          -0.35296966572384975,
          -0.3336107668249153,
          -0.5431455507797671,
          -0.5838343774718643,
          -0.08461685219478736,
          -0.06892503165601407,
          -0.3277873083339177,
          -0.18273779362136744,
          0.14905594436978448,
          0.32850447383432296,
          0.24444087601634298,
          0.26749544731025454,
          -0.1633503006876161,
          -0.368262189754588,
          -0.7051721317994655,
          -0.6802867635281336,
          -0.3140324382492367,
          -0.42095428731388185,
          -0.4842874199812175,
          0.19418231471315156,
          0.407619593611007,
          -0.37203705990950237,
          -0.2685243966220144,
          -0.6819267248636266,
          -0.6707115445117201,
          -0.03446444436826863,
          -0.40438584800732524,
          -1.012248227531714,
          -0.5049100933371083,
          -0.21265468378116933,
          -0.2932189292514186,
          0.017738190112416237,
          -0.7560933665990137,
          -0.3488978064503357,
          -0.009849109498801151,
          -0.574916347546489,
          0.3439031513417341,
          -0.17972790435224523,
          -0.040260947142530756,
          0.550836673028055,
          -1.1927587270006446,
          0.35550000297749595,
          -0.243831502310691,
          0.7827919488152789,
          0.24222840775506724,
          -0.21563761733355555,
          0.2162755850740246,
          -0.7768183473443393,
          -0.5396407140267182,
          0.11925069209197306,
          0.041943259663211566,
          1.1757393297134293,
          0.25732297342047844,
          -0.7611496364350635,
          0.37819601261705077,
          -0.60609152775793,
          0.4606740989118942,
          -0.20439932735215102,
          0.3349906058216776,
          0.5609013551230777,
          -0.1797047947227466,
          -0.11666865117401107,
          -0.20972947667730263,
          0.4646398047087361,
          0.3752691671951025,
          1.3741650867930473,
          -0.217277578669049,
          -0.1434134104575807,
          -0.49990168107813626,
          0.6880856775711749,
          0.14006420108979076,
          0.049300526013030546,
          -0.16499026202310915,
          0.37228787196079755,
          0.18365127916901908,
          0.4092034668160621,
          -0.574916347546489,
          0.2778626029291949,
          0.3047981978546923,
          0.18753230280060518,
          -0.3753169825804887,
          0.07885885451847585,
          0.11662795851202444,
          -0.28266093799055
         ],
         "z": [
          -0.027914827589412546,
          -0.21046427237824517,
          0.017900256320891,
          0.03155937360568129,
          0.09007924055120135,
          0.16867765820910463,
          0.2578921582556183,
          -0.021879317886719644,
          0.020759570264780387,
          -0.19763272498814635,
          -0.07531800937912025,
          0.10215025995659023,
          -0.20684443044964448,
          0.0612996724570995,
          -0.15162752361780998,
          0.2777769027031355,
          0.13818322788071907,
          0.026668315612593693,
          -0.12030552339473127,
          0.2136651722247159,
          -0.2394440432449535,
          0.208457232416715,
          0.2923967507452425,
          0.03912325874288049,
          0.12502108270287932,
          -0.2534200423446577,
          0.09491057609939177,
          -0.07849420513792431,
          -0.14590889573002938,
          0.04077107906717948,
          -0.07722298907343556,
          -0.1455249720051313,
          0.22566914972011984,
          0.15781081295821991,
          -0.14304958178613897,
          -0.16433230665302598,
          -0.268350375693937,
          0.09369908247980037,
          0.07292704569269269,
          -0.08008230301732606,
          0.07724769316110382,
          -0.3492303773059668,
          0.19250921171271004,
          0.2638679455134154,
          0.29874274575510906,
          -0.09767814404562955,
          0.1667056366048048,
          0.08372684903359365,
          -0.017115024248513338,
          -0.08929400847882471,
          -0.40656802546769477,
          -0.018014186646240396,
          -0.3383257649808966,
          -0.17959139187535542,
          -0.3077578962347852,
          0.0410760908239565,
          0.16981023986057533,
          0.012302919237595572,
          -0.4153360847593979,
          0.2811414311764102,
          -0.26981718276885236,
          0.13054775024048623,
          -0.6941468301444194,
          -0.06211440832226084,
          0.09045769072570446,
          -0.3146209758321728,
          0.3280275283785957,
          -0.2711618372510665,
          -0.4995190464851133,
          -0.23500210497205573,
          0.4596209913591045,
          -0.2298538876089518,
          -0.3478543522573084,
          -0.23107177773628446,
          -0.3218009372444742,
          -0.31620907371157453,
          -0.5217027796644196,
          -0.16492098374358063,
          0.03542450484616033,
          -0.31849158062304717,
          -0.24421381043355447,
          -0.30642056121765837,
          -0.17724276601124436,
          0.0161671275207291,
          0.4444334986398086,
          0.388963063098211,
          -0.2371670098838761,
          -0.6147208425918225,
          0.18836681164619512,
          -0.06000922585533801,
          -0.024306855718951234,
          -0.009946932894348575,
          -0.2294102414391566,
          -0.10569114890301952,
          0.016617170198265786,
          0.08320429089567707,
          0.07799635108767598,
          -0.20539496698326085,
          -0.01259964755789025,
          0.010581660495570818,
          0.7601654272458959,
          0.29632252738796483,
          -0.1107878832191092,
          0.10842466246342342,
          0.28538956318444153,
          -0.34843755579746755,
          0.5456592956468136,
          -0.4202399357679681,
          -0.34830439493484505,
          0.4233354176825584,
          0.242440189725769,
          -0.03764816823148243,
          0.03332664184432502,
          0.28190288211846504,
          0.6290293264080107,
          0.4796398196265905,
          0.044186167630122286,
          0.13389487393609845,
          -0.5137677638178049,
          -0.3449950383134179,
          0.2191193243019431,
          0.5118555086970015,
          -0.5731822425680029,
          -0.06452275663126848,
          0.28615009116914997,
          -0.20553452435362485,
          0.0458477039272499,
          0.23125646265997063,
          0.15418002392883023,
          -0.44953019194185,
          -0.4988980758707691,
          -0.1145482054754192,
          0.20876316713083773,
          -0.1532338880630898,
          -0.17287518911341904,
          -0.33559229243454164,
          0.7348789367255113,
          0.16218023577073748,
          0.2818358402084806,
          0.02729113214163036,
          0.3226937471730588,
          0.11358659579935587,
          0.29632252738796483,
          0.2925695245967429,
          0.5044826639771799,
          0.17782509063265703,
          -0.12189817186718213,
          0.130481631287848,
          0.7232515634899175,
          0.3629096480853762
         ]
        }
       ],
       "layout": {
        "coloraxis": {
         "colorbar": {
          "title": {
           "text": "color"
          }
         },
         "colorscale": [
          [
           0,
           "#0d0887"
          ],
          [
           0.1111111111111111,
           "#46039f"
          ],
          [
           0.2222222222222222,
           "#7201a8"
          ],
          [
           0.3333333333333333,
           "#9c179e"
          ],
          [
           0.4444444444444444,
           "#bd3786"
          ],
          [
           0.5555555555555556,
           "#d8576b"
          ],
          [
           0.6666666666666666,
           "#ed7953"
          ],
          [
           0.7777777777777778,
           "#fb9f3a"
          ],
          [
           0.8888888888888888,
           "#fdca26"
          ],
          [
           1,
           "#f0f921"
          ]
         ]
        },
        "legend": {
         "tracegroupgap": 0
        },
        "margin": {
         "t": 60
        },
        "scene": {
         "domain": {
          "x": [
           0,
           1
          ],
          "y": [
           0,
           1
          ]
         },
         "xaxis": {
          "title": {
           "text": "0"
          }
         },
         "yaxis": {
          "title": {
           "text": "1"
          }
         },
         "zaxis": {
          "title": {
           "text": "2"
          }
         }
        },
        "template": {
         "data": {
          "bar": [
           {
            "error_x": {
             "color": "#2a3f5f"
            },
            "error_y": {
             "color": "#2a3f5f"
            },
            "marker": {
             "line": {
              "color": "#E5ECF6",
              "width": 0.5
             },
             "pattern": {
              "fillmode": "overlay",
              "size": 10,
              "solidity": 0.2
             }
            },
            "type": "bar"
           }
          ],
          "barpolar": [
           {
            "marker": {
             "line": {
              "color": "#E5ECF6",
              "width": 0.5
             },
             "pattern": {
              "fillmode": "overlay",
              "size": 10,
              "solidity": 0.2
             }
            },
            "type": "barpolar"
           }
          ],
          "carpet": [
           {
            "aaxis": {
             "endlinecolor": "#2a3f5f",
             "gridcolor": "white",
             "linecolor": "white",
             "minorgridcolor": "white",
             "startlinecolor": "#2a3f5f"
            },
            "baxis": {
             "endlinecolor": "#2a3f5f",
             "gridcolor": "white",
             "linecolor": "white",
             "minorgridcolor": "white",
             "startlinecolor": "#2a3f5f"
            },
            "type": "carpet"
           }
          ],
          "choropleth": [
           {
            "colorbar": {
             "outlinewidth": 0,
             "ticks": ""
            },
            "type": "choropleth"
           }
          ],
          "contour": [
           {
            "colorbar": {
             "outlinewidth": 0,
             "ticks": ""
            },
            "colorscale": [
             [
              0,
              "#0d0887"
             ],
             [
              0.1111111111111111,
              "#46039f"
             ],
             [
              0.2222222222222222,
              "#7201a8"
             ],
             [
              0.3333333333333333,
              "#9c179e"
             ],
             [
              0.4444444444444444,
              "#bd3786"
             ],
             [
              0.5555555555555556,
              "#d8576b"
             ],
             [
              0.6666666666666666,
              "#ed7953"
             ],
             [
              0.7777777777777778,
              "#fb9f3a"
             ],
             [
              0.8888888888888888,
              "#fdca26"
             ],
             [
              1,
              "#f0f921"
             ]
            ],
            "type": "contour"
           }
          ],
          "contourcarpet": [
           {
            "colorbar": {
             "outlinewidth": 0,
             "ticks": ""
            },
            "type": "contourcarpet"
           }
          ],
          "heatmap": [
           {
            "colorbar": {
             "outlinewidth": 0,
             "ticks": ""
            },
            "colorscale": [
             [
              0,
              "#0d0887"
             ],
             [
              0.1111111111111111,
              "#46039f"
             ],
             [
              0.2222222222222222,
              "#7201a8"
             ],
             [
              0.3333333333333333,
              "#9c179e"
             ],
             [
              0.4444444444444444,
              "#bd3786"
             ],
             [
              0.5555555555555556,
              "#d8576b"
             ],
             [
              0.6666666666666666,
              "#ed7953"
             ],
             [
              0.7777777777777778,
              "#fb9f3a"
             ],
             [
              0.8888888888888888,
              "#fdca26"
             ],
             [
              1,
              "#f0f921"
             ]
            ],
            "type": "heatmap"
           }
          ],
          "heatmapgl": [
           {
            "colorbar": {
             "outlinewidth": 0,
             "ticks": ""
            },
            "colorscale": [
             [
              0,
              "#0d0887"
             ],
             [
              0.1111111111111111,
              "#46039f"
             ],
             [
              0.2222222222222222,
              "#7201a8"
             ],
             [
              0.3333333333333333,
              "#9c179e"
             ],
             [
              0.4444444444444444,
              "#bd3786"
             ],
             [
              0.5555555555555556,
              "#d8576b"
             ],
             [
              0.6666666666666666,
              "#ed7953"
             ],
             [
              0.7777777777777778,
              "#fb9f3a"
             ],
             [
              0.8888888888888888,
              "#fdca26"
             ],
             [
              1,
              "#f0f921"
             ]
            ],
            "type": "heatmapgl"
           }
          ],
          "histogram": [
           {
            "marker": {
             "pattern": {
              "fillmode": "overlay",
              "size": 10,
              "solidity": 0.2
             }
            },
            "type": "histogram"
           }
          ],
          "histogram2d": [
           {
            "colorbar": {
             "outlinewidth": 0,
             "ticks": ""
            },
            "colorscale": [
             [
              0,
              "#0d0887"
             ],
             [
              0.1111111111111111,
              "#46039f"
             ],
             [
              0.2222222222222222,
              "#7201a8"
             ],
             [
              0.3333333333333333,
              "#9c179e"
             ],
             [
              0.4444444444444444,
              "#bd3786"
             ],
             [
              0.5555555555555556,
              "#d8576b"
             ],
             [
              0.6666666666666666,
              "#ed7953"
             ],
             [
              0.7777777777777778,
              "#fb9f3a"
             ],
             [
              0.8888888888888888,
              "#fdca26"
             ],
             [
              1,
              "#f0f921"
             ]
            ],
            "type": "histogram2d"
           }
          ],
          "histogram2dcontour": [
           {
            "colorbar": {
             "outlinewidth": 0,
             "ticks": ""
            },
            "colorscale": [
             [
              0,
              "#0d0887"
             ],
             [
              0.1111111111111111,
              "#46039f"
             ],
             [
              0.2222222222222222,
              "#7201a8"
             ],
             [
              0.3333333333333333,
              "#9c179e"
             ],
             [
              0.4444444444444444,
              "#bd3786"
             ],
             [
              0.5555555555555556,
              "#d8576b"
             ],
             [
              0.6666666666666666,
              "#ed7953"
             ],
             [
              0.7777777777777778,
              "#fb9f3a"
             ],
             [
              0.8888888888888888,
              "#fdca26"
             ],
             [
              1,
              "#f0f921"
             ]
            ],
            "type": "histogram2dcontour"
           }
          ],
          "mesh3d": [
           {
            "colorbar": {
             "outlinewidth": 0,
             "ticks": ""
            },
            "type": "mesh3d"
           }
          ],
          "parcoords": [
           {
            "line": {
             "colorbar": {
              "outlinewidth": 0,
              "ticks": ""
             }
            },
            "type": "parcoords"
           }
          ],
          "pie": [
           {
            "automargin": true,
            "type": "pie"
           }
          ],
          "scatter": [
           {
            "fillpattern": {
             "fillmode": "overlay",
             "size": 10,
             "solidity": 0.2
            },
            "type": "scatter"
           }
          ],
          "scatter3d": [
           {
            "line": {
             "colorbar": {
              "outlinewidth": 0,
              "ticks": ""
             }
            },
            "marker": {
             "colorbar": {
              "outlinewidth": 0,
              "ticks": ""
             }
            },
            "type": "scatter3d"
           }
          ],
          "scattercarpet": [
           {
            "marker": {
             "colorbar": {
              "outlinewidth": 0,
              "ticks": ""
             }
            },
            "type": "scattercarpet"
           }
          ],
          "scattergeo": [
           {
            "marker": {
             "colorbar": {
              "outlinewidth": 0,
              "ticks": ""
             }
            },
            "type": "scattergeo"
           }
          ],
          "scattergl": [
           {
            "marker": {
             "colorbar": {
              "outlinewidth": 0,
              "ticks": ""
             }
            },
            "type": "scattergl"
           }
          ],
          "scattermapbox": [
           {
            "marker": {
             "colorbar": {
              "outlinewidth": 0,
              "ticks": ""
             }
            },
            "type": "scattermapbox"
           }
          ],
          "scatterpolar": [
           {
            "marker": {
             "colorbar": {
              "outlinewidth": 0,
              "ticks": ""
             }
            },
            "type": "scatterpolar"
           }
          ],
          "scatterpolargl": [
           {
            "marker": {
             "colorbar": {
              "outlinewidth": 0,
              "ticks": ""
             }
            },
            "type": "scatterpolargl"
           }
          ],
          "scatterternary": [
           {
            "marker": {
             "colorbar": {
              "outlinewidth": 0,
              "ticks": ""
             }
            },
            "type": "scatterternary"
           }
          ],
          "surface": [
           {
            "colorbar": {
             "outlinewidth": 0,
             "ticks": ""
            },
            "colorscale": [
             [
              0,
              "#0d0887"
             ],
             [
              0.1111111111111111,
              "#46039f"
             ],
             [
              0.2222222222222222,
              "#7201a8"
             ],
             [
              0.3333333333333333,
              "#9c179e"
             ],
             [
              0.4444444444444444,
              "#bd3786"
             ],
             [
              0.5555555555555556,
              "#d8576b"
             ],
             [
              0.6666666666666666,
              "#ed7953"
             ],
             [
              0.7777777777777778,
              "#fb9f3a"
             ],
             [
              0.8888888888888888,
              "#fdca26"
             ],
             [
              1,
              "#f0f921"
             ]
            ],
            "type": "surface"
           }
          ],
          "table": [
           {
            "cells": {
             "fill": {
              "color": "#EBF0F8"
             },
             "line": {
              "color": "white"
             }
            },
            "header": {
             "fill": {
              "color": "#C8D4E3"
             },
             "line": {
              "color": "white"
             }
            },
            "type": "table"
           }
          ]
         },
         "layout": {
          "annotationdefaults": {
           "arrowcolor": "#2a3f5f",
           "arrowhead": 0,
           "arrowwidth": 1
          },
          "autotypenumbers": "strict",
          "coloraxis": {
           "colorbar": {
            "outlinewidth": 0,
            "ticks": ""
           }
          },
          "colorscale": {
           "diverging": [
            [
             0,
             "#8e0152"
            ],
            [
             0.1,
             "#c51b7d"
            ],
            [
             0.2,
             "#de77ae"
            ],
            [
             0.3,
             "#f1b6da"
            ],
            [
             0.4,
             "#fde0ef"
            ],
            [
             0.5,
             "#f7f7f7"
            ],
            [
             0.6,
             "#e6f5d0"
            ],
            [
             0.7,
             "#b8e186"
            ],
            [
             0.8,
             "#7fbc41"
            ],
            [
             0.9,
             "#4d9221"
            ],
            [
             1,
             "#276419"
            ]
           ],
           "sequential": [
            [
             0,
             "#0d0887"
            ],
            [
             0.1111111111111111,
             "#46039f"
            ],
            [
             0.2222222222222222,
             "#7201a8"
            ],
            [
             0.3333333333333333,
             "#9c179e"
            ],
            [
             0.4444444444444444,
             "#bd3786"
            ],
            [
             0.5555555555555556,
             "#d8576b"
            ],
            [
             0.6666666666666666,
             "#ed7953"
            ],
            [
             0.7777777777777778,
             "#fb9f3a"
            ],
            [
             0.8888888888888888,
             "#fdca26"
            ],
            [
             1,
             "#f0f921"
            ]
           ],
           "sequentialminus": [
            [
             0,
             "#0d0887"
            ],
            [
             0.1111111111111111,
             "#46039f"
            ],
            [
             0.2222222222222222,
             "#7201a8"
            ],
            [
             0.3333333333333333,
             "#9c179e"
            ],
            [
             0.4444444444444444,
             "#bd3786"
            ],
            [
             0.5555555555555556,
             "#d8576b"
            ],
            [
             0.6666666666666666,
             "#ed7953"
            ],
            [
             0.7777777777777778,
             "#fb9f3a"
            ],
            [
             0.8888888888888888,
             "#fdca26"
            ],
            [
             1,
             "#f0f921"
            ]
           ]
          },
          "colorway": [
           "#636efa",
           "#EF553B",
           "#00cc96",
           "#ab63fa",
           "#FFA15A",
           "#19d3f3",
           "#FF6692",
           "#B6E880",
           "#FF97FF",
           "#FECB52"
          ],
          "font": {
           "color": "#2a3f5f"
          },
          "geo": {
           "bgcolor": "white",
           "lakecolor": "white",
           "landcolor": "#E5ECF6",
           "showlakes": true,
           "showland": true,
           "subunitcolor": "white"
          },
          "hoverlabel": {
           "align": "left"
          },
          "hovermode": "closest",
          "mapbox": {
           "style": "light"
          },
          "paper_bgcolor": "white",
          "plot_bgcolor": "#E5ECF6",
          "polar": {
           "angularaxis": {
            "gridcolor": "white",
            "linecolor": "white",
            "ticks": ""
           },
           "bgcolor": "#E5ECF6",
           "radialaxis": {
            "gridcolor": "white",
            "linecolor": "white",
            "ticks": ""
           }
          },
          "scene": {
           "xaxis": {
            "backgroundcolor": "#E5ECF6",
            "gridcolor": "white",
            "gridwidth": 2,
            "linecolor": "white",
            "showbackground": true,
            "ticks": "",
            "zerolinecolor": "white"
           },
           "yaxis": {
            "backgroundcolor": "#E5ECF6",
            "gridcolor": "white",
            "gridwidth": 2,
            "linecolor": "white",
            "showbackground": true,
            "ticks": "",
            "zerolinecolor": "white"
           },
           "zaxis": {
            "backgroundcolor": "#E5ECF6",
            "gridcolor": "white",
            "gridwidth": 2,
            "linecolor": "white",
            "showbackground": true,
            "ticks": "",
            "zerolinecolor": "white"
           }
          },
          "shapedefaults": {
           "line": {
            "color": "#2a3f5f"
           }
          },
          "ternary": {
           "aaxis": {
            "gridcolor": "white",
            "linecolor": "white",
            "ticks": ""
           },
           "baxis": {
            "gridcolor": "white",
            "linecolor": "white",
            "ticks": ""
           },
           "bgcolor": "#E5ECF6",
           "caxis": {
            "gridcolor": "white",
            "linecolor": "white",
            "ticks": ""
           }
          },
          "title": {
           "x": 0.05
          },
          "xaxis": {
           "automargin": true,
           "gridcolor": "white",
           "linecolor": "white",
           "ticks": "",
           "title": {
            "standoff": 15
           },
           "zerolinecolor": "white",
           "zerolinewidth": 2
          },
          "yaxis": {
           "automargin": true,
           "gridcolor": "white",
           "linecolor": "white",
           "ticks": "",
           "title": {
            "standoff": 15
           },
           "zerolinecolor": "white",
           "zerolinewidth": 2
          }
         }
        }
       }
      }
     },
     "metadata": {},
     "output_type": "display_data"
    }
   ],
   "source": [
    "px.scatter_3d(data_frame=pca_df, x=0, y=1, z=2, color=final_df['cluster'])"
   ]
  },
  {
   "cell_type": "code",
   "execution_count": 33,
   "metadata": {},
   "outputs": [],
   "source": [
    "test_df = pd.read_csv('data/test_data.csv')"
   ]
  },
  {
   "cell_type": "code",
   "execution_count": 36,
   "metadata": {},
   "outputs": [
    {
     "data": {
      "text/html": [
       "<div>\n",
       "<style scoped>\n",
       "    .dataframe tbody tr th:only-of-type {\n",
       "        vertical-align: middle;\n",
       "    }\n",
       "\n",
       "    .dataframe tbody tr th {\n",
       "        vertical-align: top;\n",
       "    }\n",
       "\n",
       "    .dataframe thead th {\n",
       "        text-align: right;\n",
       "    }\n",
       "</style>\n",
       "<table border=\"1\" class=\"dataframe\">\n",
       "  <thead>\n",
       "    <tr style=\"text-align: right;\">\n",
       "      <th></th>\n",
       "      <th>0</th>\n",
       "      <th>1</th>\n",
       "      <th>2</th>\n",
       "      <th>3</th>\n",
       "    </tr>\n",
       "  </thead>\n",
       "  <tbody>\n",
       "    <tr>\n",
       "      <th>0</th>\n",
       "      <td>1.00</td>\n",
       "      <td>3.0</td>\n",
       "      <td>1.0</td>\n",
       "      <td>0.10</td>\n",
       "    </tr>\n",
       "    <tr>\n",
       "      <th>1</th>\n",
       "      <td>2.00</td>\n",
       "      <td>4.0</td>\n",
       "      <td>2.0</td>\n",
       "      <td>0.12</td>\n",
       "    </tr>\n",
       "    <tr>\n",
       "      <th>2</th>\n",
       "      <td>1.50</td>\n",
       "      <td>3.0</td>\n",
       "      <td>4.0</td>\n",
       "      <td>0.13</td>\n",
       "    </tr>\n",
       "    <tr>\n",
       "      <th>3</th>\n",
       "      <td>0.50</td>\n",
       "      <td>5.0</td>\n",
       "      <td>6.0</td>\n",
       "      <td>0.16</td>\n",
       "    </tr>\n",
       "    <tr>\n",
       "      <th>4</th>\n",
       "      <td>0.75</td>\n",
       "      <td>4.5</td>\n",
       "      <td>1.0</td>\n",
       "      <td>0.12</td>\n",
       "    </tr>\n",
       "  </tbody>\n",
       "</table>\n",
       "</div>"
      ],
      "text/plain": [
       "      0    1    2     3\n",
       "0  1.00  3.0  1.0  0.10\n",
       "1  2.00  4.0  2.0  0.12\n",
       "2  1.50  3.0  4.0  0.13\n",
       "3  0.50  5.0  6.0  0.16\n",
       "4  0.75  4.5  1.0  0.12"
      ]
     },
     "execution_count": 36,
     "metadata": {},
     "output_type": "execute_result"
    }
   ],
   "source": [
    "test_df.head()"
   ]
  },
  {
   "cell_type": "code",
   "execution_count": 35,
   "metadata": {},
   "outputs": [
    {
     "data": {
      "text/plain": [
       "<seaborn.axisgrid.PairGrid at 0x28b397820>"
      ]
     },
     "execution_count": 35,
     "metadata": {},
     "output_type": "execute_result"
    },
    {
     "data": {
      "image/png": "[encoded data removed]",
      "text/plain": [
       "<Figure size 720x720 with 20 Axes>"
      ]
     },
     "metadata": {
      "needs_background": "light"
     },
     "output_type": "display_data"
    }
   ],
   "source": [
    "sns.pairplot(test_df)"
   ]
  },
  {
   "cell_type": "code",
   "execution_count": 37,
   "metadata": {},
   "outputs": [],
   "source": [
    "pca = PCA()\n",
    "pca_df = pd.DataFrame(pca.fit_transform(test_df))"
   ]
  },
  {
   "cell_type": "code",
   "execution_count": 38,
   "metadata": {},
   "outputs": [
    {
     "data": {
      "text/html": [
       "<div>\n",
       "<style scoped>\n",
       "    .dataframe tbody tr th:only-of-type {\n",
       "        vertical-align: middle;\n",
       "    }\n",
       "\n",
       "    .dataframe tbody tr th {\n",
       "        vertical-align: top;\n",
       "    }\n",
       "\n",
       "    .dataframe thead th {\n",
       "        text-align: right;\n",
       "    }\n",
       "</style>\n",
       "<table border=\"1\" class=\"dataframe\">\n",
       "  <thead>\n",
       "    <tr style=\"text-align: right;\">\n",
       "      <th></th>\n",
       "      <th>0</th>\n",
       "      <th>1</th>\n",
       "      <th>2</th>\n",
       "      <th>3</th>\n",
       "    </tr>\n",
       "  </thead>\n",
       "  <tbody>\n",
       "    <tr>\n",
       "      <th>0</th>\n",
       "      <td>-4.485957</td>\n",
       "      <td>0.079452</td>\n",
       "      <td>-0.267706</td>\n",
       "      <td>0.047304</td>\n",
       "    </tr>\n",
       "    <tr>\n",
       "      <th>1</th>\n",
       "      <td>-3.117103</td>\n",
       "      <td>0.057732</td>\n",
       "      <td>0.789430</td>\n",
       "      <td>-0.045583</td>\n",
       "    </tr>\n",
       "    <tr>\n",
       "      <th>2</th>\n",
       "      <td>-2.552747</td>\n",
       "      <td>-2.140335</td>\n",
       "      <td>0.497355</td>\n",
       "      <td>0.076062</td>\n",
       "    </tr>\n",
       "    <tr>\n",
       "      <th>3</th>\n",
       "      <td>0.300634</td>\n",
       "      <td>-2.435373</td>\n",
       "      <td>-0.374584</td>\n",
       "      <td>-0.032528</td>\n",
       "    </tr>\n",
       "    <tr>\n",
       "      <th>4</th>\n",
       "      <td>-3.340816</td>\n",
       "      <td>1.031598</td>\n",
       "      <td>-0.557376</td>\n",
       "      <td>-0.057857</td>\n",
       "    </tr>\n",
       "  </tbody>\n",
       "</table>\n",
       "</div>"
      ],
      "text/plain": [
       "          0         1         2         3\n",
       "0 -4.485957  0.079452 -0.267706  0.047304\n",
       "1 -3.117103  0.057732  0.789430 -0.045583\n",
       "2 -2.552747 -2.140335  0.497355  0.076062\n",
       "3  0.300634 -2.435373 -0.374584 -0.032528\n",
       "4 -3.340816  1.031598 -0.557376 -0.057857"
      ]
     },
     "execution_count": 38,
     "metadata": {},
     "output_type": "execute_result"
    }
   ],
   "source": [
    "pca_df.head()"
   ]
  },
  {
   "cell_type": "code",
   "execution_count": 39,
   "metadata": {},
   "outputs": [
    {
     "data": {
      "application/vnd.plotly.v1+json": {
       "config": {
        "plotlyServerURL": "https://plot.ly"
       },
       "data": [
        {
         "hovertemplate": "0=%{x}<br>1=%{y}<br>2=%{z}<extra></extra>",
         "legendgroup": "",
         "marker": {
          "color": "#636efa",
          "symbol": "circle"
         },
         "mode": "markers",
         "name": "",
         "scene": "scene",
         "showlegend": false,
         "type": "scatter3d",
         "x": [
          -4.485957497337681,
          -3.117102871310013,
          -2.552746784806008,
          0.3006341775919647,
          -3.340815577219007,
          -3.5435924955894813,
          -2.3682034281197857,
          -1.8587595509247867,
          -1.0344028682182378,
          -2.7681813170691285,
          -0.5087102950714829,
          3.983692966381299,
          0.12164498067415248,
          0.6475920728899662,
          3.3263386776577164,
          4.528285572095364,
          2.817831856345933,
          3.9617454598840616,
          0.3038380782508842,
          0.6246577846800702,
          2.6046071544687783,
          2.357603904745415
         ],
         "y": [
          0.07945161766814476,
          0.05773207105787268,
          -2.1403345488543786,
          -2.4353732671479746,
          1.0315979071807344,
          -0.39562498769911647,
          -0.6799364838628731,
          -1.590311084285617,
          -2.221447831907889,
          0.22257044142907692,
          -3.1091519888569406,
          -0.5287713640090616,
          4.149222250490933,
          3.2309060056188965,
          -1.1498825444332408,
          -2.7160414626427083,
          1.1237669669334036,
          -0.4993269922466605,
          4.202016226657729,
          2.8243866250414134,
          0.5655772038836946,
          -0.021024760015455984
         ],
         "z": [
          -0.26770647459952024,
          0.7894299020448413,
          0.49735476049007193,
          -0.37458418734369775,
          -0.5573764364551128,
          0.058702517341549756,
          0.2984967550906983,
          0.09379175634725455,
          -0.04268667194407914,
          -0.3654289347802787,
          -0.1766731970963903,
          0.11316603437795805,
          0.5735385037455584,
          0.17341117152585458,
          -0.3581017925629134,
          0.06572897893388614,
          0.17585378858454087,
          0.5288415292001936,
          -0.3091650919293222,
          -0.4010560616743699,
          -0.1883482272129516,
          -0.32718862208377725
         ]
        }
       ],
       "layout": {
        "legend": {
         "tracegroupgap": 0
        },
        "margin": {
         "t": 60
        },
        "scene": {
         "domain": {
          "x": [
           0,
           1
          ],
          "y": [
           0,
           1
          ]
         },
         "xaxis": {
          "title": {
           "text": "0"
          }
         },
         "yaxis": {
          "title": {
           "text": "1"
          }
         },
         "zaxis": {
          "title": {
           "text": "2"
          }
         }
        },
        "template": {
         "data": {
          "bar": [
           {
            "error_x": {
             "color": "#2a3f5f"
            },
            "error_y": {
             "color": "#2a3f5f"
            },
            "marker": {
             "line": {
              "color": "#E5ECF6",
              "width": 0.5
             },
             "pattern": {
              "fillmode": "overlay",
              "size": 10,
              "solidity": 0.2
             }
            },
            "type": "bar"
           }
          ],
          "barpolar": [
           {
            "marker": {
             "line": {
              "color": "#E5ECF6",
              "width": 0.5
             },
             "pattern": {
              "fillmode": "overlay",
              "size": 10,
              "solidity": 0.2
             }
            },
            "type": "barpolar"
           }
          ],
          "carpet": [
           {
            "aaxis": {
             "endlinecolor": "#2a3f5f",
             "gridcolor": "white",
             "linecolor": "white",
             "minorgridcolor": "white",
             "startlinecolor": "#2a3f5f"
            },
            "baxis": {
             "endlinecolor": "#2a3f5f",
             "gridcolor": "white",
             "linecolor": "white",
             "minorgridcolor": "white",
             "startlinecolor": "#2a3f5f"
            },
            "type": "carpet"
           }
          ],
          "choropleth": [
           {
            "colorbar": {
             "outlinewidth": 0,
             "ticks": ""
            },
            "type": "choropleth"
           }
          ],
          "contour": [
           {
            "colorbar": {
             "outlinewidth": 0,
             "ticks": ""
            },
            "colorscale": [
             [
              0,
              "#0d0887"
             ],
             [
              0.1111111111111111,
              "#46039f"
             ],
             [
              0.2222222222222222,
              "#7201a8"
             ],
             [
              0.3333333333333333,
              "#9c179e"
             ],
             [
              0.4444444444444444,
              "#bd3786"
             ],
             [
              0.5555555555555556,
              "#d8576b"
             ],
             [
              0.6666666666666666,
              "#ed7953"
             ],
             [
              0.7777777777777778,
              "#fb9f3a"
             ],
             [
              0.8888888888888888,
              "#fdca26"
             ],
             [
              1,
              "#f0f921"
             ]
            ],
            "type": "contour"
           }
          ],
          "contourcarpet": [
           {
            "colorbar": {
             "outlinewidth": 0,
             "ticks": ""
            },
            "type": "contourcarpet"
           }
          ],
          "heatmap": [
           {
            "colorbar": {
             "outlinewidth": 0,
             "ticks": ""
            },
            "colorscale": [
             [
              0,
              "#0d0887"
             ],
             [
              0.1111111111111111,
              "#46039f"
             ],
             [
              0.2222222222222222,
              "#7201a8"
             ],
             [
              0.3333333333333333,
              "#9c179e"
             ],
             [
              0.4444444444444444,
              "#bd3786"
             ],
             [
              0.5555555555555556,
              "#d8576b"
             ],
             [
              0.6666666666666666,
              "#ed7953"
             ],
             [
              0.7777777777777778,
              "#fb9f3a"
             ],
             [
              0.8888888888888888,
              "#fdca26"
             ],
             [
              1,
              "#f0f921"
             ]
            ],
            "type": "heatmap"
           }
          ],
          "heatmapgl": [
           {
            "colorbar": {
             "outlinewidth": 0,
             "ticks": ""
            },
            "colorscale": [
             [
              0,
              "#0d0887"
             ],
             [
              0.1111111111111111,
              "#46039f"
             ],
             [
              0.2222222222222222,
              "#7201a8"
             ],
             [
              0.3333333333333333,
              "#9c179e"
             ],
             [
              0.4444444444444444,
              "#bd3786"
             ],
             [
              0.5555555555555556,
              "#d8576b"
             ],
             [
              0.6666666666666666,
              "#ed7953"
             ],
             [
              0.7777777777777778,
              "#fb9f3a"
             ],
             [
              0.8888888888888888,
              "#fdca26"
             ],
             [
              1,
              "#f0f921"
             ]
            ],
            "type": "heatmapgl"
           }
          ],
          "histogram": [
           {
            "marker": {
             "pattern": {
              "fillmode": "overlay",
              "size": 10,
              "solidity": 0.2
             }
            },
            "type": "histogram"
           }
          ],
          "histogram2d": [
           {
            "colorbar": {
             "outlinewidth": 0,
             "ticks": ""
            },
            "colorscale": [
             [
              0,
              "#0d0887"
             ],
             [
              0.1111111111111111,
              "#46039f"
             ],
             [
              0.2222222222222222,
              "#7201a8"
             ],
             [
              0.3333333333333333,
              "#9c179e"
             ],
             [
              0.4444444444444444,
              "#bd3786"
             ],
             [
              0.5555555555555556,
              "#d8576b"
             ],
             [
              0.6666666666666666,
              "#ed7953"
             ],
             [
              0.7777777777777778,
              "#fb9f3a"
             ],
             [
              0.8888888888888888,
              "#fdca26"
             ],
             [
              1,
              "#f0f921"
             ]
            ],
            "type": "histogram2d"
           }
          ],
          "histogram2dcontour": [
           {
            "colorbar": {
             "outlinewidth": 0,
             "ticks": ""
            },
            "colorscale": [
             [
              0,
              "#0d0887"
             ],
             [
              0.1111111111111111,
              "#46039f"
             ],
             [
              0.2222222222222222,
              "#7201a8"
             ],
             [
              0.3333333333333333,
              "#9c179e"
             ],
             [
              0.4444444444444444,
              "#bd3786"
             ],
             [
              0.5555555555555556,
              "#d8576b"
             ],
             [
              0.6666666666666666,
              "#ed7953"
             ],
             [
              0.7777777777777778,
              "#fb9f3a"
             ],
             [
              0.8888888888888888,
              "#fdca26"
             ],
             [
              1,
              "#f0f921"
             ]
            ],
            "type": "histogram2dcontour"
           }
          ],
          "mesh3d": [
           {
            "colorbar": {
             "outlinewidth": 0,
             "ticks": ""
            },
            "type": "mesh3d"
           }
          ],
          "parcoords": [
           {
            "line": {
             "colorbar": {
              "outlinewidth": 0,
              "ticks": ""
             }
            },
            "type": "parcoords"
           }
          ],
          "pie": [
           {
            "automargin": true,
            "type": "pie"
           }
          ],
          "scatter": [
           {
            "fillpattern": {
             "fillmode": "overlay",
             "size": 10,
             "solidity": 0.2
            },
            "type": "scatter"
           }
          ],
          "scatter3d": [
           {
            "line": {
             "colorbar": {
              "outlinewidth": 0,
              "ticks": ""
             }
            },
            "marker": {
             "colorbar": {
              "outlinewidth": 0,
              "ticks": ""
             }
            },
            "type": "scatter3d"
           }
          ],
          "scattercarpet": [
           {
            "marker": {
             "colorbar": {
              "outlinewidth": 0,
              "ticks": ""
             }
            },
            "type": "scattercarpet"
           }
          ],
          "scattergeo": [
           {
            "marker": {
             "colorbar": {
              "outlinewidth": 0,
              "ticks": ""
             }
            },
            "type": "scattergeo"
           }
          ],
          "scattergl": [
           {
            "marker": {
             "colorbar": {
              "outlinewidth": 0,
              "ticks": ""
             }
            },
            "type": "scattergl"
           }
          ],
          "scattermapbox": [
           {
            "marker": {
             "colorbar": {
              "outlinewidth": 0,
              "ticks": ""
             }
            },
            "type": "scattermapbox"
           }
          ],
          "scatterpolar": [
           {
            "marker": {
             "colorbar": {
              "outlinewidth": 0,
              "ticks": ""
             }
            },
            "type": "scatterpolar"
           }
          ],
          "scatterpolargl": [
           {
            "marker": {
             "colorbar": {
              "outlinewidth": 0,
              "ticks": ""
             }
            },
            "type": "scatterpolargl"
           }
          ],
          "scatterternary": [
           {
            "marker": {
             "colorbar": {
              "outlinewidth": 0,
              "ticks": ""
             }
            },
            "type": "scatterternary"
           }
          ],
          "surface": [
           {
            "colorbar": {
             "outlinewidth": 0,
             "ticks": ""
            },
            "colorscale": [
             [
              0,
              "#0d0887"
             ],
             [
              0.1111111111111111,
              "#46039f"
             ],
             [
              0.2222222222222222,
              "#7201a8"
             ],
             [
              0.3333333333333333,
              "#9c179e"
             ],
             [
              0.4444444444444444,
              "#bd3786"
             ],
             [
              0.5555555555555556,
              "#d8576b"
             ],
             [
              0.6666666666666666,
              "#ed7953"
             ],
             [
              0.7777777777777778,
              "#fb9f3a"
             ],
             [
              0.8888888888888888,
              "#fdca26"
             ],
             [
              1,
              "#f0f921"
             ]
            ],
            "type": "surface"
           }
          ],
          "table": [
           {
            "cells": {
             "fill": {
              "color": "#EBF0F8"
             },
             "line": {
              "color": "white"
             }
            },
            "header": {
             "fill": {
              "color": "#C8D4E3"
             },
             "line": {
              "color": "white"
             }
            },
            "type": "table"
           }
          ]
         },
         "layout": {
          "annotationdefaults": {
           "arrowcolor": "#2a3f5f",
           "arrowhead": 0,
           "arrowwidth": 1
          },
          "autotypenumbers": "strict",
          "coloraxis": {
           "colorbar": {
            "outlinewidth": 0,
            "ticks": ""
           }
          },
          "colorscale": {
           "diverging": [
            [
             0,
             "#8e0152"
            ],
            [
             0.1,
             "#c51b7d"
            ],
            [
             0.2,
             "#de77ae"
            ],
            [
             0.3,
             "#f1b6da"
            ],
            [
             0.4,
             "#fde0ef"
            ],
            [
             0.5,
             "#f7f7f7"
            ],
            [
             0.6,
             "#e6f5d0"
            ],
            [
             0.7,
             "#b8e186"
            ],
            [
             0.8,
             "#7fbc41"
            ],
            [
             0.9,
             "#4d9221"
            ],
            [
             1,
             "#276419"
            ]
           ],
           "sequential": [
            [
             0,
             "#0d0887"
            ],
            [
             0.1111111111111111,
             "#46039f"
            ],
            [
             0.2222222222222222,
             "#7201a8"
            ],
            [
             0.3333333333333333,
             "#9c179e"
            ],
            [
             0.4444444444444444,
             "#bd3786"
            ],
            [
             0.5555555555555556,
             "#d8576b"
            ],
            [
             0.6666666666666666,
             "#ed7953"
            ],
            [
             0.7777777777777778,
             "#fb9f3a"
            ],
            [
             0.8888888888888888,
             "#fdca26"
            ],
            [
             1,
             "#f0f921"
            ]
           ],
           "sequentialminus": [
            [
             0,
             "#0d0887"
            ],
            [
             0.1111111111111111,
             "#46039f"
            ],
            [
             0.2222222222222222,
             "#7201a8"
            ],
            [
             0.3333333333333333,
             "#9c179e"
            ],
            [
             0.4444444444444444,
             "#bd3786"
            ],
            [
             0.5555555555555556,
             "#d8576b"
            ],
            [
             0.6666666666666666,
             "#ed7953"
            ],
            [
             0.7777777777777778,
             "#fb9f3a"
            ],
            [
             0.8888888888888888,
             "#fdca26"
            ],
            [
             1,
             "#f0f921"
            ]
           ]
          },
          "colorway": [
           "#636efa",
           "#EF553B",
           "#00cc96",
           "#ab63fa",
           "#FFA15A",
           "#19d3f3",
           "#FF6692",
           "#B6E880",
           "#FF97FF",
           "#FECB52"
          ],
          "font": {
           "color": "#2a3f5f"
          },
          "geo": {
           "bgcolor": "white",
           "lakecolor": "white",
           "landcolor": "#E5ECF6",
           "showlakes": true,
           "showland": true,
           "subunitcolor": "white"
          },
          "hoverlabel": {
           "align": "left"
          },
          "hovermode": "closest",
          "mapbox": {
           "style": "light"
          },
          "paper_bgcolor": "white",
          "plot_bgcolor": "#E5ECF6",
          "polar": {
           "angularaxis": {
            "gridcolor": "white",
            "linecolor": "white",
            "ticks": ""
           },
           "bgcolor": "#E5ECF6",
           "radialaxis": {
            "gridcolor": "white",
            "linecolor": "white",
            "ticks": ""
           }
          },
          "scene": {
           "xaxis": {
            "backgroundcolor": "#E5ECF6",
            "gridcolor": "white",
            "gridwidth": 2,
            "linecolor": "white",
            "showbackground": true,
            "ticks": "",
            "zerolinecolor": "white"
           },
           "yaxis": {
            "backgroundcolor": "#E5ECF6",
            "gridcolor": "white",
            "gridwidth": 2,
            "linecolor": "white",
            "showbackground": true,
            "ticks": "",
            "zerolinecolor": "white"
           },
           "zaxis": {
            "backgroundcolor": "#E5ECF6",
            "gridcolor": "white",
            "gridwidth": 2,
            "linecolor": "white",
            "showbackground": true,
            "ticks": "",
            "zerolinecolor": "white"
           }
          },
          "shapedefaults": {
           "line": {
            "color": "#2a3f5f"
           }
          },
          "ternary": {
           "aaxis": {
            "gridcolor": "white",
            "linecolor": "white",
            "ticks": ""
           },
           "baxis": {
            "gridcolor": "white",
            "linecolor": "white",
            "ticks": ""
           },
           "bgcolor": "#E5ECF6",
           "caxis": {
            "gridcolor": "white",
            "linecolor": "white",
            "ticks": ""
           }
          },
          "title": {
           "x": 0.05
          },
          "xaxis": {
           "automargin": true,
           "gridcolor": "white",
           "linecolor": "white",
           "ticks": "",
           "title": {
            "standoff": 15
           },
           "zerolinecolor": "white",
           "zerolinewidth": 2
          },
          "yaxis": {
           "automargin": true,
           "gridcolor": "white",
           "linecolor": "white",
           "ticks": "",
           "title": {
            "standoff": 15
           },
           "zerolinecolor": "white",
           "zerolinewidth": 2
          }
         }
        }
       }
      }
     },
     "metadata": {},
     "output_type": "display_data"
    }
   ],
   "source": [
    "px.scatter_3d(pca_df, 0, 1, 2)"
   ]
  },
  {
   "cell_type": "code",
   "execution_count": 40,
   "metadata": {},
   "outputs": [],
   "source": [
    "import random"
   ]
  },
  {
   "cell_type": "code",
   "execution_count": 18,
   "metadata": {},
   "outputs": [],
   "source": [
    "centros = [[0, 0, 0, 0], [6, 0, 0, 2.5], [2.1, 1.6, 1.5, 0]]\n",
    "columns = [0, 1, 2, 3]\n",
    "data = []\n",
    "    \n",
    "for row in range(250):\n",
    "    data.append([])\n",
    "    data[row] = [x + random.gauss(x, 1.5) for x in centros[random.randint(0, 2)]]\n"
   ]
  },
  {
   "cell_type": "code",
   "execution_count": 19,
   "metadata": {},
   "outputs": [],
   "source": [
    "df = pd.DataFrame(data)"
   ]
  },
  {
   "cell_type": "code",
   "execution_count": 25,
   "metadata": {},
   "outputs": [],
   "source": [
    "df.to_csv('./data/example_data1.csv', index=None)"
   ]
  },
  {
   "cell_type": "code",
   "execution_count": 20,
   "metadata": {},
   "outputs": [
    {
     "data": {
      "text/plain": [
       "<seaborn.axisgrid.PairGrid at 0x2873b9d50>"
      ]
     },
     "execution_count": 20,
     "metadata": {},
     "output_type": "execute_result"
    },
    {
     "data": {
      "image/png": "[encoded data removed]",
      "text/plain": [
       "<Figure size 1000x1000 with 20 Axes>"
      ]
     },
     "metadata": {},
     "output_type": "display_data"
    }
   ],
   "source": [
    "sns.pairplot(df)"
   ]
  },
  {
   "cell_type": "code",
   "execution_count": 21,
   "metadata": {},
   "outputs": [],
   "source": [
    "pca = PCA()\n",
    "pca_df = pd.DataFrame(pca.fit_transform(df))"
   ]
  },
  {
   "cell_type": "code",
   "execution_count": 24,
   "metadata": {},
   "outputs": [
    {
     "data": {
      "text/plain": [
       "<AxesSubplot:xlabel='0', ylabel='1'>"
      ]
     },
     "execution_count": 24,
     "metadata": {},
     "output_type": "execute_result"
    },
    {
     "data": {
      "image/png": "[encoded data removed]",
      "text/plain": [
       "<Figure size 640x480 with 1 Axes>"
      ]
     },
     "metadata": {},
     "output_type": "display_data"
    }
   ],
   "source": [
    "sns.scatterplot(data=pca_df, x=0, y=1)"
   ]
  },
  {
   "cell_type": "code",
   "execution_count": 23,
   "metadata": {},
   "outputs": [
    {
     "data": {
      "application/vnd.plotly.v1+json": {
       "config": {
        "plotlyServerURL": "https://plot.ly"
       },
       "data": [
        {
         "hovertemplate": "0=%{x}<br>1=%{y}<br>2=%{z}<extra></extra>",
         "legendgroup": "",
         "marker": {
          "color": "#636efa",
          "symbol": "circle"
         },
         "mode": "markers",
         "name": "",
         "scene": "scene",
         "showlegend": false,
         "type": "scatter3d",
         "x": [
          9.014663024505825,
          7.143919287472053,
          9.503065311001047,
          -8.55974616897806,
          9.022529497785786,
          8.052883131049624,
          -4.827465523121842,
          -3.697608656196135,
          -3.4535982759095427,
          -3.5682165243255755,
          -4.859031255986612,
          -5.715682225164661,
          7.057761951993776,
          -7.451925050891988,
          5.65926278555267,
          5.1391984158228095,
          -3.4940847809889,
          -5.071898436448872,
          -3.0887620112261827,
          -2.5900133302284587,
          -5.371391770674962,
          -1.450022919044601,
          -3.786000515970274,
          -1.538580033050254,
          -5.532936582961504,
          -6.018936356338524,
          6.734156392711686,
          10.01742855817035,
          6.793805407860381,
          -3.162629896047275,
          6.678582709701825,
          -5.751344905835701,
          -6.404570900697223,
          -6.539707564382559,
          -5.279617535725354,
          -1.6130978195777195,
          -5.448300098251859,
          -1.9128432129317923,
          -2.4115825200244756,
          -1.6158135103989042,
          7.271216655922071,
          -6.385618078772827,
          7.428434628363737,
          -2.4553619183924944,
          5.707668105010531,
          -3.7237107814050345,
          -7.301900642717611,
          6.675079910142246,
          -3.8295523872917236,
          4.707371512581674,
          9.406978433066977,
          -2.994186852282955,
          -4.156690745836094,
          -1.2238584914122117,
          -8.157977307039456,
          -5.609719672356058,
          6.832903702149552,
          -4.446255804419449,
          -2.551438720401012,
          7.3869233933988925,
          7.249526961112154,
          -2.4991225139896858,
          -1.2006123981478363,
          -3.802371869203649,
          8.615342008479741,
          -7.165449632213449,
          10.92138672942218,
          5.395875570591579,
          -3.631903690986583,
          -8.45076145357601,
          -5.744689049742568,
          -1.3100971092643918,
          -1.7255156194218308,
          -3.980383362185166,
          -1.79048464952784,
          4.51497990064631,
          7.6222583704365885,
          -1.7482349383095537,
          9.492380426895046,
          -2.0085914777618825,
          -6.135352978950221,
          8.3566357032192,
          -5.154926049323618,
          -3.448234266043821,
          8.254214707134864,
          8.023665882503328,
          -5.696817122889454,
          8.222988829776053,
          8.396146597047323,
          -5.441984911421576,
          6.077229964306025,
          -7.727042706950937,
          -5.955504832104387,
          -0.5362782589250236,
          -6.975724952042466,
          -0.526865351310401,
          -6.218415992500537,
          4.948351428535868,
          -4.702605530761668,
          8.582006404561321,
          -3.177564428352565,
          5.870373706327855,
          -6.812541131216779,
          -4.405398727557624,
          5.265349449043371,
          6.487408304421123,
          -1.8052542732389898,
          -2.645018482693042,
          -5.509546665182659,
          -5.125736066731017,
          0.3290620992079532,
          5.653145219241471,
          -8.855876549623021,
          -2.1125619298748353,
          -3.890652636513407,
          -2.430621308914119,
          0.8873627059502986,
          7.1185601778103536,
          -3.917477247501146,
          -4.793196674933116,
          5.397926775894252,
          -2.129948411541612,
          10.603888123301692,
          -3.1631030705684404,
          -2.750507213818146,
          -0.30722341832393174,
          -1.108955197946424,
          8.605743069091313,
          7.666605894884879,
          -7.039850312270127,
          8.38026418400191,
          5.016539733405638,
          -1.990099974504434,
          -4.671462395965128,
          6.578030475581995,
          -5.19627591762041,
          5.27079011396045,
          -6.277242287810143,
          7.001537877484833,
          -1.4177661620011262,
          -6.1955090134321065,
          -5.6296045028748285,
          -4.917906317698276,
          6.940397939312518,
          -6.681705180089127,
          8.768806472635998,
          5.666010095194494,
          -8.196176876531194,
          -6.420034543186983,
          6.995430402075813,
          6.501115828210336,
          10.568881555963339,
          -1.8926852559353116,
          -2.6159504505554505,
          7.554461394730938,
          6.6907248298042274,
          -6.060587348019285,
          6.467991710271273,
          -7.11342884316055,
          -5.363792771539122,
          -5.4664632699677655,
          -6.926081719785368,
          6.931982212786028,
          5.214558182199043,
          -6.645189866202503,
          -3.391275736590342,
          6.376995410887036,
          6.768412231287722,
          -2.724737179759519,
          6.459983309942416,
          -1.2862255144439987,
          -6.373203562922374,
          6.147485133183575,
          8.980507754639794,
          -3.5965597544384424,
          4.8113930181109,
          -8.049296053874677,
          -6.620276727734402,
          -3.344158342603555,
          5.99786250727891,
          -1.834157595094216,
          -3.2705551928765826,
          -5.557329078833173,
          -3.8781892937589815,
          -1.801817983899098,
          -3.068214371842977,
          -6.108861657640379,
          8.053138742827755,
          -2.623095463045024,
          -6.170973122234158,
          -1.6553487752017673,
          7.80861675169175,
          6.9404947157839985,
          -2.4718602264459495,
          -3.360655985216728,
          -4.574417987431316,
          -4.521882984455641,
          6.701748471288366,
          -5.3213920906700185,
          4.569016445361138,
          5.969357088445598,
          -1.3597837235883188,
          -2.4023610906567057,
          -6.5510751800904234,
          9.051522271360348,
          -5.557130016071154,
          -5.814030758202511,
          7.152511179850134,
          -1.7441768253003913,
          -5.4358146490689,
          -1.6720715010147384,
          -3.8512387624208837,
          8.964622441543629,
          7.029101101440035,
          -5.740066661138685,
          -4.269874352999824,
          -2.796772976354458,
          -7.400946164964399,
          -4.037768928925453,
          -2.612607801795059,
          -6.3336242045778,
          8.82529941119947,
          -2.5682787122330497,
          7.174435811250381,
          -2.549356726418052,
          -2.6016174089771122,
          -4.643602935013849,
          -1.7165969935391965,
          5.308387497276046,
          6.814787527805755,
          -1.5733814019634345,
          6.606992113631077,
          8.540543370378476,
          5.530551638317934,
          -6.2981417915017905,
          8.491846861949034,
          -6.032683532095433,
          -0.16385843051183285,
          -7.269872024912403,
          6.701414479148852,
          6.930154607463769,
          5.07194889650135,
          4.168404835785314,
          -5.22211251688309,
          3.8045298801356497,
          7.61386100051014,
          -3.612794419778867,
          7.436249675911315,
          1.490525383222052,
          -1.9077002801817904
         ],
         "y": [
          2.9448790202692763,
          1.4971668508866174,
          1.5933003885905332,
          -0.025423348121950098,
          0.5999778317489869,
          -0.2971646464253248,
          4.102203230167188,
          1.471914628373882,
          -4.068682612488908,
          -0.5697108519253236,
          4.084860468153543,
          -1.6729656641599795,
          0.5300769959584287,
          3.0770738763637198,
          -0.24760158936256954,
          1.7098764135357147,
          -4.74684035976711,
          -2.8647259528879223,
          -1.3928591515747193,
          -3.738181918122079,
          1.8127625930785025,
          -3.2113603990078703,
          1.123211353134883,
          -4.099983400797323,
          3.2177389736920374,
          4.088595625737481,
          -1.3975744554666594,
          1.1886329860902396,
          2.7740350809518057,
          -5.096570406174074,
          3.6893252786197888,
          -3.9419129085785163,
          0.6701368060628453,
          2.293178089358084,
          1.6857011201057648,
          -3.7793715141839295,
          1.9258407700669034,
          -1.7401477394636091,
          -3.7433668803342437,
          -1.242703690419574,
          -2.175787241553153,
          1.7711940363139216,
          1.9014412226164945,
          -1.7848515020877713,
          1.7326989856492212,
          1.9460483454756425,
          0.6581559049795536,
          1.5071187738074845,
          -3.390918634011586,
          0.13397181123362403,
          2.379066462631873,
          -3.082153309805448,
          3.1240182782537715,
          -2.4995466335852594,
          0.12293756421233566,
          2.735344315986,
          0.2246835914965151,
          0.692606134725369,
          -4.136622627380309,
          0.41734204604028136,
          -0.5343036830051822,
          2.080832469477294,
          -2.896423012486094,
          -0.23380517792849548,
          0.4908624060555465,
          1.7798710472632215,
          -1.3282226512584328,
          0.8173366033337317,
          -2.2653887470601792,
          6.162025492575921,
          0.8213846828634879,
          -4.555055184128683,
          -4.654207092517125,
          3.051388224417344,
          -2.4128759003765707,
          1.0899571605188336,
          0.39897469865801444,
          -4.14876673546343,
          1.0670383439512077,
          -2.860870827632471,
          -0.20668065865312182,
          1.6156531785831327,
          2.8511677451038895,
          -3.9575404585377556,
          0.012703840394988026,
          0.7715155909557047,
          3.2290198055837744,
          1.3233659812050036,
          0.7761109162865206,
          2.221721183049061,
          -1.3378139372932516,
          4.445867946839926,
          2.715224426551228,
          -3.8265159788739442,
          1.1326404142162698,
          -1.7027761639123933,
          2.6721451532796725,
          4.161799803682741,
          1.4876053219334877,
          -2.6734198605610855,
          -6.133269887377667,
          -0.865679232744395,
          2.5699542427831354,
          -3.994998094230063,
          0.5379740834156962,
          3.279044652451188,
          -5.823268766748579,
          -3.6130670526105226,
          -2.431885679676749,
          0.10026677706397961,
          -2.1357362451697655,
          3.7547629834880403,
          -0.2775853266061602,
          -3.082107817083142,
          -2.1392139279608284,
          3.414214988079226,
          -2.9275513860949784,
          0.24602101124094017,
          0.25535254493525067,
          1.0093467834082248,
          0.6036868782156178,
          -1.72321815322135,
          -1.4560241476250864,
          4.4206663477078445,
          -1.8172491645602546,
          -1.5589580045381657,
          0.16498131464876747,
          0.420725217867278,
          1.8838381469507195,
          3.2259753868623067,
          -1.3844858624453695,
          -0.07287970384388107,
          -1.4795502367970086,
          1.130968243071797,
          1.2000982121347976,
          2.169763609346678,
          -0.01817039662887811,
          1.1557130702073604,
          0.8215797998452633,
          -0.7845565648238682,
          3.0028402753284342,
          -2.2171647519548108,
          2.9717907321366788,
          0.4603979305941642,
          2.922932846332223,
          1.1365000616106926,
          0.9381089195747461,
          0.9009287558632433,
          1.0015281304091417,
          0.7996178224698923,
          -1.7621306171608924,
          0.050946333642994154,
          -3.8006036445344926,
          -3.2551374947289102,
          0.7329690702971076,
          2.615308307264715,
          1.1860914175808432,
          -0.8002452650397144,
          3.610031253781358,
          5.876890632219161,
          1.4546856945964175,
          3.4579450151440194,
          0.7101300008326257,
          -0.29385561175940844,
          2.30249975482402,
          3.1759585803072943,
          -0.3756740309679919,
          -2.9488593705284405,
          -3.764444873062125,
          2.688883489362775,
          -1.8842833695528793,
          1.6615279666350522,
          1.1640494386970213,
          -3.8523829558474794,
          -5.326944197909294,
          -0.04762854820986159,
          0.05655653519564833,
          1.7894549217820912,
          -1.8784436368678492,
          0.26909304467331846,
          1.6318209060070938,
          -2.996412330007637,
          1.5402369163126253,
          -3.4550175532520577,
          -2.6942108749954863,
          -2.308555289295818,
          -0.2102392806351524,
          0.856439063556464,
          -2.668166567620228,
          3.871544227095558,
          -2.4680079051018775,
          -0.417710437619077,
          -1.5459521707957402,
          -2.298857487788164,
          -5.757909713489276,
          2.8861783162632233,
          3.199577497243038,
          0.5965504100313412,
          3.9257307721254207,
          1.5471261354964574,
          -1.4896149812159727,
          -2.922011561900545,
          -5.534291937740017,
          2.0682250820500916,
          1.2816142577718197,
          1.3198598057993705,
          -1.9228686258026058,
          2.7068397950053944,
          -4.7290558043827176,
          4.000756029876621,
          -1.6541534650953256,
          -2.2341224225781526,
          0.32894714326909447,
          0.2979133106801914,
          3.4948458987282187,
          4.151085994006114,
          -2.1698583584333475,
          0.6647265117223352,
          0.3252402235429036,
          -2.491066468451829,
          0.06601300914242363,
          1.0575001939238273,
          -3.0001542812030637,
          0.7556852534411294,
          -4.1258789973423635,
          -2.3997806635200676,
          -0.23477158756194494,
          -1.5804452020212287,
          -0.6887399498277953,
          0.48162211573389907,
          -3.0715394177495052,
          0.4153356773520056,
          -0.6774876609608296,
          3.8366164648457914,
          0.7104791348348515,
          1.1702868456120732,
          2.0242716013881923,
          -2.6691829281075603,
          4.403629934204256,
          3.0212383847273347,
          0.9286053060606971,
          -1.0873893088530888,
          2.44185333639996,
          2.075442530054389,
          -0.768362514945144,
          3.4966097808482344,
          -2.0818778205830775,
          0.9281026939532697,
          -1.6726612176852649,
          -3.919177762287546
         ],
         "z": [
          2.2409678329108096,
          -0.7875378310878582,
          -2.047817647274345,
          -0.011227199401978515,
          3.2842942304740066,
          -0.7112299413467168,
          1.5967474628877605,
          0.7957807352916959,
          1.0040440846137522,
          -0.8832680413958197,
          1.4776403295417058,
          -0.8446371122857267,
          2.8492100304215913,
          -1.4936522509720882,
          -0.6417076097676898,
          0.8445589673316847,
          1.9788853570286984,
          3.0800222189103,
          -2.0723614731863456,
          -0.3113553893405032,
          0.757760713142414,
          -0.08610295082091887,
          2.0087138608528003,
          -0.9554509821422142,
          -0.493186456001747,
          1.3656077086370288,
          0.32791058782553856,
          -0.6227092635207218,
          1.955548983491731,
          0.9313353243376746,
          0.31148947747549816,
          2.6015190437693567,
          -1.38796512057197,
          -0.4107100687411129,
          -0.7259451984255137,
          -1.0734771515316903,
          0.6527004037344459,
          -2.0147486478859578,
          1.002193803984762,
          -3.2599444946923453,
          3.4362502985257914,
          -0.753764455492415,
          -0.08467237993274786,
          -1.9011424416043785,
          -1.1220613121449288,
          2.2436498024070075,
          -0.6380613624730782,
          -0.44612090230744345,
          -0.15039400584186646,
          2.535232169618475,
          -1.6344765905641419,
          -0.2023330904627296,
          -0.4313107338887521,
          -0.4041778203991483,
          1.6821502808294637,
          1.5554032712435815,
          -0.00975801894850989,
          -0.002736361297857659,
          -0.8904319963311748,
          -0.5935803245103972,
          0.212336965590626,
          -0.31940706887634024,
          0.650627010100404,
          0.5917090116350349,
          0.4683744866771466,
          0.9311489791747901,
          -2.2064908940533594,
          1.2952276688267856,
          -0.26798292485472913,
          -1.49705932867393,
          0.981750431694498,
          2.6773723611540383,
          0.6861532337007139,
          -0.04180703266544219,
          -1.1437232947115512,
          0.20236416452327805,
          0.13607252570383946,
          -2.0127511589509703,
          1.4984627185950845,
          2.856628930821276,
          0.35173423361482,
          -1.7741770184307055,
          0.08838683242345712,
          1.2605729131401835,
          -1.0580821609236877,
          -0.09158130261849809,
          1.4716243811612648,
          0.41194166079357025,
          0.9559993158764101,
          -1.9459108543222812,
          2.972168923306472,
          0.36705481400492523,
          1.9572855797330355,
          -0.3761271124612901,
          3.082936552125575,
          -0.05885540587190806,
          1.752272675564446,
          -0.9166294452209749,
          -0.7097510195193883,
          0.17051753868325706,
          0.5785367063562934,
          2.384336733054805,
          -2.8137634527153543,
          0.6473427428187837,
          1.0788229667209364,
          -0.9393807256484328,
          0.43900533065406994,
          -0.025461831446677442,
          -0.6268683013388415,
          -2.4167886591332497,
          -1.9557473546650872,
          -2.242126543885048,
          -1.6216609519857457,
          0.7303729188543477,
          -0.7386525736266796,
          1.0953774050965894,
          -0.36326744908186026,
          -0.0019007180095712744,
          -2.004713683142468,
          -1.8736198707947387,
          0.025859327788666637,
          -0.3770176306626757,
          -1.103873530911879,
          -2.034341897835841,
          0.7463160958383668,
          0.048622657245854316,
          -0.022631744921462638,
          -2.1294842682132664,
          1.7156283779833563,
          -1.5788296324393223,
          -0.5099302751957675,
          1.4839373459481313,
          0.7728661533721478,
          -3.0697887337288963,
          0.1367358970095677,
          -1.4566765233996262,
          -0.7953355999645283,
          2.002127284779252,
          -1.9421468501886292,
          1.3541751059296117,
          2.6105480353664867,
          0.24342984228704995,
          -1.637847207405853,
          0.33160818642680895,
          -2.380081960822885,
          -2.276823683172164,
          1.3795059999593526,
          -1.2675080840896547,
          -1.3569933539851833,
          0.02758970508840589,
          -0.12300551748404444,
          -0.7457426888598794,
          -0.4839212660194053,
          0.3003351449603344,
          -2.045027810986758,
          0.8572996011202247,
          -2.327912414546973,
          0.026646831173309547,
          0.09429269371182024,
          -0.923450686359082,
          -0.6441682451221384,
          -0.45039589607145175,
          -1.0658478468005141,
          2.922310169718291,
          1.4886866865126944,
          -0.8936572205096148,
          -1.6507483315860128,
          2.2587036571773633,
          1.096793042726039,
          0.25307926262691516,
          3.446439263228839,
          0.4257032923512089,
          1.225244213876625,
          0.3464945656837621,
          0.051393560014044534,
          -3.296567771870601,
          -2.2357039950052515,
          0.23666333429824096,
          2.148868368829118,
          -0.6407806784455458,
          -0.16654453103087682,
          -0.3259959839834388,
          -0.5529299392730368,
          -1.5754070959896314,
          -2.0836957041085094,
          -1.4476670509300598,
          -0.27461725860293823,
          4.184852959489577,
          2.4855062691149428,
          -0.09901988577283949,
          4.040152036596754,
          -0.8537860751694719,
          0.9762005445115325,
          3.370475352978499,
          -0.6636174418228576,
          -0.6666511581994333,
          1.0073088900955656,
          1.4173987053017172,
          1.9604310778627108,
          1.5664662073538123,
          -3.9452600988866573,
          -0.7246855001280004,
          -1.8610538339502631,
          0.8768729482809388,
          -1.0753085181334558,
          -1.7710948746967539,
          2.0657652456798643,
          -0.9868461482771088,
          -0.3991669017846858,
          0.9907286004503922,
          0.6809860459857565,
          0.6283490385330865,
          -3.3376034940990307,
          -1.7967336745235372,
          1.5928817892790885,
          0.4536723588912162,
          -1.0001068947841854,
          0.29054730777230137,
          3.330885346070259,
          -2.934955972166127,
          -1.1820221322155882,
          -1.4442998408488499,
          -1.7746232458653126,
          3.0366849785116776,
          -3.0985096835243255,
          -2.2988773337244877,
          -1.7382875638407498,
          1.0504139707927782,
          -0.5750236178136405,
          1.6509021723115436,
          0.2913314105607636,
          -0.6220553671954617,
          -0.8463060124868785,
          0.5356455231444643,
          0.9011187918027787,
          -0.37840460083328703,
          -0.8374647277501901,
          -0.6698476800453523,
          0.5470838993564939,
          -2.2800453395057465,
          -0.02293980575380455,
          0.9490422027868798,
          -0.1651101499826341,
          2.0121419200356225,
          -3.8457842166118583,
          3.1159862051897513,
          0.707301385040606,
          1.0665441351204072,
          0.1047809001493025,
          -1.5175621484137927
         ]
        }
       ],
       "layout": {
        "legend": {
         "tracegroupgap": 0
        },
        "margin": {
         "t": 60
        },
        "scene": {
         "domain": {
          "x": [
           0,
           1
          ],
          "y": [
           0,
           1
          ]
         },
         "xaxis": {
          "title": {
           "text": "0"
          }
         },
         "yaxis": {
          "title": {
           "text": "1"
          }
         },
         "zaxis": {
          "title": {
           "text": "2"
          }
         }
        },
        "template": {
         "data": {
          "bar": [
           {
            "error_x": {
             "color": "#2a3f5f"
            },
            "error_y": {
             "color": "#2a3f5f"
            },
            "marker": {
             "line": {
              "color": "#E5ECF6",
              "width": 0.5
             },
             "pattern": {
              "fillmode": "overlay",
              "size": 10,
              "solidity": 0.2
             }
            },
            "type": "bar"
           }
          ],
          "barpolar": [
           {
            "marker": {
             "line": {
              "color": "#E5ECF6",
              "width": 0.5
             },
             "pattern": {
              "fillmode": "overlay",
              "size": 10,
              "solidity": 0.2
             }
            },
            "type": "barpolar"
           }
          ],
          "carpet": [
           {
            "aaxis": {
             "endlinecolor": "#2a3f5f",
             "gridcolor": "white",
             "linecolor": "white",
             "minorgridcolor": "white",
             "startlinecolor": "#2a3f5f"
            },
            "baxis": {
             "endlinecolor": "#2a3f5f",
             "gridcolor": "white",
             "linecolor": "white",
             "minorgridcolor": "white",
             "startlinecolor": "#2a3f5f"
            },
            "type": "carpet"
           }
          ],
          "choropleth": [
           {
            "colorbar": {
             "outlinewidth": 0,
             "ticks": ""
            },
            "type": "choropleth"
           }
          ],
          "contour": [
           {
            "colorbar": {
             "outlinewidth": 0,
             "ticks": ""
            },
            "colorscale": [
             [
              0,
              "#0d0887"
             ],
             [
              0.1111111111111111,
              "#46039f"
             ],
             [
              0.2222222222222222,
              "#7201a8"
             ],
             [
              0.3333333333333333,
              "#9c179e"
             ],
             [
              0.4444444444444444,
              "#bd3786"
             ],
             [
              0.5555555555555556,
              "#d8576b"
             ],
             [
              0.6666666666666666,
              "#ed7953"
             ],
             [
              0.7777777777777778,
              "#fb9f3a"
             ],
             [
              0.8888888888888888,
              "#fdca26"
             ],
             [
              1,
              "#f0f921"
             ]
            ],
            "type": "contour"
           }
          ],
          "contourcarpet": [
           {
            "colorbar": {
             "outlinewidth": 0,
             "ticks": ""
            },
            "type": "contourcarpet"
           }
          ],
          "heatmap": [
           {
            "colorbar": {
             "outlinewidth": 0,
             "ticks": ""
            },
            "colorscale": [
             [
              0,
              "#0d0887"
             ],
             [
              0.1111111111111111,
              "#46039f"
             ],
             [
              0.2222222222222222,
              "#7201a8"
             ],
             [
              0.3333333333333333,
              "#9c179e"
             ],
             [
              0.4444444444444444,
              "#bd3786"
             ],
             [
              0.5555555555555556,
              "#d8576b"
             ],
             [
              0.6666666666666666,
              "#ed7953"
             ],
             [
              0.7777777777777778,
              "#fb9f3a"
             ],
             [
              0.8888888888888888,
              "#fdca26"
             ],
             [
              1,
              "#f0f921"
             ]
            ],
            "type": "heatmap"
           }
          ],
          "heatmapgl": [
           {
            "colorbar": {
             "outlinewidth": 0,
             "ticks": ""
            },
            "colorscale": [
             [
              0,
              "#0d0887"
             ],
             [
              0.1111111111111111,
              "#46039f"
             ],
             [
              0.2222222222222222,
              "#7201a8"
             ],
             [
              0.3333333333333333,
              "#9c179e"
             ],
             [
              0.4444444444444444,
              "#bd3786"
             ],
             [
              0.5555555555555556,
              "#d8576b"
             ],
             [
              0.6666666666666666,
              "#ed7953"
             ],
             [
              0.7777777777777778,
              "#fb9f3a"
             ],
             [
              0.8888888888888888,
              "#fdca26"
             ],
             [
              1,
              "#f0f921"
             ]
            ],
            "type": "heatmapgl"
           }
          ],
          "histogram": [
           {
            "marker": {
             "pattern": {
              "fillmode": "overlay",
              "size": 10,
              "solidity": 0.2
             }
            },
            "type": "histogram"
           }
          ],
          "histogram2d": [
           {
            "colorbar": {
             "outlinewidth": 0,
             "ticks": ""
            },
            "colorscale": [
             [
              0,
              "#0d0887"
             ],
             [
              0.1111111111111111,
              "#46039f"
             ],
             [
              0.2222222222222222,
              "#7201a8"
             ],
             [
              0.3333333333333333,
              "#9c179e"
             ],
             [
              0.4444444444444444,
              "#bd3786"
             ],
             [
              0.5555555555555556,
              "#d8576b"
             ],
             [
              0.6666666666666666,
              "#ed7953"
             ],
             [
              0.7777777777777778,
              "#fb9f3a"
             ],
             [
              0.8888888888888888,
              "#fdca26"
             ],
             [
              1,
              "#f0f921"
             ]
            ],
            "type": "histogram2d"
           }
          ],
          "histogram2dcontour": [
           {
            "colorbar": {
             "outlinewidth": 0,
             "ticks": ""
            },
            "colorscale": [
             [
              0,
              "#0d0887"
             ],
             [
              0.1111111111111111,
              "#46039f"
             ],
             [
              0.2222222222222222,
              "#7201a8"
             ],
             [
              0.3333333333333333,
              "#9c179e"
             ],
             [
              0.4444444444444444,
              "#bd3786"
             ],
             [
              0.5555555555555556,
              "#d8576b"
             ],
             [
              0.6666666666666666,
              "#ed7953"
             ],
             [
              0.7777777777777778,
              "#fb9f3a"
             ],
             [
              0.8888888888888888,
              "#fdca26"
             ],
             [
              1,
              "#f0f921"
             ]
            ],
            "type": "histogram2dcontour"
           }
          ],
          "mesh3d": [
           {
            "colorbar": {
             "outlinewidth": 0,
             "ticks": ""
            },
            "type": "mesh3d"
           }
          ],
          "parcoords": [
           {
            "line": {
             "colorbar": {
              "outlinewidth": 0,
              "ticks": ""
             }
            },
            "type": "parcoords"
           }
          ],
          "pie": [
           {
            "automargin": true,
            "type": "pie"
           }
          ],
          "scatter": [
           {
            "fillpattern": {
             "fillmode": "overlay",
             "size": 10,
             "solidity": 0.2
            },
            "type": "scatter"
           }
          ],
          "scatter3d": [
           {
            "line": {
             "colorbar": {
              "outlinewidth": 0,
              "ticks": ""
             }
            },
            "marker": {
             "colorbar": {
              "outlinewidth": 0,
              "ticks": ""
             }
            },
            "type": "scatter3d"
           }
          ],
          "scattercarpet": [
           {
            "marker": {
             "colorbar": {
              "outlinewidth": 0,
              "ticks": ""
             }
            },
            "type": "scattercarpet"
           }
          ],
          "scattergeo": [
           {
            "marker": {
             "colorbar": {
              "outlinewidth": 0,
              "ticks": ""
             }
            },
            "type": "scattergeo"
           }
          ],
          "scattergl": [
           {
            "marker": {
             "colorbar": {
              "outlinewidth": 0,
              "ticks": ""
             }
            },
            "type": "scattergl"
           }
          ],
          "scattermapbox": [
           {
            "marker": {
             "colorbar": {
              "outlinewidth": 0,
              "ticks": ""
             }
            },
            "type": "scattermapbox"
           }
          ],
          "scatterpolar": [
           {
            "marker": {
             "colorbar": {
              "outlinewidth": 0,
              "ticks": ""
             }
            },
            "type": "scatterpolar"
           }
          ],
          "scatterpolargl": [
           {
            "marker": {
             "colorbar": {
              "outlinewidth": 0,
              "ticks": ""
             }
            },
            "type": "scatterpolargl"
           }
          ],
          "scatterternary": [
           {
            "marker": {
             "colorbar": {
              "outlinewidth": 0,
              "ticks": ""
             }
            },
            "type": "scatterternary"
           }
          ],
          "surface": [
           {
            "colorbar": {
             "outlinewidth": 0,
             "ticks": ""
            },
            "colorscale": [
             [
              0,
              "#0d0887"
             ],
             [
              0.1111111111111111,
              "#46039f"
             ],
             [
              0.2222222222222222,
              "#7201a8"
             ],
             [
              0.3333333333333333,
              "#9c179e"
             ],
             [
              0.4444444444444444,
              "#bd3786"
             ],
             [
              0.5555555555555556,
              "#d8576b"
             ],
             [
              0.6666666666666666,
              "#ed7953"
             ],
             [
              0.7777777777777778,
              "#fb9f3a"
             ],
             [
              0.8888888888888888,
              "#fdca26"
             ],
             [
              1,
              "#f0f921"
             ]
            ],
            "type": "surface"
           }
          ],
          "table": [
           {
            "cells": {
             "fill": {
              "color": "#EBF0F8"
             },
             "line": {
              "color": "white"
             }
            },
            "header": {
             "fill": {
              "color": "#C8D4E3"
             },
             "line": {
              "color": "white"
             }
            },
            "type": "table"
           }
          ]
         },
         "layout": {
          "annotationdefaults": {
           "arrowcolor": "#2a3f5f",
           "arrowhead": 0,
           "arrowwidth": 1
          },
          "autotypenumbers": "strict",
          "coloraxis": {
           "colorbar": {
            "outlinewidth": 0,
            "ticks": ""
           }
          },
          "colorscale": {
           "diverging": [
            [
             0,
             "#8e0152"
            ],
            [
             0.1,
             "#c51b7d"
            ],
            [
             0.2,
             "#de77ae"
            ],
            [
             0.3,
             "#f1b6da"
            ],
            [
             0.4,
             "#fde0ef"
            ],
            [
             0.5,
             "#f7f7f7"
            ],
            [
             0.6,
             "#e6f5d0"
            ],
            [
             0.7,
             "#b8e186"
            ],
            [
             0.8,
             "#7fbc41"
            ],
            [
             0.9,
             "#4d9221"
            ],
            [
             1,
             "#276419"
            ]
           ],
           "sequential": [
            [
             0,
             "#0d0887"
            ],
            [
             0.1111111111111111,
             "#46039f"
            ],
            [
             0.2222222222222222,
             "#7201a8"
            ],
            [
             0.3333333333333333,
             "#9c179e"
            ],
            [
             0.4444444444444444,
             "#bd3786"
            ],
            [
             0.5555555555555556,
             "#d8576b"
            ],
            [
             0.6666666666666666,
             "#ed7953"
            ],
            [
             0.7777777777777778,
             "#fb9f3a"
            ],
            [
             0.8888888888888888,
             "#fdca26"
            ],
            [
             1,
             "#f0f921"
            ]
           ],
           "sequentialminus": [
            [
             0,
             "#0d0887"
            ],
            [
             0.1111111111111111,
             "#46039f"
            ],
            [
             0.2222222222222222,
             "#7201a8"
            ],
            [
             0.3333333333333333,
             "#9c179e"
            ],
            [
             0.4444444444444444,
             "#bd3786"
            ],
            [
             0.5555555555555556,
             "#d8576b"
            ],
            [
             0.6666666666666666,
             "#ed7953"
            ],
            [
             0.7777777777777778,
             "#fb9f3a"
            ],
            [
             0.8888888888888888,
             "#fdca26"
            ],
            [
             1,
             "#f0f921"
            ]
           ]
          },
          "colorway": [
           "#636efa",
           "#EF553B",
           "#00cc96",
           "#ab63fa",
           "#FFA15A",
           "#19d3f3",
           "#FF6692",
           "#B6E880",
           "#FF97FF",
           "#FECB52"
          ],
          "font": {
           "color": "#2a3f5f"
          },
          "geo": {
           "bgcolor": "white",
           "lakecolor": "white",
           "landcolor": "#E5ECF6",
           "showlakes": true,
           "showland": true,
           "subunitcolor": "white"
          },
          "hoverlabel": {
           "align": "left"
          },
          "hovermode": "closest",
          "mapbox": {
           "style": "light"
          },
          "paper_bgcolor": "white",
          "plot_bgcolor": "#E5ECF6",
          "polar": {
           "angularaxis": {
            "gridcolor": "white",
            "linecolor": "white",
            "ticks": ""
           },
           "bgcolor": "#E5ECF6",
           "radialaxis": {
            "gridcolor": "white",
            "linecolor": "white",
            "ticks": ""
           }
          },
          "scene": {
           "xaxis": {
            "backgroundcolor": "#E5ECF6",
            "gridcolor": "white",
            "gridwidth": 2,
            "linecolor": "white",
            "showbackground": true,
            "ticks": "",
            "zerolinecolor": "white"
           },
           "yaxis": {
            "backgroundcolor": "#E5ECF6",
            "gridcolor": "white",
            "gridwidth": 2,
            "linecolor": "white",
            "showbackground": true,
            "ticks": "",
            "zerolinecolor": "white"
           },
           "zaxis": {
            "backgroundcolor": "#E5ECF6",
            "gridcolor": "white",
            "gridwidth": 2,
            "linecolor": "white",
            "showbackground": true,
            "ticks": "",
            "zerolinecolor": "white"
           }
          },
          "shapedefaults": {
           "line": {
            "color": "#2a3f5f"
           }
          },
          "ternary": {
           "aaxis": {
            "gridcolor": "white",
            "linecolor": "white",
            "ticks": ""
           },
           "baxis": {
            "gridcolor": "white",
            "linecolor": "white",
            "ticks": ""
           },
           "bgcolor": "#E5ECF6",
           "caxis": {
            "gridcolor": "white",
            "linecolor": "white",
            "ticks": ""
           }
          },
          "title": {
           "x": 0.05
          },
          "xaxis": {
           "automargin": true,
           "gridcolor": "white",
           "linecolor": "white",
           "ticks": "",
           "title": {
            "standoff": 15
           },
           "zerolinecolor": "white",
           "zerolinewidth": 2
          },
          "yaxis": {
           "automargin": true,
           "gridcolor": "white",
           "linecolor": "white",
           "ticks": "",
           "title": {
            "standoff": 15
           },
           "zerolinecolor": "white",
           "zerolinewidth": 2
          }
         }
        }
       }
      }
     },
     "metadata": {},
     "output_type": "display_data"
    }
   ],
   "source": [
    "px.scatter_3d(pca_df, 0, 1, 2)"
   ]
  },
  {
   "cell_type": "code",
   "execution_count": null,
   "metadata": {},
   "outputs": [],
   "source": []
  }
 ],
 "metadata": {
  "kernelspec": {
   "display_name": "Python 3.10.5 ('BD-PCA-project-fK0JjJEi')",
   "language": "python",
   "name": "python3"
  },
  "language_info": {
   "codemirror_mode": {
    "name": "ipython",
    "version": 3
   },
   "file_extension": ".py",
   "mimetype": "text/x-python",
   "name": "python",
   "nbconvert_exporter": "python",
   "pygments_lexer": "ipython3",
   "version": "3.10.5"
  },
  "orig_nbformat": 4,
  "vscode": {
   "interpreter": {
    "hash": "ab57f9982d8eb30c69f00f4a3c6f9da5a93d1b963ffde87525f0e2e443b8fb81"
   }
  }
 },
 "nbformat": 4,
 "nbformat_minor": 2
}
