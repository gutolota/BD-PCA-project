{
 "cells": [
  {
   "cell_type": "markdown",
   "metadata": {},
   "source": [
    "# Importações de modulos necessários"
   ]
  },
  {
   "cell_type": "code",
   "execution_count": 19,
   "metadata": {},
   "outputs": [],
   "source": [
    "import pandas as pd\n",
    "import seaborn as sns\n",
    "import plotly.express as px\n",
    "import matplotlib.pyplot as plt\n",
    "from sklearn.datasets import load_iris\n",
    "from sklearn.cluster import KMeans\n",
    "from sklearn.decomposition import PCA\n",
    "from sklearn.preprocessing import MinMaxScaler\n"
   ]
  },
  {
   "cell_type": "markdown",
   "metadata": {},
   "source": [
    "# Aquisição dos dados"
   ]
  },
  {
   "cell_type": "code",
   "execution_count": 5,
   "metadata": {},
   "outputs": [],
   "source": [
    "data = load_iris()\n",
    "iris_df = pd.DataFrame(data=data.data, columns=data.feature_names)"
   ]
  },
  {
   "cell_type": "code",
   "execution_count": null,
   "metadata": {},
   "outputs": [
    {
     "data": {
      "text/html": [
       "<div>\n",
       "<style scoped>\n",
       "    .dataframe tbody tr th:only-of-type {\n",
       "        vertical-align: middle;\n",
       "    }\n",
       "\n",
       "    .dataframe tbody tr th {\n",
       "        vertical-align: top;\n",
       "    }\n",
       "\n",
       "    .dataframe thead th {\n",
       "        text-align: right;\n",
       "    }\n",
       "</style>\n",
       "<table border=\"1\" class=\"dataframe\">\n",
       "  <thead>\n",
       "    <tr style=\"text-align: right;\">\n",
       "      <th></th>\n",
       "      <th>sepal length (cm)</th>\n",
       "      <th>sepal width (cm)</th>\n",
       "      <th>petal length (cm)</th>\n",
       "      <th>petal width (cm)</th>\n",
       "    </tr>\n",
       "  </thead>\n",
       "  <tbody>\n",
       "    <tr>\n",
       "      <th>0</th>\n",
       "      <td>5.1</td>\n",
       "      <td>3.5</td>\n",
       "      <td>1.4</td>\n",
       "      <td>0.2</td>\n",
       "    </tr>\n",
       "    <tr>\n",
       "      <th>1</th>\n",
       "      <td>4.9</td>\n",
       "      <td>3.0</td>\n",
       "      <td>1.4</td>\n",
       "      <td>0.2</td>\n",
       "    </tr>\n",
       "    <tr>\n",
       "      <th>2</th>\n",
       "      <td>4.7</td>\n",
       "      <td>3.2</td>\n",
       "      <td>1.3</td>\n",
       "      <td>0.2</td>\n",
       "    </tr>\n",
       "    <tr>\n",
       "      <th>3</th>\n",
       "      <td>4.6</td>\n",
       "      <td>3.1</td>\n",
       "      <td>1.5</td>\n",
       "      <td>0.2</td>\n",
       "    </tr>\n",
       "    <tr>\n",
       "      <th>4</th>\n",
       "      <td>5.0</td>\n",
       "      <td>3.6</td>\n",
       "      <td>1.4</td>\n",
       "      <td>0.2</td>\n",
       "    </tr>\n",
       "  </tbody>\n",
       "</table>\n",
       "</div>"
      ],
      "text/plain": [
       "   sepal length (cm)  sepal width (cm)  petal length (cm)  petal width (cm)\n",
       "0                5.1               3.5                1.4               0.2\n",
       "1                4.9               3.0                1.4               0.2\n",
       "2                4.7               3.2                1.3               0.2\n",
       "3                4.6               3.1                1.5               0.2\n",
       "4                5.0               3.6                1.4               0.2"
      ]
     },
     "metadata": {},
     "output_type": "display_data"
    }
   ],
   "source": [
    "iris_df.head()"
   ]
  },
  {
   "cell_type": "markdown",
   "metadata": {},
   "source": [
    "# Preparação dos dados"
   ]
  },
  {
   "cell_type": "code",
   "execution_count": 7,
   "metadata": {},
   "outputs": [
    {
     "name": "stdout",
     "output_type": "stream",
     "text": [
      "<class 'pandas.core.frame.DataFrame'>\n",
      "RangeIndex: 150 entries, 0 to 149\n",
      "Data columns (total 4 columns):\n",
      " #   Column             Non-Null Count  Dtype  \n",
      "---  ------             --------------  -----  \n",
      " 0   sepal length (cm)  150 non-null    float64\n",
      " 1   sepal width (cm)   150 non-null    float64\n",
      " 2   petal length (cm)  150 non-null    float64\n",
      " 3   petal width (cm)   150 non-null    float64\n",
      "dtypes: float64(4)\n",
      "memory usage: 4.8 KB\n"
     ]
    }
   ],
   "source": [
    "iris_df.info()"
   ]
  },
  {
   "cell_type": "markdown",
   "metadata": {},
   "source": [
    "* Uma prática comum para a criação de um modelo de aprendizado de máquina é normalizar os dados para que as faixas dos dados sejam padronizadas, o quê ajuda o algoritmo de aprendizado a convergir para um solução"
   ]
  },
  {
   "cell_type": "markdown",
   "metadata": {},
   "source": [
    "### Minmax scaler\n",
    "Será utilizado o minmax scaler que normaliza os dados de forma que converta o espaço para uma faixa entre 0 e 1"
   ]
  },
  {
   "cell_type": "code",
   "execution_count": 10,
   "metadata": {},
   "outputs": [
    {
     "data": {
      "text/html": [
       "<div>\n",
       "<style scoped>\n",
       "    .dataframe tbody tr th:only-of-type {\n",
       "        vertical-align: middle;\n",
       "    }\n",
       "\n",
       "    .dataframe tbody tr th {\n",
       "        vertical-align: top;\n",
       "    }\n",
       "\n",
       "    .dataframe thead th {\n",
       "        text-align: right;\n",
       "    }\n",
       "</style>\n",
       "<table border=\"1\" class=\"dataframe\">\n",
       "  <thead>\n",
       "    <tr style=\"text-align: right;\">\n",
       "      <th></th>\n",
       "      <th>sepal length</th>\n",
       "      <th>sepal width</th>\n",
       "      <th>petal length</th>\n",
       "      <th>petal width</th>\n",
       "    </tr>\n",
       "  </thead>\n",
       "  <tbody>\n",
       "    <tr>\n",
       "      <th>0</th>\n",
       "      <td>0.222222</td>\n",
       "      <td>0.625000</td>\n",
       "      <td>0.067797</td>\n",
       "      <td>0.041667</td>\n",
       "    </tr>\n",
       "    <tr>\n",
       "      <th>1</th>\n",
       "      <td>0.166667</td>\n",
       "      <td>0.416667</td>\n",
       "      <td>0.067797</td>\n",
       "      <td>0.041667</td>\n",
       "    </tr>\n",
       "    <tr>\n",
       "      <th>2</th>\n",
       "      <td>0.111111</td>\n",
       "      <td>0.500000</td>\n",
       "      <td>0.050847</td>\n",
       "      <td>0.041667</td>\n",
       "    </tr>\n",
       "    <tr>\n",
       "      <th>3</th>\n",
       "      <td>0.083333</td>\n",
       "      <td>0.458333</td>\n",
       "      <td>0.084746</td>\n",
       "      <td>0.041667</td>\n",
       "    </tr>\n",
       "    <tr>\n",
       "      <th>4</th>\n",
       "      <td>0.194444</td>\n",
       "      <td>0.666667</td>\n",
       "      <td>0.067797</td>\n",
       "      <td>0.041667</td>\n",
       "    </tr>\n",
       "  </tbody>\n",
       "</table>\n",
       "</div>"
      ],
      "text/plain": [
       "   sepal length   sepal width   petal length   petal width \n",
       "0       0.222222      0.625000       0.067797      0.041667\n",
       "1       0.166667      0.416667       0.067797      0.041667\n",
       "2       0.111111      0.500000       0.050847      0.041667\n",
       "3       0.083333      0.458333       0.084746      0.041667\n",
       "4       0.194444      0.666667       0.067797      0.041667"
      ]
     },
     "execution_count": 10,
     "metadata": {},
     "output_type": "execute_result"
    }
   ],
   "source": [
    "scaler = MinMaxScaler()\n",
    "normalized_iris_df = pd.DataFrame(data=scaler.fit_transform(iris_df), columns=[x[:x.find('(cm)')] for x in iris_df.columns])\n",
    "normalized_iris_df.head()"
   ]
  },
  {
   "cell_type": "markdown",
   "metadata": {},
   "source": [
    "# Criação do modelo de aprendizado"
   ]
  },
  {
   "cell_type": "markdown",
   "metadata": {},
   "source": [
    "## Procurando o K ideal\n",
    "\n",
    "* Para encontrar o k ideal utilizaremos o método do cotovoleo, que encontra um número de cluster a partir de onde os dados deixam de apresentar uma redução significativa da variância dentro de cada cluster"
   ]
  },
  {
   "cell_type": "code",
   "execution_count": 14,
   "metadata": {},
   "outputs": [
    {
     "data": {
      "text/plain": [
       "([<matplotlib.axis.XTick at 0x285037e50>,\n",
       "  <matplotlib.axis.XTick at 0x285037e20>,\n",
       "  <matplotlib.axis.XTick at 0x28506beb0>,\n",
       "  <matplotlib.axis.XTick at 0x285099570>,\n",
       "  <matplotlib.axis.XTick at 0x285099cc0>,\n",
       "  <matplotlib.axis.XTick at 0x285099cf0>,\n",
       "  <matplotlib.axis.XTick at 0x28509a530>,\n",
       "  <matplotlib.axis.XTick at 0x28509ac80>,\n",
       "  <matplotlib.axis.XTick at 0x28509b3d0>,\n",
       "  <matplotlib.axis.XTick at 0x285035db0>,\n",
       "  <matplotlib.axis.XTick at 0x2850a98a0>,\n",
       "  <matplotlib.axis.XTick at 0x2850a9f00>,\n",
       "  <matplotlib.axis.XTick at 0x2850aa650>,\n",
       "  <matplotlib.axis.XTick at 0x285099330>,\n",
       "  <matplotlib.axis.XTick at 0x2850aa3e0>,\n",
       "  <matplotlib.axis.XTick at 0x2850a9270>,\n",
       "  <matplotlib.axis.XTick at 0x2850aafe0>,\n",
       "  <matplotlib.axis.XTick at 0x2850ab730>],\n",
       " [Text(0, 0, ''),\n",
       "  Text(0, 0, ''),\n",
       "  Text(0, 0, ''),\n",
       "  Text(0, 0, ''),\n",
       "  Text(0, 0, ''),\n",
       "  Text(0, 0, ''),\n",
       "  Text(0, 0, ''),\n",
       "  Text(0, 0, ''),\n",
       "  Text(0, 0, ''),\n",
       "  Text(0, 0, ''),\n",
       "  Text(0, 0, ''),\n",
       "  Text(0, 0, ''),\n",
       "  Text(0, 0, ''),\n",
       "  Text(0, 0, ''),\n",
       "  Text(0, 0, ''),\n",
       "  Text(0, 0, ''),\n",
       "  Text(0, 0, ''),\n",
       "  Text(0, 0, '')])"
      ]
     },
     "execution_count": 14,
     "metadata": {},
     "output_type": "execute_result"
    },
    {
     "data": {
      "image/png": "[encoded data removed]",
      "text/plain": [
       "<Figure size 432x288 with 1 Axes>"
      ]
     },
     "metadata": {
      "needs_background": "light"
     },
     "output_type": "display_data"
    }
   ],
   "source": [
    "variance_intra_cluster = []\n",
    "\n",
    "for k in range(2, 20):\n",
    "    kmeans = KMeans(n_clusters=k)\n",
    "    kmeans.fit(normalized_iris_df)\n",
    "    variance_intra_cluster.append(kmeans.inertia_)\n",
    "\n",
    "sns.lineplot(x=list(range(2, 20)), y=variance_intra_cluster)\n",
    "plt.xticks(list(range(2, 20)))"
   ]
  },
  {
   "cell_type": "code",
   "execution_count": 27,
   "metadata": {},
   "outputs": [],
   "source": [
    "final_df = iris_df.copy()\n",
    "kmeans = KMeans(n_clusters=8)\n",
    "final_df['cluster'] = kmeans.fit_predict(normalized_iris_df)"
   ]
  },
  {
   "cell_type": "markdown",
   "metadata": {},
   "source": [
    "# Avaliação do modelo"
   ]
  },
  {
   "cell_type": "code",
   "execution_count": 28,
   "metadata": {},
   "outputs": [
    {
     "data": {
      "text/html": [
       "<div>\n",
       "<style scoped>\n",
       "    .dataframe tbody tr th:only-of-type {\n",
       "        vertical-align: middle;\n",
       "    }\n",
       "\n",
       "    .dataframe tbody tr th {\n",
       "        vertical-align: top;\n",
       "    }\n",
       "\n",
       "    .dataframe thead th {\n",
       "        text-align: right;\n",
       "    }\n",
       "</style>\n",
       "<table border=\"1\" class=\"dataframe\">\n",
       "  <thead>\n",
       "    <tr style=\"text-align: right;\">\n",
       "      <th></th>\n",
       "      <th>sepal length (cm)</th>\n",
       "      <th>sepal width (cm)</th>\n",
       "      <th>petal length (cm)</th>\n",
       "      <th>petal width (cm)</th>\n",
       "      <th>cluster</th>\n",
       "    </tr>\n",
       "  </thead>\n",
       "  <tbody>\n",
       "    <tr>\n",
       "      <th>0</th>\n",
       "      <td>5.1</td>\n",
       "      <td>3.5</td>\n",
       "      <td>1.4</td>\n",
       "      <td>0.2</td>\n",
       "      <td>0</td>\n",
       "    </tr>\n",
       "    <tr>\n",
       "      <th>1</th>\n",
       "      <td>4.9</td>\n",
       "      <td>3.0</td>\n",
       "      <td>1.4</td>\n",
       "      <td>0.2</td>\n",
       "      <td>7</td>\n",
       "    </tr>\n",
       "    <tr>\n",
       "      <th>2</th>\n",
       "      <td>4.7</td>\n",
       "      <td>3.2</td>\n",
       "      <td>1.3</td>\n",
       "      <td>0.2</td>\n",
       "      <td>7</td>\n",
       "    </tr>\n",
       "    <tr>\n",
       "      <th>3</th>\n",
       "      <td>4.6</td>\n",
       "      <td>3.1</td>\n",
       "      <td>1.5</td>\n",
       "      <td>0.2</td>\n",
       "      <td>7</td>\n",
       "    </tr>\n",
       "    <tr>\n",
       "      <th>4</th>\n",
       "      <td>5.0</td>\n",
       "      <td>3.6</td>\n",
       "      <td>1.4</td>\n",
       "      <td>0.2</td>\n",
       "      <td>0</td>\n",
       "    </tr>\n",
       "  </tbody>\n",
       "</table>\n",
       "</div>"
      ],
      "text/plain": [
       "   sepal length (cm)  sepal width (cm)  petal length (cm)  petal width (cm)  \\\n",
       "0                5.1               3.5                1.4               0.2   \n",
       "1                4.9               3.0                1.4               0.2   \n",
       "2                4.7               3.2                1.3               0.2   \n",
       "3                4.6               3.1                1.5               0.2   \n",
       "4                5.0               3.6                1.4               0.2   \n",
       "\n",
       "   cluster  \n",
       "0        0  \n",
       "1        7  \n",
       "2        7  \n",
       "3        7  \n",
       "4        0  "
      ]
     },
     "execution_count": 28,
     "metadata": {},
     "output_type": "execute_result"
    }
   ],
   "source": [
    "final_df.head()"
   ]
  },
  {
   "cell_type": "code",
   "execution_count": 29,
   "metadata": {},
   "outputs": [
    {
     "data": {
      "text/plain": [
       "<AxesSubplot:xlabel='sepal length (cm)', ylabel='sepal width (cm)'>"
      ]
     },
     "execution_count": 29,
     "metadata": {},
     "output_type": "execute_result"
    },
    {
     "data": {
      "image/png": "[encoded data removed]",
      "text/plain": [
       "<Figure size 432x288 with 1 Axes>"
      ]
     },
     "metadata": {
      "needs_background": "light"
     },
     "output_type": "display_data"
    }
   ],
   "source": [
    "sns.scatterplot(data=final_df, x='sepal length (cm)', y='sepal width (cm)', hue='cluster')"
   ]
  },
  {
   "cell_type": "markdown",
   "metadata": {},
   "source": [
    "## Utilização do pca"
   ]
  },
  {
   "cell_type": "code",
   "execution_count": 30,
   "metadata": {},
   "outputs": [],
   "source": [
    "pca = PCA()\n",
    "pca_df = pca.fit_transform(final_df.drop('cluster', axis='columns'))\n",
    "pca_df = pd.DataFrame(pca_df)"
   ]
  },
  {
   "cell_type": "code",
   "execution_count": 31,
   "metadata": {},
   "outputs": [
    {
     "data": {
      "text/html": [
       "<div>\n",
       "<style scoped>\n",
       "    .dataframe tbody tr th:only-of-type {\n",
       "        vertical-align: middle;\n",
       "    }\n",
       "\n",
       "    .dataframe tbody tr th {\n",
       "        vertical-align: top;\n",
       "    }\n",
       "\n",
       "    .dataframe thead th {\n",
       "        text-align: right;\n",
       "    }\n",
       "</style>\n",
       "<table border=\"1\" class=\"dataframe\">\n",
       "  <thead>\n",
       "    <tr style=\"text-align: right;\">\n",
       "      <th></th>\n",
       "      <th>0</th>\n",
       "      <th>1</th>\n",
       "      <th>2</th>\n",
       "      <th>3</th>\n",
       "    </tr>\n",
       "  </thead>\n",
       "  <tbody>\n",
       "    <tr>\n",
       "      <th>0</th>\n",
       "      <td>-2.684126</td>\n",
       "      <td>0.319397</td>\n",
       "      <td>-0.027915</td>\n",
       "      <td>-0.002262</td>\n",
       "    </tr>\n",
       "    <tr>\n",
       "      <th>1</th>\n",
       "      <td>-2.714142</td>\n",
       "      <td>-0.177001</td>\n",
       "      <td>-0.210464</td>\n",
       "      <td>-0.099027</td>\n",
       "    </tr>\n",
       "    <tr>\n",
       "      <th>2</th>\n",
       "      <td>-2.888991</td>\n",
       "      <td>-0.144949</td>\n",
       "      <td>0.017900</td>\n",
       "      <td>-0.019968</td>\n",
       "    </tr>\n",
       "    <tr>\n",
       "      <th>3</th>\n",
       "      <td>-2.745343</td>\n",
       "      <td>-0.318299</td>\n",
       "      <td>0.031559</td>\n",
       "      <td>0.075576</td>\n",
       "    </tr>\n",
       "    <tr>\n",
       "      <th>4</th>\n",
       "      <td>-2.728717</td>\n",
       "      <td>0.326755</td>\n",
       "      <td>0.090079</td>\n",
       "      <td>0.061259</td>\n",
       "    </tr>\n",
       "  </tbody>\n",
       "</table>\n",
       "</div>"
      ],
      "text/plain": [
       "          0         1         2         3\n",
       "0 -2.684126  0.319397 -0.027915 -0.002262\n",
       "1 -2.714142 -0.177001 -0.210464 -0.099027\n",
       "2 -2.888991 -0.144949  0.017900 -0.019968\n",
       "3 -2.745343 -0.318299  0.031559  0.075576\n",
       "4 -2.728717  0.326755  0.090079  0.061259"
      ]
     },
     "execution_count": 31,
     "metadata": {},
     "output_type": "execute_result"
    }
   ],
   "source": [
    "pca_df.head()"
   ]
  },
  {
   "cell_type": "code",
   "execution_count": 32,
   "metadata": {},
   "outputs": [
    {
     "data": {
      "application/vnd.plotly.v1+json": {
       "config": {
        "plotlyServerURL": "https://plot.ly"
       },
       "data": [
        {
         "hovertemplate": "0=%{x}<br>1=%{y}<br>2=%{z}<br>color=%{marker.color}<extra></extra>",
         "legendgroup": "",
         "marker": {
          "color": [
           0,
           7,
           7,
           7,
           0,
           0,
           7,
           0,
           7,
           7,
           0,
           7,
           7,
           7,
           0,
           0,
           0,
           0,
           0,
           0,
           0,
           0,
           0,
           0,
           7,
           7,
           0,
           0,
           0,
           7,
           7,
           0,
           0,
           0,
           7,
           7,
           0,
           0,
           7,
           0,
           0,
           7,
           7,
           0,
           0,
           7,
           0,
           7,
           0,
           7,
           1,
           1,
           1,
           3,
           1,
           5,
           1,
           3,
           1,
           5,
           3,
           5,
           3,
           1,
           5,
           1,
           5,
           5,
           5,
           3,
           2,
           5,
           2,
           5,
           1,
           1,
           1,
           1,
           5,
           3,
           3,
           3,
           5,
           2,
           5,
           1,
           1,
           5,
           5,
           5,
           5,
           1,
           5,
           3,
           5,
           5,
           5,
           1,
           3,
           5,
           4,
           2,
           6,
           2,
           4,
           6,
           5,
           6,
           2,
           4,
           4,
           2,
           4,
           2,
           2,
           4,
           2,
           6,
           6,
           5,
           4,
           2,
           6,
           2,
           4,
           6,
           2,
           2,
           2,
           6,
           6,
           6,
           2,
           1,
           2,
           6,
           4,
           2,
           2,
           4,
           4,
           4,
           2,
           4,
           4,
           4,
           2,
           2,
           4,
           2
          ],
          "coloraxis": "coloraxis",
          "symbol": "circle"
         },
         "mode": "markers",
         "name": "",
         "scene": "scene",
         "showlegend": false,
         "type": "scatter3d",
         "x": [
          -2.684125625969527,
          -2.7141416872943287,
          -2.888990569059294,
          -2.745342855641408,
          -2.7287165365545274,
          -2.28085963284449,
          -2.820537750740607,
          -2.626144973146631,
          -2.8863827317805506,
          -2.6727557978209515,
          -2.5069470906518534,
          -2.6127552309087205,
          -2.7861092661880154,
          -3.223803743865649,
          -2.6447503899420277,
          -2.386039033531131,
          -2.6235278752244238,
          -2.6482967062543787,
          -2.1998203236175784,
          -2.5879863998787656,
          -2.3102562152425157,
          -2.5437052287571538,
          -3.215939415648609,
          -2.302733182226205,
          -2.35575404912377,
          -2.5066689069258192,
          -2.468820073121337,
          -2.562319906196014,
          -2.6395347153845403,
          -2.6319893872743436,
          -2.58739847668935,
          -2.4099324970021727,
          -2.64886233434991,
          -2.5987367491005844,
          -2.6369268781057964,
          -2.8662416521186675,
          -2.62523804985037,
          -2.8006841154482194,
          -2.9805020437819905,
          -2.5900063139680936,
          -2.770102426027899,
          -2.8493687050431005,
          -2.9974065465949042,
          -2.405614485097483,
          -2.209489237783677,
          -2.714451426757705,
          -2.538148258998937,
          -2.8394621676428478,
          -2.5430857498303907,
          -2.703359782335157,
          1.2848256888583525,
          0.93248853231232,
          1.464302321991395,
          0.1833177199583726,
          1.0881032577116672,
          0.6416690842580793,
          1.0950606626324484,
          -0.7491226698296549,
          1.044131826053437,
          -0.0087454040828938,
          -0.5078408838353237,
          0.5116985574475992,
          0.2649765081120481,
          0.9849345104708918,
          -0.1739253716817658,
          0.9278607809442485,
          0.6602837616969387,
          0.23610499331767332,
          0.944733728019815,
          0.04522697629870179,
          1.1162831773500517,
          0.35788841799730886,
          1.2981838753589152,
          0.9217289224470385,
          0.7148533259114133,
          0.9001743731721685,
          1.3320244367220895,
          1.5578021550660714,
          0.8132906498175433,
          -0.3055837780243074,
          -0.0681264920683616,
          -0.1896224723784999,
          0.1364287115580167,
          1.3800264359155128,
          0.5880064433398657,
          0.8068583125004138,
          1.2206908824443539,
          0.815095235766601,
          0.24595767988669437,
          0.1664132171454588,
          0.46480028840378124,
          0.8908151984694511,
          0.23054802355945717,
          -0.7045317592446614,
          0.35698149470104884,
          0.33193447994506003,
          0.37621565106667226,
          0.6425760075543395,
          -0.9064698649488335,
          0.2990008418781451,
          2.5311927278036292,
          1.4152358767039042,
          2.616676015995691,
          1.9715310530434371,
          2.3500059200446413,
          3.397038736053259,
          0.521232243909776,
          2.9325870689936893,
          2.3212288165733788,
          2.916750966786074,
          1.6617741536365325,
          1.8034019529650924,
          2.1655917960801467,
          1.346163579458453,
          1.5859282238732229,
          1.9044563747934282,
          1.9496890593990706,
          3.4870553642902804,
          3.795645422072884,
          1.3007917126376585,
          2.4278179130660464,
          1.1990011054655625,
          3.499920038924539,
          1.3887661316914668,
          2.2754305038722062,
          2.614090473810832,
          1.2585081605114892,
          1.2911320591150224,
          2.123608722773896,
          2.3880030160034686,
          2.8416727781038715,
          3.230673661432093,
          2.159437642489051,
          1.444161242329511,
          1.7812948100451131,
          3.076499931687189,
          2.144243314302083,
          1.905098148814077,
          1.1693263393415017,
          2.1076111432572433,
          2.314154705235601,
          1.9222678009026017,
          1.4152358767039042,
          2.5630133750774773,
          2.4187461827328267,
          1.944109794546969,
          1.5271666148145187,
          1.7643457170444306,
          1.9009416142184248,
          1.3901888619479152
         ],
         "y": [
          0.3193972465850999,
          -0.17700122506477872,
          -0.14494942608555683,
          -0.31829897925191547,
          0.32675451293492075,
          0.7413304490629158,
          -0.08946138452856789,
          0.1633849596983293,
          -0.5783117541867031,
          -0.11377424587411644,
          0.6450688986485743,
          0.01472993916137531,
          -0.2351120002017181,
          -0.5113945870063815,
          1.1787646364375755,
          1.3380623304006534,
          0.8106795141812584,
          0.31184914459335544,
          0.8728390389622115,
          0.5135603087492778,
          0.3913459356538945,
          0.432996063279029,
          0.13346806953852675,
          0.0987088548141001,
          -0.03728185967738163,
          -0.1460168804952674,
          0.13095148943525098,
          0.3677188574342004,
          0.31203998023528323,
          -0.1969612249243138,
          -0.20431849127413287,
          0.41092426422957323,
          0.8133638202969633,
          1.0931457594493577,
          -0.12132234786586275,
          0.06936447158008104,
          0.599370021379424,
          0.26864373779798323,
          -0.4879583444286147,
          0.22904383682701324,
          0.2635275337442572,
          -0.940960573641197,
          -0.341926057471609,
          0.18887142893026124,
          0.43666314163918896,
          -0.2502082041852107,
          0.5037711444614386,
          -0.2279455694938269,
          0.5794100215198901,
          0.10770608249941223,
          0.6851604704673083,
          0.318333638262629,
          0.5042628153092039,
          -0.8279590118206324,
          0.07459067519771587,
          -0.41824687156867835,
          0.28346827006152947,
          -1.0048909611818952,
          0.22836189978839527,
          -0.7230819050048337,
          -1.2659711905263933,
          -0.1039812354990401,
          -0.5500364636804753,
          -0.12481785412635725,
          -0.254854208702589,
          0.46717949444151025,
          -0.35296966572384975,
          -0.3336107668249153,
          -0.5431455507797671,
          -0.5838343774718643,
          -0.08461685219478736,
          -0.06892503165601407,
          -0.3277873083339177,
          -0.18273779362136744,
          0.14905594436978448,
          0.32850447383432296,
          0.24444087601634298,
          0.26749544731025454,
          -0.1633503006876161,
          -0.368262189754588,
          -0.7051721317994655,
          -0.6802867635281336,
          -0.3140324382492367,
          -0.42095428731388185,
          -0.4842874199812175,
          0.19418231471315156,
          0.407619593611007,
          -0.37203705990950237,
          -0.2685243966220144,
          -0.6819267248636266,
          -0.6707115445117201,
          -0.03446444436826863,
          -0.40438584800732524,
          -1.012248227531714,
          -0.5049100933371083,
          -0.21265468378116933,
          -0.2932189292514186,
          0.017738190112416237,
          -0.7560933665990137,
          -0.3488978064503357,
          -0.009849109498801151,
          -0.574916347546489,
          0.3439031513417341,
          -0.17972790435224523,
          -0.040260947142530756,
          0.550836673028055,
          -1.1927587270006446,
          0.35550000297749595,
          -0.243831502310691,
          0.7827919488152789,
          0.24222840775506724,
          -0.21563761733355555,
          0.2162755850740246,
          -0.7768183473443393,
          -0.5396407140267182,
          0.11925069209197306,
          0.041943259663211566,
          1.1757393297134293,
          0.25732297342047844,
          -0.7611496364350635,
          0.37819601261705077,
          -0.60609152775793,
          0.4606740989118942,
          -0.20439932735215102,
          0.3349906058216776,
          0.5609013551230777,
          -0.1797047947227466,
          -0.11666865117401107,
          -0.20972947667730263,
          0.4646398047087361,
          0.3752691671951025,
          1.3741650867930473,
          -0.217277578669049,
          -0.1434134104575807,
          -0.49990168107813626,
          0.6880856775711749,
          0.14006420108979076,
          0.049300526013030546,
          -0.16499026202310915,
          0.37228787196079755,
          0.18365127916901908,
          0.4092034668160621,
          -0.574916347546489,
          0.2778626029291949,
          0.3047981978546923,
          0.18753230280060518,
          -0.3753169825804887,
          0.07885885451847585,
          0.11662795851202444,
          -0.28266093799055
         ],
         "z": [
          -0.027914827589412546,
          -0.21046427237824517,
          0.017900256320891,
          0.03155937360568129,
          0.09007924055120135,
          0.16867765820910463,
          0.2578921582556183,
          -0.021879317886719644,
          0.020759570264780387,
          -0.19763272498814635,
          -0.07531800937912025,
          0.10215025995659023,
          -0.20684443044964448,
          0.0612996724570995,
          -0.15162752361780998,
          0.2777769027031355,
          0.13818322788071907,
          0.026668315612593693,
          -0.12030552339473127,
          0.2136651722247159,
          -0.2394440432449535,
          0.208457232416715,
          0.2923967507452425,
          0.03912325874288049,
          0.12502108270287932,
          -0.2534200423446577,
          0.09491057609939177,
          -0.07849420513792431,
          -0.14590889573002938,
          0.04077107906717948,
          -0.07722298907343556,
          -0.1455249720051313,
          0.22566914972011984,
          0.15781081295821991,
          -0.14304958178613897,
          -0.16433230665302598,
          -0.268350375693937,
          0.09369908247980037,
          0.07292704569269269,
          -0.08008230301732606,
          0.07724769316110382,
          -0.3492303773059668,
          0.19250921171271004,
          0.2638679455134154,
          0.29874274575510906,
          -0.09767814404562955,
          0.1667056366048048,
          0.08372684903359365,
          -0.017115024248513338,
          -0.08929400847882471,
          -0.40656802546769477,
          -0.018014186646240396,
          -0.3383257649808966,
          -0.17959139187535542,
          -0.3077578962347852,
          0.0410760908239565,
          0.16981023986057533,
          0.012302919237595572,
          -0.4153360847593979,
          0.2811414311764102,
          -0.26981718276885236,
          0.13054775024048623,
          -0.6941468301444194,
          -0.06211440832226084,
          0.09045769072570446,
          -0.3146209758321728,
          0.3280275283785957,
          -0.2711618372510665,
          -0.4995190464851133,
          -0.23500210497205573,
          0.4596209913591045,
          -0.2298538876089518,
          -0.3478543522573084,
          -0.23107177773628446,
          -0.3218009372444742,
          -0.31620907371157453,
          -0.5217027796644196,
          -0.16492098374358063,
          0.03542450484616033,
          -0.31849158062304717,
          -0.24421381043355447,
          -0.30642056121765837,
          -0.17724276601124436,
          0.0161671275207291,
          0.4444334986398086,
          0.388963063098211,
          -0.2371670098838761,
          -0.6147208425918225,
          0.18836681164619512,
          -0.06000922585533801,
          -0.024306855718951234,
          -0.009946932894348575,
          -0.2294102414391566,
          -0.10569114890301952,
          0.016617170198265786,
          0.08320429089567707,
          0.07799635108767598,
          -0.20539496698326085,
          -0.01259964755789025,
          0.010581660495570818,
          0.7601654272458959,
          0.29632252738796483,
          -0.1107878832191092,
          0.10842466246342342,
          0.28538956318444153,
          -0.34843755579746755,
          0.5456592956468136,
          -0.4202399357679681,
          -0.34830439493484505,
          0.4233354176825584,
          0.242440189725769,
          -0.03764816823148243,
          0.03332664184432502,
          0.28190288211846504,
          0.6290293264080107,
          0.4796398196265905,
          0.044186167630122286,
          0.13389487393609845,
          -0.5137677638178049,
          -0.3449950383134179,
          0.2191193243019431,
          0.5118555086970015,
          -0.5731822425680029,
          -0.06452275663126848,
          0.28615009116914997,
          -0.20553452435362485,
          0.0458477039272499,
          0.23125646265997063,
          0.15418002392883023,
          -0.44953019194185,
          -0.4988980758707691,
          -0.1145482054754192,
          0.20876316713083773,
          -0.1532338880630898,
          -0.17287518911341904,
          -0.33559229243454164,
          0.7348789367255113,
          0.16218023577073748,
          0.2818358402084806,
          0.02729113214163036,
          0.3226937471730588,
          0.11358659579935587,
          0.29632252738796483,
          0.2925695245967429,
          0.5044826639771799,
          0.17782509063265703,
          -0.12189817186718213,
          0.130481631287848,
          0.7232515634899175,
          0.3629096480853762
         ]
        }
       ],
       "layout": {
        "coloraxis": {
         "colorbar": {
          "title": {
           "text": "color"
          }
         },
         "colorscale": [
          [
           0,
           "#0d0887"
          ],
          [
           0.1111111111111111,
           "#46039f"
          ],
          [
           0.2222222222222222,
           "#7201a8"
          ],
          [
           0.3333333333333333,
           "#9c179e"
          ],
          [
           0.4444444444444444,
           "#bd3786"
          ],
          [
           0.5555555555555556,
           "#d8576b"
          ],
          [
           0.6666666666666666,
           "#ed7953"
          ],
          [
           0.7777777777777778,
           "#fb9f3a"
          ],
          [
           0.8888888888888888,
           "#fdca26"
          ],
          [
           1,
           "#f0f921"
          ]
         ]
        },
        "legend": {
         "tracegroupgap": 0
        },
        "margin": {
         "t": 60
        },
        "scene": {
         "domain": {
          "x": [
           0,
           1
          ],
          "y": [
           0,
           1
          ]
         },
         "xaxis": {
          "title": {
           "text": "0"
          }
         },
         "yaxis": {
          "title": {
           "text": "1"
          }
         },
         "zaxis": {
          "title": {
           "text": "2"
          }
         }
        },
        "template": {
         "data": {
          "bar": [
           {
            "error_x": {
             "color": "#2a3f5f"
            },
            "error_y": {
             "color": "#2a3f5f"
            },
            "marker": {
             "line": {
              "color": "#E5ECF6",
              "width": 0.5
             },
             "pattern": {
              "fillmode": "overlay",
              "size": 10,
              "solidity": 0.2
             }
            },
            "type": "bar"
           }
          ],
          "barpolar": [
           {
            "marker": {
             "line": {
              "color": "#E5ECF6",
              "width": 0.5
             },
             "pattern": {
              "fillmode": "overlay",
              "size": 10,
              "solidity": 0.2
             }
            },
            "type": "barpolar"
           }
          ],
          "carpet": [
           {
            "aaxis": {
             "endlinecolor": "#2a3f5f",
             "gridcolor": "white",
             "linecolor": "white",
             "minorgridcolor": "white",
             "startlinecolor": "#2a3f5f"
            },
            "baxis": {
             "endlinecolor": "#2a3f5f",
             "gridcolor": "white",
             "linecolor": "white",
             "minorgridcolor": "white",
             "startlinecolor": "#2a3f5f"
            },
            "type": "carpet"
           }
          ],
          "choropleth": [
           {
            "colorbar": {
             "outlinewidth": 0,
             "ticks": ""
            },
            "type": "choropleth"
           }
          ],
          "contour": [
           {
            "colorbar": {
             "outlinewidth": 0,
             "ticks": ""
            },
            "colorscale": [
             [
              0,
              "#0d0887"
             ],
             [
              0.1111111111111111,
              "#46039f"
             ],
             [
              0.2222222222222222,
              "#7201a8"
             ],
             [
              0.3333333333333333,
              "#9c179e"
             ],
             [
              0.4444444444444444,
              "#bd3786"
             ],
             [
              0.5555555555555556,
              "#d8576b"
             ],
             [
              0.6666666666666666,
              "#ed7953"
             ],
             [
              0.7777777777777778,
              "#fb9f3a"
             ],
             [
              0.8888888888888888,
              "#fdca26"
             ],
             [
              1,
              "#f0f921"
             ]
            ],
            "type": "contour"
           }
          ],
          "contourcarpet": [
           {
            "colorbar": {
             "outlinewidth": 0,
             "ticks": ""
            },
            "type": "contourcarpet"
           }
          ],
          "heatmap": [
           {
            "colorbar": {
             "outlinewidth": 0,
             "ticks": ""
            },
            "colorscale": [
             [
              0,
              "#0d0887"
             ],
             [
              0.1111111111111111,
              "#46039f"
             ],
             [
              0.2222222222222222,
              "#7201a8"
             ],
             [
              0.3333333333333333,
              "#9c179e"
             ],
             [
              0.4444444444444444,
              "#bd3786"
             ],
             [
              0.5555555555555556,
              "#d8576b"
             ],
             [
              0.6666666666666666,
              "#ed7953"
             ],
             [
              0.7777777777777778,
              "#fb9f3a"
             ],
             [
              0.8888888888888888,
              "#fdca26"
             ],
             [
              1,
              "#f0f921"
             ]
            ],
            "type": "heatmap"
           }
          ],
          "heatmapgl": [
           {
            "colorbar": {
             "outlinewidth": 0,
             "ticks": ""
            },
            "colorscale": [
             [
              0,
              "#0d0887"
             ],
             [
              0.1111111111111111,
              "#46039f"
             ],
             [
              0.2222222222222222,
              "#7201a8"
             ],
             [
              0.3333333333333333,
              "#9c179e"
             ],
             [
              0.4444444444444444,
              "#bd3786"
             ],
             [
              0.5555555555555556,
              "#d8576b"
             ],
             [
              0.6666666666666666,
              "#ed7953"
             ],
             [
              0.7777777777777778,
              "#fb9f3a"
             ],
             [
              0.8888888888888888,
              "#fdca26"
             ],
             [
              1,
              "#f0f921"
             ]
            ],
            "type": "heatmapgl"
           }
          ],
          "histogram": [
           {
            "marker": {
             "pattern": {
              "fillmode": "overlay",
              "size": 10,
              "solidity": 0.2
             }
            },
            "type": "histogram"
           }
          ],
          "histogram2d": [
           {
            "colorbar": {
             "outlinewidth": 0,
             "ticks": ""
            },
            "colorscale": [
             [
              0,
              "#0d0887"
             ],
             [
              0.1111111111111111,
              "#46039f"
             ],
             [
              0.2222222222222222,
              "#7201a8"
             ],
             [
              0.3333333333333333,
              "#9c179e"
             ],
             [
              0.4444444444444444,
              "#bd3786"
             ],
             [
              0.5555555555555556,
              "#d8576b"
             ],
             [
              0.6666666666666666,
              "#ed7953"
             ],
             [
              0.7777777777777778,
              "#fb9f3a"
             ],
             [
              0.8888888888888888,
              "#fdca26"
             ],
             [
              1,
              "#f0f921"
             ]
            ],
            "type": "histogram2d"
           }
          ],
          "histogram2dcontour": [
           {
            "colorbar": {
             "outlinewidth": 0,
             "ticks": ""
            },
            "colorscale": [
             [
              0,
              "#0d0887"
             ],
             [
              0.1111111111111111,
              "#46039f"
             ],
             [
              0.2222222222222222,
              "#7201a8"
             ],
             [
              0.3333333333333333,
              "#9c179e"
             ],
             [
              0.4444444444444444,
              "#bd3786"
             ],
             [
              0.5555555555555556,
              "#d8576b"
             ],
             [
              0.6666666666666666,
              "#ed7953"
             ],
             [
              0.7777777777777778,
              "#fb9f3a"
             ],
             [
              0.8888888888888888,
              "#fdca26"
             ],
             [
              1,
              "#f0f921"
             ]
            ],
            "type": "histogram2dcontour"
           }
          ],
          "mesh3d": [
           {
            "colorbar": {
             "outlinewidth": 0,
             "ticks": ""
            },
            "type": "mesh3d"
           }
          ],
          "parcoords": [
           {
            "line": {
             "colorbar": {
              "outlinewidth": 0,
              "ticks": ""
             }
            },
            "type": "parcoords"
           }
          ],
          "pie": [
           {
            "automargin": true,
            "type": "pie"
           }
          ],
          "scatter": [
           {
            "fillpattern": {
             "fillmode": "overlay",
             "size": 10,
             "solidity": 0.2
            },
            "type": "scatter"
           }
          ],
          "scatter3d": [
           {
            "line": {
             "colorbar": {
              "outlinewidth": 0,
              "ticks": ""
             }
            },
            "marker": {
             "colorbar": {
              "outlinewidth": 0,
              "ticks": ""
             }
            },
            "type": "scatter3d"
           }
          ],
          "scattercarpet": [
           {
            "marker": {
             "colorbar": {
              "outlinewidth": 0,
              "ticks": ""
             }
            },
            "type": "scattercarpet"
           }
          ],
          "scattergeo": [
           {
            "marker": {
             "colorbar": {
              "outlinewidth": 0,
              "ticks": ""
             }
            },
            "type": "scattergeo"
           }
          ],
          "scattergl": [
           {
            "marker": {
             "colorbar": {
              "outlinewidth": 0,
              "ticks": ""
             }
            },
            "type": "scattergl"
           }
          ],
          "scattermapbox": [
           {
            "marker": {
             "colorbar": {
              "outlinewidth": 0,
              "ticks": ""
             }
            },
            "type": "scattermapbox"
           }
          ],
          "scatterpolar": [
           {
            "marker": {
             "colorbar": {
              "outlinewidth": 0,
              "ticks": ""
             }
            },
            "type": "scatterpolar"
           }
          ],
          "scatterpolargl": [
           {
            "marker": {
             "colorbar": {
              "outlinewidth": 0,
              "ticks": ""
             }
            },
            "type": "scatterpolargl"
           }
          ],
          "scatterternary": [
           {
            "marker": {
             "colorbar": {
              "outlinewidth": 0,
              "ticks": ""
             }
            },
            "type": "scatterternary"
           }
          ],
          "surface": [
           {
            "colorbar": {
             "outlinewidth": 0,
             "ticks": ""
            },
            "colorscale": [
             [
              0,
              "#0d0887"
             ],
             [
              0.1111111111111111,
              "#46039f"
             ],
             [
              0.2222222222222222,
              "#7201a8"
             ],
             [
              0.3333333333333333,
              "#9c179e"
             ],
             [
              0.4444444444444444,
              "#bd3786"
             ],
             [
              0.5555555555555556,
              "#d8576b"
             ],
             [
              0.6666666666666666,
              "#ed7953"
             ],
             [
              0.7777777777777778,
              "#fb9f3a"
             ],
             [
              0.8888888888888888,
              "#fdca26"
             ],
             [
              1,
              "#f0f921"
             ]
            ],
            "type": "surface"
           }
          ],
          "table": [
           {
            "cells": {
             "fill": {
              "color": "#EBF0F8"
             },
             "line": {
              "color": "white"
             }
            },
            "header": {
             "fill": {
              "color": "#C8D4E3"
             },
             "line": {
              "color": "white"
             }
            },
            "type": "table"
           }
          ]
         },
         "layout": {
          "annotationdefaults": {
           "arrowcolor": "#2a3f5f",
           "arrowhead": 0,
           "arrowwidth": 1
          },
          "autotypenumbers": "strict",
          "coloraxis": {
           "colorbar": {
            "outlinewidth": 0,
            "ticks": ""
           }
          },
          "colorscale": {
           "diverging": [
            [
             0,
             "#8e0152"
            ],
            [
             0.1,
             "#c51b7d"
            ],
            [
             0.2,
             "#de77ae"
            ],
            [
             0.3,
             "#f1b6da"
            ],
            [
             0.4,
             "#fde0ef"
            ],
            [
             0.5,
             "#f7f7f7"
            ],
            [
             0.6,
             "#e6f5d0"
            ],
            [
             0.7,
             "#b8e186"
            ],
            [
             0.8,
             "#7fbc41"
            ],
            [
             0.9,
             "#4d9221"
            ],
            [
             1,
             "#276419"
            ]
           ],
           "sequential": [
            [
             0,
             "#0d0887"
            ],
            [
             0.1111111111111111,
             "#46039f"
            ],
            [
             0.2222222222222222,
             "#7201a8"
            ],
            [
             0.3333333333333333,
             "#9c179e"
            ],
            [
             0.4444444444444444,
             "#bd3786"
            ],
            [
             0.5555555555555556,
             "#d8576b"
            ],
            [
             0.6666666666666666,
             "#ed7953"
            ],
            [
             0.7777777777777778,
             "#fb9f3a"
            ],
            [
             0.8888888888888888,
             "#fdca26"
            ],
            [
             1,
             "#f0f921"
            ]
           ],
           "sequentialminus": [
            [
             0,
             "#0d0887"
            ],
            [
             0.1111111111111111,
             "#46039f"
            ],
            [
             0.2222222222222222,
             "#7201a8"
            ],
            [
             0.3333333333333333,
             "#9c179e"
            ],
            [
             0.4444444444444444,
             "#bd3786"
            ],
            [
             0.5555555555555556,
             "#d8576b"
            ],
            [
             0.6666666666666666,
             "#ed7953"
            ],
            [
             0.7777777777777778,
             "#fb9f3a"
            ],
            [
             0.8888888888888888,
             "#fdca26"
            ],
            [
             1,
             "#f0f921"
            ]
           ]
          },
          "colorway": [
           "#636efa",
           "#EF553B",
           "#00cc96",
           "#ab63fa",
           "#FFA15A",
           "#19d3f3",
           "#FF6692",
           "#B6E880",
           "#FF97FF",
           "#FECB52"
          ],
          "font": {
           "color": "#2a3f5f"
          },
          "geo": {
           "bgcolor": "white",
           "lakecolor": "white",
           "landcolor": "#E5ECF6",
           "showlakes": true,
           "showland": true,
           "subunitcolor": "white"
          },
          "hoverlabel": {
           "align": "left"
          },
          "hovermode": "closest",
          "mapbox": {
           "style": "light"
          },
          "paper_bgcolor": "white",
          "plot_bgcolor": "#E5ECF6",
          "polar": {
           "angularaxis": {
            "gridcolor": "white",
            "linecolor": "white",
            "ticks": ""
           },
           "bgcolor": "#E5ECF6",
           "radialaxis": {
            "gridcolor": "white",
            "linecolor": "white",
            "ticks": ""
           }
          },
          "scene": {
           "xaxis": {
            "backgroundcolor": "#E5ECF6",
            "gridcolor": "white",
            "gridwidth": 2,
            "linecolor": "white",
            "showbackground": true,
            "ticks": "",
            "zerolinecolor": "white"
           },
           "yaxis": {
            "backgroundcolor": "#E5ECF6",
            "gridcolor": "white",
            "gridwidth": 2,
            "linecolor": "white",
            "showbackground": true,
            "ticks": "",
            "zerolinecolor": "white"
           },
           "zaxis": {
            "backgroundcolor": "#E5ECF6",
            "gridcolor": "white",
            "gridwidth": 2,
            "linecolor": "white",
            "showbackground": true,
            "ticks": "",
            "zerolinecolor": "white"
           }
          },
          "shapedefaults": {
           "line": {
            "color": "#2a3f5f"
           }
          },
          "ternary": {
           "aaxis": {
            "gridcolor": "white",
            "linecolor": "white",
            "ticks": ""
           },
           "baxis": {
            "gridcolor": "white",
            "linecolor": "white",
            "ticks": ""
           },
           "bgcolor": "#E5ECF6",
           "caxis": {
            "gridcolor": "white",
            "linecolor": "white",
            "ticks": ""
           }
          },
          "title": {
           "x": 0.05
          },
          "xaxis": {
           "automargin": true,
           "gridcolor": "white",
           "linecolor": "white",
           "ticks": "",
           "title": {
            "standoff": 15
           },
           "zerolinecolor": "white",
           "zerolinewidth": 2
          },
          "yaxis": {
           "automargin": true,
           "gridcolor": "white",
           "linecolor": "white",
           "ticks": "",
           "title": {
            "standoff": 15
           },
           "zerolinecolor": "white",
           "zerolinewidth": 2
          }
         }
        }
       }
      }
     },
     "metadata": {},
     "output_type": "display_data"
    }
   ],
   "source": [
    "px.scatter_3d(data_frame=pca_df, x=0, y=1, z=2, color=final_df['cluster'])"
   ]
  },
  {
   "cell_type": "code",
   "execution_count": 33,
   "metadata": {},
   "outputs": [],
   "source": [
    "test_df = pd.read_csv('data/test_data.csv')"
   ]
  },
  {
   "cell_type": "code",
   "execution_count": 36,
   "metadata": {},
   "outputs": [
    {
     "data": {
      "text/html": [
       "<div>\n",
       "<style scoped>\n",
       "    .dataframe tbody tr th:only-of-type {\n",
       "        vertical-align: middle;\n",
       "    }\n",
       "\n",
       "    .dataframe tbody tr th {\n",
       "        vertical-align: top;\n",
       "    }\n",
       "\n",
       "    .dataframe thead th {\n",
       "        text-align: right;\n",
       "    }\n",
       "</style>\n",
       "<table border=\"1\" class=\"dataframe\">\n",
       "  <thead>\n",
       "    <tr style=\"text-align: right;\">\n",
       "      <th></th>\n",
       "      <th>0</th>\n",
       "      <th>1</th>\n",
       "      <th>2</th>\n",
       "      <th>3</th>\n",
       "    </tr>\n",
       "  </thead>\n",
       "  <tbody>\n",
       "    <tr>\n",
       "      <th>0</th>\n",
       "      <td>1.00</td>\n",
       "      <td>3.0</td>\n",
       "      <td>1.0</td>\n",
       "      <td>0.10</td>\n",
       "    </tr>\n",
       "    <tr>\n",
       "      <th>1</th>\n",
       "      <td>2.00</td>\n",
       "      <td>4.0</td>\n",
       "      <td>2.0</td>\n",
       "      <td>0.12</td>\n",
       "    </tr>\n",
       "    <tr>\n",
       "      <th>2</th>\n",
       "      <td>1.50</td>\n",
       "      <td>3.0</td>\n",
       "      <td>4.0</td>\n",
       "      <td>0.13</td>\n",
       "    </tr>\n",
       "    <tr>\n",
       "      <th>3</th>\n",
       "      <td>0.50</td>\n",
       "      <td>5.0</td>\n",
       "      <td>6.0</td>\n",
       "      <td>0.16</td>\n",
       "    </tr>\n",
       "    <tr>\n",
       "      <th>4</th>\n",
       "      <td>0.75</td>\n",
       "      <td>4.5</td>\n",
       "      <td>1.0</td>\n",
       "      <td>0.12</td>\n",
       "    </tr>\n",
       "  </tbody>\n",
       "</table>\n",
       "</div>"
      ],
      "text/plain": [
       "      0    1    2     3\n",
       "0  1.00  3.0  1.0  0.10\n",
       "1  2.00  4.0  2.0  0.12\n",
       "2  1.50  3.0  4.0  0.13\n",
       "3  0.50  5.0  6.0  0.16\n",
       "4  0.75  4.5  1.0  0.12"
      ]
     },
     "execution_count": 36,
     "metadata": {},
     "output_type": "execute_result"
    }
   ],
   "source": [
    "test_df.head()"
   ]
  },
  {
   "cell_type": "code",
   "execution_count": 35,
   "metadata": {},
   "outputs": [
    {
     "data": {
      "text/plain": [
       "<seaborn.axisgrid.PairGrid at 0x28b397820>"
      ]
     },
     "execution_count": 35,
     "metadata": {},
     "output_type": "execute_result"
    },
    {
     "data": {
      "image/png": "[encoded data removed]",
      "text/plain": [
       "<Figure size 720x720 with 20 Axes>"
      ]
     },
     "metadata": {
      "needs_background": "light"
     },
     "output_type": "display_data"
    }
   ],
   "source": [
    "sns.pairplot(test_df)"
   ]
  },
  {
   "cell_type": "code",
   "execution_count": 37,
   "metadata": {},
   "outputs": [],
   "source": [
    "pca = PCA()\n",
    "pca_df = pd.DataFrame(pca.fit_transform(test_df))"
   ]
  },
  {
   "cell_type": "code",
   "execution_count": 38,
   "metadata": {},
   "outputs": [
    {
     "data": {
      "text/html": [
       "<div>\n",
       "<style scoped>\n",
       "    .dataframe tbody tr th:only-of-type {\n",
       "        vertical-align: middle;\n",
       "    }\n",
       "\n",
       "    .dataframe tbody tr th {\n",
       "        vertical-align: top;\n",
       "    }\n",
       "\n",
       "    .dataframe thead th {\n",
       "        text-align: right;\n",
       "    }\n",
       "</style>\n",
       "<table border=\"1\" class=\"dataframe\">\n",
       "  <thead>\n",
       "    <tr style=\"text-align: right;\">\n",
       "      <th></th>\n",
       "      <th>0</th>\n",
       "      <th>1</th>\n",
       "      <th>2</th>\n",
       "      <th>3</th>\n",
       "    </tr>\n",
       "  </thead>\n",
       "  <tbody>\n",
       "    <tr>\n",
       "      <th>0</th>\n",
       "      <td>-4.485957</td>\n",
       "      <td>0.079452</td>\n",
       "      <td>-0.267706</td>\n",
       "      <td>0.047304</td>\n",
       "    </tr>\n",
       "    <tr>\n",
       "      <th>1</th>\n",
       "      <td>-3.117103</td>\n",
       "      <td>0.057732</td>\n",
       "      <td>0.789430</td>\n",
       "      <td>-0.045583</td>\n",
       "    </tr>\n",
       "    <tr>\n",
       "      <th>2</th>\n",
       "      <td>-2.552747</td>\n",
       "      <td>-2.140335</td>\n",
       "      <td>0.497355</td>\n",
       "      <td>0.076062</td>\n",
       "    </tr>\n",
       "    <tr>\n",
       "      <th>3</th>\n",
       "      <td>0.300634</td>\n",
       "      <td>-2.435373</td>\n",
       "      <td>-0.374584</td>\n",
       "      <td>-0.032528</td>\n",
       "    </tr>\n",
       "    <tr>\n",
       "      <th>4</th>\n",
       "      <td>-3.340816</td>\n",
       "      <td>1.031598</td>\n",
       "      <td>-0.557376</td>\n",
       "      <td>-0.057857</td>\n",
       "    </tr>\n",
       "  </tbody>\n",
       "</table>\n",
       "</div>"
      ],
      "text/plain": [
       "          0         1         2         3\n",
       "0 -4.485957  0.079452 -0.267706  0.047304\n",
       "1 -3.117103  0.057732  0.789430 -0.045583\n",
       "2 -2.552747 -2.140335  0.497355  0.076062\n",
       "3  0.300634 -2.435373 -0.374584 -0.032528\n",
       "4 -3.340816  1.031598 -0.557376 -0.057857"
      ]
     },
     "execution_count": 38,
     "metadata": {},
     "output_type": "execute_result"
    }
   ],
   "source": [
    "pca_df.head()"
   ]
  },
  {
   "cell_type": "code",
   "execution_count": 39,
   "metadata": {},
   "outputs": [
    {
     "data": {
      "application/vnd.plotly.v1+json": {
       "config": {
        "plotlyServerURL": "https://plot.ly"
       },
       "data": [
        {
         "hovertemplate": "0=%{x}<br>1=%{y}<br>2=%{z}<extra></extra>",
         "legendgroup": "",
         "marker": {
          "color": "#636efa",
          "symbol": "circle"
         },
         "mode": "markers",
         "name": "",
         "scene": "scene",
         "showlegend": false,
         "type": "scatter3d",
         "x": [
          -4.485957497337681,
          -3.117102871310013,
          -2.552746784806008,
          0.3006341775919647,
          -3.340815577219007,
          -3.5435924955894813,
          -2.3682034281197857,
          -1.8587595509247867,
          -1.0344028682182378,
          -2.7681813170691285,
          -0.5087102950714829,
          3.983692966381299,
          0.12164498067415248,
          0.6475920728899662,
          3.3263386776577164,
          4.528285572095364,
          2.817831856345933,
          3.9617454598840616,
          0.3038380782508842,
          0.6246577846800702,
          2.6046071544687783,
          2.357603904745415
         ],
         "y": [
          0.07945161766814476,
          0.05773207105787268,
          -2.1403345488543786,
          -2.4353732671479746,
          1.0315979071807344,
          -0.39562498769911647,
          -0.6799364838628731,
          -1.590311084285617,
          -2.221447831907889,
          0.22257044142907692,
          -3.1091519888569406,
          -0.5287713640090616,
          4.149222250490933,
          3.2309060056188965,
          -1.1498825444332408,
          -2.7160414626427083,
          1.1237669669334036,
          -0.4993269922466605,
          4.202016226657729,
          2.8243866250414134,
          0.5655772038836946,
          -0.021024760015455984
         ],
         "z": [
          -0.26770647459952024,
          0.7894299020448413,
          0.49735476049007193,
          -0.37458418734369775,
          -0.5573764364551128,
          0.058702517341549756,
          0.2984967550906983,
          0.09379175634725455,
          -0.04268667194407914,
          -0.3654289347802787,
          -0.1766731970963903,
          0.11316603437795805,
          0.5735385037455584,
          0.17341117152585458,
          -0.3581017925629134,
          0.06572897893388614,
          0.17585378858454087,
          0.5288415292001936,
          -0.3091650919293222,
          -0.4010560616743699,
          -0.1883482272129516,
          -0.32718862208377725
         ]
        }
       ],
       "layout": {
        "legend": {
         "tracegroupgap": 0
        },
        "margin": {
         "t": 60
        },
        "scene": {
         "domain": {
          "x": [
           0,
           1
          ],
          "y": [
           0,
           1
          ]
         },
         "xaxis": {
          "title": {
           "text": "0"
          }
         },
         "yaxis": {
          "title": {
           "text": "1"
          }
         },
         "zaxis": {
          "title": {
           "text": "2"
          }
         }
        },
        "template": {
         "data": {
          "bar": [
           {
            "error_x": {
             "color": "#2a3f5f"
            },
            "error_y": {
             "color": "#2a3f5f"
            },
            "marker": {
             "line": {
              "color": "#E5ECF6",
              "width": 0.5
             },
             "pattern": {
              "fillmode": "overlay",
              "size": 10,
              "solidity": 0.2
             }
            },
            "type": "bar"
           }
          ],
          "barpolar": [
           {
            "marker": {
             "line": {
              "color": "#E5ECF6",
              "width": 0.5
             },
             "pattern": {
              "fillmode": "overlay",
              "size": 10,
              "solidity": 0.2
             }
            },
            "type": "barpolar"
           }
          ],
          "carpet": [
           {
            "aaxis": {
             "endlinecolor": "#2a3f5f",
             "gridcolor": "white",
             "linecolor": "white",
             "minorgridcolor": "white",
             "startlinecolor": "#2a3f5f"
            },
            "baxis": {
             "endlinecolor": "#2a3f5f",
             "gridcolor": "white",
             "linecolor": "white",
             "minorgridcolor": "white",
             "startlinecolor": "#2a3f5f"
            },
            "type": "carpet"
           }
          ],
          "choropleth": [
           {
            "colorbar": {
             "outlinewidth": 0,
             "ticks": ""
            },
            "type": "choropleth"
           }
          ],
          "contour": [
           {
            "colorbar": {
             "outlinewidth": 0,
             "ticks": ""
            },
            "colorscale": [
             [
              0,
              "#0d0887"
             ],
             [
              0.1111111111111111,
              "#46039f"
             ],
             [
              0.2222222222222222,
              "#7201a8"
             ],
             [
              0.3333333333333333,
              "#9c179e"
             ],
             [
              0.4444444444444444,
              "#bd3786"
             ],
             [
              0.5555555555555556,
              "#d8576b"
             ],
             [
              0.6666666666666666,
              "#ed7953"
             ],
             [
              0.7777777777777778,
              "#fb9f3a"
             ],
             [
              0.8888888888888888,
              "#fdca26"
             ],
             [
              1,
              "#f0f921"
             ]
            ],
            "type": "contour"
           }
          ],
          "contourcarpet": [
           {
            "colorbar": {
             "outlinewidth": 0,
             "ticks": ""
            },
            "type": "contourcarpet"
           }
          ],
          "heatmap": [
           {
            "colorbar": {
             "outlinewidth": 0,
             "ticks": ""
            },
            "colorscale": [
             [
              0,
              "#0d0887"
             ],
             [
              0.1111111111111111,
              "#46039f"
             ],
             [
              0.2222222222222222,
              "#7201a8"
             ],
             [
              0.3333333333333333,
              "#9c179e"
             ],
             [
              0.4444444444444444,
              "#bd3786"
             ],
             [
              0.5555555555555556,
              "#d8576b"
             ],
             [
              0.6666666666666666,
              "#ed7953"
             ],
             [
              0.7777777777777778,
              "#fb9f3a"
             ],
             [
              0.8888888888888888,
              "#fdca26"
             ],
             [
              1,
              "#f0f921"
             ]
            ],
            "type": "heatmap"
           }
          ],
          "heatmapgl": [
           {
            "colorbar": {
             "outlinewidth": 0,
             "ticks": ""
            },
            "colorscale": [
             [
              0,
              "#0d0887"
             ],
             [
              0.1111111111111111,
              "#46039f"
             ],
             [
              0.2222222222222222,
              "#7201a8"
             ],
             [
              0.3333333333333333,
              "#9c179e"
             ],
             [
              0.4444444444444444,
              "#bd3786"
             ],
             [
              0.5555555555555556,
              "#d8576b"
             ],
             [
              0.6666666666666666,
              "#ed7953"
             ],
             [
              0.7777777777777778,
              "#fb9f3a"
             ],
             [
              0.8888888888888888,
              "#fdca26"
             ],
             [
              1,
              "#f0f921"
             ]
            ],
            "type": "heatmapgl"
           }
          ],
          "histogram": [
           {
            "marker": {
             "pattern": {
              "fillmode": "overlay",
              "size": 10,
              "solidity": 0.2
             }
            },
            "type": "histogram"
           }
          ],
          "histogram2d": [
           {
            "colorbar": {
             "outlinewidth": 0,
             "ticks": ""
            },
            "colorscale": [
             [
              0,
              "#0d0887"
             ],
             [
              0.1111111111111111,
              "#46039f"
             ],
             [
              0.2222222222222222,
              "#7201a8"
             ],
             [
              0.3333333333333333,
              "#9c179e"
             ],
             [
              0.4444444444444444,
              "#bd3786"
             ],
             [
              0.5555555555555556,
              "#d8576b"
             ],
             [
              0.6666666666666666,
              "#ed7953"
             ],
             [
              0.7777777777777778,
              "#fb9f3a"
             ],
             [
              0.8888888888888888,
              "#fdca26"
             ],
             [
              1,
              "#f0f921"
             ]
            ],
            "type": "histogram2d"
           }
          ],
          "histogram2dcontour": [
           {
            "colorbar": {
             "outlinewidth": 0,
             "ticks": ""
            },
            "colorscale": [
             [
              0,
              "#0d0887"
             ],
             [
              0.1111111111111111,
              "#46039f"
             ],
             [
              0.2222222222222222,
              "#7201a8"
             ],
             [
              0.3333333333333333,
              "#9c179e"
             ],
             [
              0.4444444444444444,
              "#bd3786"
             ],
             [
              0.5555555555555556,
              "#d8576b"
             ],
             [
              0.6666666666666666,
              "#ed7953"
             ],
             [
              0.7777777777777778,
              "#fb9f3a"
             ],
             [
              0.8888888888888888,
              "#fdca26"
             ],
             [
              1,
              "#f0f921"
             ]
            ],
            "type": "histogram2dcontour"
           }
          ],
          "mesh3d": [
           {
            "colorbar": {
             "outlinewidth": 0,
             "ticks": ""
            },
            "type": "mesh3d"
           }
          ],
          "parcoords": [
           {
            "line": {
             "colorbar": {
              "outlinewidth": 0,
              "ticks": ""
             }
            },
            "type": "parcoords"
           }
          ],
          "pie": [
           {
            "automargin": true,
            "type": "pie"
           }
          ],
          "scatter": [
           {
            "fillpattern": {
             "fillmode": "overlay",
             "size": 10,
             "solidity": 0.2
            },
            "type": "scatter"
           }
          ],
          "scatter3d": [
           {
            "line": {
             "colorbar": {
              "outlinewidth": 0,
              "ticks": ""
             }
            },
            "marker": {
             "colorbar": {
              "outlinewidth": 0,
              "ticks": ""
             }
            },
            "type": "scatter3d"
           }
          ],
          "scattercarpet": [
           {
            "marker": {
             "colorbar": {
              "outlinewidth": 0,
              "ticks": ""
             }
            },
            "type": "scattercarpet"
           }
          ],
          "scattergeo": [
           {
            "marker": {
             "colorbar": {
              "outlinewidth": 0,
              "ticks": ""
             }
            },
            "type": "scattergeo"
           }
          ],
          "scattergl": [
           {
            "marker": {
             "colorbar": {
              "outlinewidth": 0,
              "ticks": ""
             }
            },
            "type": "scattergl"
           }
          ],
          "scattermapbox": [
           {
            "marker": {
             "colorbar": {
              "outlinewidth": 0,
              "ticks": ""
             }
            },
            "type": "scattermapbox"
           }
          ],
          "scatterpolar": [
           {
            "marker": {
             "colorbar": {
              "outlinewidth": 0,
              "ticks": ""
             }
            },
            "type": "scatterpolar"
           }
          ],
          "scatterpolargl": [
           {
            "marker": {
             "colorbar": {
              "outlinewidth": 0,
              "ticks": ""
             }
            },
            "type": "scatterpolargl"
           }
          ],
          "scatterternary": [
           {
            "marker": {
             "colorbar": {
              "outlinewidth": 0,
              "ticks": ""
             }
            },
            "type": "scatterternary"
           }
          ],
          "surface": [
           {
            "colorbar": {
             "outlinewidth": 0,
             "ticks": ""
            },
            "colorscale": [
             [
              0,
              "#0d0887"
             ],
             [
              0.1111111111111111,
              "#46039f"
             ],
             [
              0.2222222222222222,
              "#7201a8"
             ],
             [
              0.3333333333333333,
              "#9c179e"
             ],
             [
              0.4444444444444444,
              "#bd3786"
             ],
             [
              0.5555555555555556,
              "#d8576b"
             ],
             [
              0.6666666666666666,
              "#ed7953"
             ],
             [
              0.7777777777777778,
              "#fb9f3a"
             ],
             [
              0.8888888888888888,
              "#fdca26"
             ],
             [
              1,
              "#f0f921"
             ]
            ],
            "type": "surface"
           }
          ],
          "table": [
           {
            "cells": {
             "fill": {
              "color": "#EBF0F8"
             },
             "line": {
              "color": "white"
             }
            },
            "header": {
             "fill": {
              "color": "#C8D4E3"
             },
             "line": {
              "color": "white"
             }
            },
            "type": "table"
           }
          ]
         },
         "layout": {
          "annotationdefaults": {
           "arrowcolor": "#2a3f5f",
           "arrowhead": 0,
           "arrowwidth": 1
          },
          "autotypenumbers": "strict",
          "coloraxis": {
           "colorbar": {
            "outlinewidth": 0,
            "ticks": ""
           }
          },
          "colorscale": {
           "diverging": [
            [
             0,
             "#8e0152"
            ],
            [
             0.1,
             "#c51b7d"
            ],
            [
             0.2,
             "#de77ae"
            ],
            [
             0.3,
             "#f1b6da"
            ],
            [
             0.4,
             "#fde0ef"
            ],
            [
             0.5,
             "#f7f7f7"
            ],
            [
             0.6,
             "#e6f5d0"
            ],
            [
             0.7,
             "#b8e186"
            ],
            [
             0.8,
             "#7fbc41"
            ],
            [
             0.9,
             "#4d9221"
            ],
            [
             1,
             "#276419"
            ]
           ],
           "sequential": [
            [
             0,
             "#0d0887"
            ],
            [
             0.1111111111111111,
             "#46039f"
            ],
            [
             0.2222222222222222,
             "#7201a8"
            ],
            [
             0.3333333333333333,
             "#9c179e"
            ],
            [
             0.4444444444444444,
             "#bd3786"
            ],
            [
             0.5555555555555556,
             "#d8576b"
            ],
            [
             0.6666666666666666,
             "#ed7953"
            ],
            [
             0.7777777777777778,
             "#fb9f3a"
            ],
            [
             0.8888888888888888,
             "#fdca26"
            ],
            [
             1,
             "#f0f921"
            ]
           ],
           "sequentialminus": [
            [
             0,
             "#0d0887"
            ],
            [
             0.1111111111111111,
             "#46039f"
            ],
            [
             0.2222222222222222,
             "#7201a8"
            ],
            [
             0.3333333333333333,
             "#9c179e"
            ],
            [
             0.4444444444444444,
             "#bd3786"
            ],
            [
             0.5555555555555556,
             "#d8576b"
            ],
            [
             0.6666666666666666,
             "#ed7953"
            ],
            [
             0.7777777777777778,
             "#fb9f3a"
            ],
            [
             0.8888888888888888,
             "#fdca26"
            ],
            [
             1,
             "#f0f921"
            ]
           ]
          },
          "colorway": [
           "#636efa",
           "#EF553B",
           "#00cc96",
           "#ab63fa",
           "#FFA15A",
           "#19d3f3",
           "#FF6692",
           "#B6E880",
           "#FF97FF",
           "#FECB52"
          ],
          "font": {
           "color": "#2a3f5f"
          },
          "geo": {
           "bgcolor": "white",
           "lakecolor": "white",
           "landcolor": "#E5ECF6",
           "showlakes": true,
           "showland": true,
           "subunitcolor": "white"
          },
          "hoverlabel": {
           "align": "left"
          },
          "hovermode": "closest",
          "mapbox": {
           "style": "light"
          },
          "paper_bgcolor": "white",
          "plot_bgcolor": "#E5ECF6",
          "polar": {
           "angularaxis": {
            "gridcolor": "white",
            "linecolor": "white",
            "ticks": ""
           },
           "bgcolor": "#E5ECF6",
           "radialaxis": {
            "gridcolor": "white",
            "linecolor": "white",
            "ticks": ""
           }
          },
          "scene": {
           "xaxis": {
            "backgroundcolor": "#E5ECF6",
            "gridcolor": "white",
            "gridwidth": 2,
            "linecolor": "white",
            "showbackground": true,
            "ticks": "",
            "zerolinecolor": "white"
           },
           "yaxis": {
            "backgroundcolor": "#E5ECF6",
            "gridcolor": "white",
            "gridwidth": 2,
            "linecolor": "white",
            "showbackground": true,
            "ticks": "",
            "zerolinecolor": "white"
           },
           "zaxis": {
            "backgroundcolor": "#E5ECF6",
            "gridcolor": "white",
            "gridwidth": 2,
            "linecolor": "white",
            "showbackground": true,
            "ticks": "",
            "zerolinecolor": "white"
           }
          },
          "shapedefaults": {
           "line": {
            "color": "#2a3f5f"
           }
          },
          "ternary": {
           "aaxis": {
            "gridcolor": "white",
            "linecolor": "white",
            "ticks": ""
           },
           "baxis": {
            "gridcolor": "white",
            "linecolor": "white",
            "ticks": ""
           },
           "bgcolor": "#E5ECF6",
           "caxis": {
            "gridcolor": "white",
            "linecolor": "white",
            "ticks": ""
           }
          },
          "title": {
           "x": 0.05
          },
          "xaxis": {
           "automargin": true,
           "gridcolor": "white",
           "linecolor": "white",
           "ticks": "",
           "title": {
            "standoff": 15
           },
           "zerolinecolor": "white",
           "zerolinewidth": 2
          },
          "yaxis": {
           "automargin": true,
           "gridcolor": "white",
           "linecolor": "white",
           "ticks": "",
           "title": {
            "standoff": 15
           },
           "zerolinecolor": "white",
           "zerolinewidth": 2
          }
         }
        }
       }
      }
     },
     "metadata": {},
     "output_type": "display_data"
    }
   ],
   "source": [
    "px.scatter_3d(pca_df, 0, 1, 2)"
   ]
  },
  {
   "cell_type": "code",
   "execution_count": 40,
   "metadata": {},
   "outputs": [],
   "source": [
    "import random"
   ]
  },
  {
   "cell_type": "code",
   "execution_count": 86,
   "metadata": {},
   "outputs": [],
   "source": [
    "centros = [[0, 0, 0, 0], [5, 0, 0, 3], [2.5, 2, 1.5, 0]]\n",
    "columns = [0, 1, 2, 3]\n",
    "data = []\n",
    "    \n",
    "for row in range(250):\n",
    "    data.append([])\n",
    "    data[row] = [x + random.gauss(x, 2) for x in centros[random.randint(0, 2)]]\n"
   ]
  },
  {
   "cell_type": "code",
   "execution_count": 87,
   "metadata": {},
   "outputs": [],
   "source": [
    "df = pd.DataFrame(data, columns=columns)"
   ]
  },
  {
   "cell_type": "code",
   "execution_count": 91,
   "metadata": {},
   "outputs": [],
   "source": [
    "df.to_csv('./data/example_data.csv', index=None)"
   ]
  },
  {
   "cell_type": "code",
   "execution_count": 88,
   "metadata": {},
   "outputs": [
    {
     "data": {
      "text/plain": [
       "<seaborn.axisgrid.PairGrid at 0x29075bf70>"
      ]
     },
     "execution_count": 88,
     "metadata": {},
     "output_type": "execute_result"
    },
    {
     "data": {
      "image/png": "[encoded data removed]",
      "text/plain": [
       "<Figure size 720x720 with 20 Axes>"
      ]
     },
     "metadata": {
      "needs_background": "light"
     },
     "output_type": "display_data"
    }
   ],
   "source": [
    "sns.pairplot(df)"
   ]
  },
  {
   "cell_type": "code",
   "execution_count": 89,
   "metadata": {},
   "outputs": [],
   "source": [
    "pca = PCA()\n",
    "pca_df = pd.DataFrame(pca.fit_transform(df))"
   ]
  },
  {
   "cell_type": "code",
   "execution_count": 92,
   "metadata": {},
   "outputs": [
    {
     "data": {
      "text/plain": [
       "<AxesSubplot:xlabel='0', ylabel='1'>"
      ]
     },
     "execution_count": 92,
     "metadata": {},
     "output_type": "execute_result"
    },
    {
     "data": {
      "image/png": "[encoded data removed]",
      "text/plain": [
       "<Figure size 432x288 with 1 Axes>"
      ]
     },
     "metadata": {
      "needs_background": "light"
     },
     "output_type": "display_data"
    }
   ],
   "source": [
    "sns.scatterplot(data=pca_df, x=0, y=1)"
   ]
  },
  {
   "cell_type": "code",
   "execution_count": 90,
   "metadata": {},
   "outputs": [
    {
     "data": {
      "application/vnd.plotly.v1+json": {
       "config": {
        "plotlyServerURL": "https://plot.ly"
       },
       "data": [
        {
         "hovertemplate": "0=%{x}<br>1=%{y}<br>2=%{z}<extra></extra>",
         "legendgroup": "",
         "marker": {
          "color": "#636efa",
          "symbol": "circle"
         },
         "mode": "markers",
         "name": "",
         "scene": "scene",
         "showlegend": false,
         "type": "scatter3d",
         "x": [
          -3.727077009490817,
          3.503339850172428,
          -4.42233074378669,
          -3.3895079528245837,
          0.8407090848400494,
          7.883945135272938,
          0.8231628729536739,
          -3.682857175775676,
          -0.5248423304237052,
          -5.5514094314196205,
          10.240680034510227,
          -1.9549822388591216,
          -1.6908351925839644,
          -5.824782747898092,
          -6.835058729953578,
          -1.7942536950787475,
          -2.15298608381566,
          -3.467525665912099,
          -0.13114489071757537,
          -3.3274671971835286,
          -2.8494610424753786,
          6.764302956423153,
          -1.877253998278294,
          -5.774769628900741,
          9.031508884974004,
          -6.338268928279232,
          -4.011284351489517,
          -0.36810689254592444,
          -0.7656797819226602,
          0.5387108678187326,
          -6.644228173710354,
          -0.9859973281012835,
          0.8141874685782785,
          -4.2718179603853725,
          5.288432301796889,
          5.476824014397753,
          -1.5170058953027905,
          -4.181538147664579,
          -2.9345897850379554,
          -1.4498244033981533,
          -4.667420649501517,
          -4.481218576592357,
          -4.037268645630712,
          -4.782086291027414,
          -5.157061599807278,
          -2.87654024233449,
          2.7220173159523138,
          -4.474311189845126,
          -2.6081335211593846,
          6.2264307206615435,
          5.723886557137261,
          9.081940711288869,
          -4.220947189801285,
          0.396457679765986,
          -3.702395788542603,
          -5.259056271319921,
          -6.445078607009001,
          -3.4233457732737116,
          -6.963602889224814,
          -0.7914648402107438,
          -1.5187111656985302,
          6.4608549845184,
          -9.958468633292632,
          2.0969138274304555,
          -4.392042435956283,
          6.140732869637468,
          7.190488744433951,
          -2.3584933412327347,
          -6.232443214493079,
          -6.327964037489481,
          -0.6771039861440803,
          -3.372195572665547,
          6.605606515069561,
          8.967660008574132,
          -8.759496938367173,
          -2.948934253927074,
          -3.007328904836865,
          3.6373593136824995,
          5.344847026262881,
          -6.570846880271309,
          -2.578427143842277,
          5.375094306013144,
          5.397483767652991,
          5.460056709533279,
          5.178005233740326,
          6.90611811205872,
          -4.392546467118062,
          -7.501645814810913,
          -0.49935047359936136,
          -6.228527266264838,
          -9.948363745211012,
          -1.8943917163819062,
          -7.205433008719312,
          -3.0382382901985316,
          -0.10098324129211263,
          -0.128959927886565,
          7.565214765159072,
          -3.6581694479019027,
          -0.9233060599608361,
          5.955373706409461,
          7.827598775036347,
          -0.5852403010651558,
          -5.541349248366099,
          4.64903660448935,
          -5.359952187120002,
          7.95373791255213,
          5.8903254748018465,
          7.9524025264680995,
          -4.633665379908641,
          -2.8321185327877014,
          -3.8068771623680826,
          8.80828874551895,
          -0.9590186418769108,
          -4.239789905967911,
          9.760779734753823,
          1.0767203978847528,
          0.2120572934927367,
          -4.9096161679471955,
          -5.345941110267045,
          6.234976071423523,
          4.889053334861921,
          8.88950846609564,
          -1.6841957010102409,
          8.150130579615444,
          -6.03219004513292,
          6.2297773570009936,
          0.14867042653514392,
          -5.298976182316002,
          7.449934976555259,
          0.39757725631667235,
          5.515840350053326,
          -3.936874806698131,
          0.355140307293366,
          -4.653896228805018,
          -0.9611928613232497,
          -7.572631550486072,
          8.683025096649146,
          -5.220954221410229,
          -0.3758680634781043,
          -5.867400025255861,
          6.021900869806838,
          9.060638548906919,
          -0.5580461100738288,
          6.7785011934450425,
          0.2757327597524915,
          -6.129990513072561,
          7.239219132450428,
          -1.6414310760016397,
          8.182146633479663,
          -0.8073976358897196,
          -4.528178536062415,
          -7.224060194040078,
          -5.913898789930679,
          -2.876653588669028,
          -5.403177881694856,
          1.9513341513230027,
          -2.0942978517806172,
          5.593303488301011,
          -6.240934260477348,
          -6.545651972408707,
          -6.211241525064655,
          6.99244542242207,
          -0.25508203823218095,
          -1.0153504065650074,
          -5.392090065536454,
          4.493517030051143,
          -4.462441181937413,
          -3.614977264294376,
          8.786725036970926,
          -6.048132211250977,
          10.957716660093542,
          0.026505697052451694,
          6.738760234707943,
          -7.4704586112939655,
          8.139085418241898,
          -5.116023042785252,
          0.8243224379015395,
          5.114392286165011,
          4.609737457019817,
          -6.002332007944298,
          -6.064088687840406,
          7.641484036720371,
          -4.647268251528923,
          -1.957869272721515,
          5.381437975586932,
          5.944513555624581,
          -4.72047209955394,
          -5.243361938844029,
          -6.171098365945456,
          -1.3312070658521507,
          8.460146969049571,
          -7.424531340413942,
          -1.3456555121265175,
          4.876225172078995,
          8.913976057856997,
          6.369031294210806,
          3.8494128831054137,
          -2.36369112510151,
          0.8490712829644299,
          -2.034696369249776,
          -3.5357763551861083,
          4.1491966461030305,
          6.790475127565676,
          0.5889855384563959,
          -1.6222478145594408,
          -5.094296817729529,
          -8.601751350461855,
          -3.198034670207234,
          1.0172337201253125,
          -3.6358891794630153,
          8.00876108932331,
          -0.7437817283985086,
          -8.87002156655642,
          4.185534169070722,
          7.886727815401249,
          -2.5489996713529366,
          2.7917704334162132,
          6.994871442189549,
          8.164151082019355,
          7.0195758169116385,
          -7.711840121715458,
          -1.0550414694661143,
          1.4169887211055419,
          -0.22688037432000346,
          -0.8629285380673017,
          4.963005227514281,
          4.581461203069115,
          4.579157522726971,
          -6.569773566261539,
          -2.607270124324478,
          -6.220363664594193,
          -3.3706165916716655,
          4.770460133456091,
          6.518678964639868,
          -4.5801404813929985,
          6.559200901654104,
          0.4031801814089391,
          -7.343662323912689,
          1.2615540593937777,
          -2.2981156683208055,
          6.93842717775725,
          6.36490632586706,
          6.502858894784571,
          9.029012524736872,
          9.86934134039634,
          -4.419794428955334,
          7.103001814227263,
          3.4922015693694886,
          -1.188402697141868,
          -5.19657539420611
         ],
         "y": [
          -2.5850973545983513,
          -0.14213501008332877,
          -5.09379350325551,
          2.024692384179936,
          5.496514028650597,
          -2.309577153694283,
          4.483498255215016,
          4.547559588429455,
          4.058530048994556,
          -3.4445179398746606,
          0.05804262233573334,
          -2.9371553787874283,
          0.6586996126195278,
          -1.1003207812315705,
          -1.5253776576005516,
          -2.763017120926016,
          3.270151979603387,
          3.016610940331849,
          6.4360961352371975,
          -0.19894442799246456,
          -3.4915755526203043,
          -3.3392858291613763,
          2.5420147134845794,
          -2.2206861319175024,
          -2.019815432522071,
          -0.42016843882611443,
          -2.332916649899883,
          7.9157280671961825,
          0.40005140904572517,
          0.7540456583979226,
          -1.3194363246122836,
          8.11991185159885,
          7.931269569247933,
          -5.964611481971702,
          -1.1421253018406554,
          -3.8681356936446427,
          4.556372457071255,
          -1.904337530545406,
          -2.323924987714989,
          1.2583940262736872,
          -0.9642720659763384,
          -3.487506982272303,
          -3.8401101514489815,
          -5.5732236247306375,
          4.044507557089714,
          4.744835327755116,
          4.317369393408404,
          4.293598407965944,
          4.680710339329502,
          -1.366452994606777,
          0.9726340009429373,
          -2.390092349579786,
          -3.7520132185593127,
          0.6116789779445374,
          -1.144608591383901,
          -4.875570908891457,
          -4.518797274091332,
          4.207862372671374,
          0.37087501499627806,
          1.5185448128810572,
          6.95433759310202,
          -1.498208334995332,
          -4.708626552641363,
          -0.2951523475908448,
          -0.746088390469975,
          -2.8534168100697754,
          1.9511096668866839,
          3.1453970821674813,
          -2.528979047673043,
          -4.368887765638308,
          0.8591834371571241,
          3.507858519130354,
          -1.676178820202498,
          1.5744717500818897,
          -2.720357224722167,
          -2.4755473431,
          -0.239471904417755,
          -1.9304690253131624,
          -2.0604989949555317,
          0.26613934806246586,
          4.756174826844705,
          2.9484530033354415,
          0.6120245728365044,
          3.31925745773525,
          0.7390064640957464,
          -1.4428928097655922,
          1.397897485365594,
          -1.5923974465404631,
          6.614066419211712,
          -4.626078362656474,
          -1.3602166698252074,
          2.4848920470857987,
          -4.635889638081982,
          -0.7062849959643503,
          3.425001237078906,
          1.3707237635244716,
          -1.3299880111544098,
          -2.865081279130173,
          -2.33433736488766,
          -2.622299026593785,
          0.6669314787051137,
          3.8318974874772653,
          -6.890629944652186,
          -3.1802144858609203,
          -4.196096324256105,
          -3.5148679328900947,
          -1.5058199284754565,
          -0.9377695776191568,
          -4.253292167821948,
          -2.4485990541007965,
          -5.15244388585518,
          1.0264483159742783,
          5.232260487610194,
          -5.831570840954105,
          -0.6257214568412034,
          -0.6944420478520426,
          5.5807076360373395,
          1.278194169802631,
          -0.582043639048711,
          -3.0900752378603022,
          0.042360565010398143,
          0.5982721727070914,
          -1.557301623309594,
          -5.889578545705979,
          -0.5238965226945198,
          2.0758490881751244,
          0.3663800638381385,
          0.026098401593853977,
          -2.1103150331130496,
          4.750654893981212,
          -4.345894840411849,
          2.724545733148879,
          4.930874714486774,
          -4.323660284820899,
          4.5239126423738085,
          0.1876713092863806,
          -0.3230235213900116,
          -3.5208242110215227,
          3.1319723455612043,
          -2.6543590045509626,
          -3.500117418005854,
          -2.6100166705443293,
          6.428340086528326,
          2.560573293084942,
          1.269383710466272,
          -1.4681082648592028,
          0.12215667227661459,
          3.102814637662325,
          -3.9697709962526537,
          6.570347778121992,
          0.5741177738167955,
          -2.8228870628078004,
          -1.4096633296442251,
          2.47659373976922,
          -2.1082389499115446,
          0.7478195941244883,
          1.954012075055863,
          2.5772657068713247,
          -3.2779650420125424,
          -0.9717814109183456,
          0.8851143650786484,
          -2.164436562205611,
          -1.980493284660756,
          1.119380793212675,
          1.2839852642597558,
          -2.3564627571779875,
          -0.5265842653110634,
          -0.6361003412737023,
          0.4880880504432147,
          5.763675806938744,
          -3.408978529689074,
          3.802828999676717,
          -2.0535739597518696,
          -3.9611484469732776,
          1.2099959600903094,
          5.816850336736398,
          4.254921825975332,
          -1.732879022915403,
          -3.1785468902933998,
          -2.3618841493741383,
          0.007894193525511753,
          0.5832214042167491,
          6.4789612404920724,
          4.269890084740381,
          -2.319087993935921,
          1.0831185521060291,
          -3.163011620975688,
          5.135903465729848,
          -2.1779126398129076,
          5.739761052882216,
          -0.8436665621574067,
          -2.570803887799564,
          -1.5879312760630695,
          -0.1352543308786798,
          2.3457305450003827,
          -1.4924784709764332,
          -3.4834342472011577,
          3.443008308669823,
          4.782454506091208,
          -0.2258404071358281,
          -3.547993083292006,
          0.20770559715859013,
          -0.6308887835798066,
          1.2841500811451956,
          4.96498662275765,
          -3.014470808676945,
          -2.5172757845678913,
          4.773877771276884,
          2.9090304853845645,
          7.1498403181392804,
          -4.886147928672666,
          3.6932659612592103,
          0.047050638337441844,
          -2.023906590038418,
          -2.453772421547241,
          1.8235483607368634,
          0.2585380169337586,
          3.53535766436121,
          -0.9628185547760804,
          -1.5479546007667335,
          -3.8094949037574235,
          -7.117127346238252,
          6.117321068674126,
          3.894097854701476,
          1.1802549182601387,
          0.5608343894857685,
          -0.9316451776117203,
          1.3956454825023865,
          0.3536192186225535,
          4.598758954096436,
          0.43132909397735325,
          -2.110465755098834,
          -5.894472529767263,
          -3.051448512395587,
          -1.1494021199785862,
          -0.08084465513580025,
          5.636217896849492,
          -1.8257028189712128,
          3.419076466810964,
          -2.680652496628918,
          -3.525013544192061,
          0.7772363875379183,
          0.6950990741070582,
          -1.8380306874912564,
          -3.204431986274102,
          -0.8448554260004253,
          -0.1029613009114643,
          1.45443436102014,
          -1.8237258987167437,
          -2.027357611185477
         ],
         "z": [
          0.025404036371047975,
          -1.4326498126820866,
          1.9848091037577626,
          -1.069604939963265,
          0.3535924311137229,
          0.7090825422782576,
          2.0533989159785784,
          2.1491607140215074,
          1.565125849490976,
          -2.144213825126959,
          2.0568750439108663,
          -0.7160029440100114,
          -4.777630417320083,
          -1.2876951185235226,
          -0.2747146939568554,
          2.750856241504951,
          0.4904399087158054,
          -0.9285606358627213,
          -3.741619975880357,
          -1.6929685340151377,
          -2.5878652838862566,
          -2.794712249009282,
          1.0769237076443616,
          0.15028103217007527,
          -0.6409710581076136,
          -2.9560673558001436,
          0.27298627403020614,
          0.6285691701849669,
          -1.6545710717624103,
          -0.030794458342213695,
          0.809439305437273,
          -2.4767841342492876,
          0.19780842585730754,
          1.2194284311102241,
          -0.7820469610418427,
          1.2044471516465787,
          -0.29986577137125164,
          0.9480471520271169,
          -1.8496846053546745,
          0.22031127504599965,
          2.0650257835076213,
          1.7631599359473629,
          0.256335705739729,
          2.4034884505345566,
          -1.9187425741839672,
          -1.8293421899687912,
          -0.09972609292788598,
          -2.4657920369314703,
          1.3452873872050413,
          -1.6591211010258196,
          -1.118168985752437,
          -0.9122701610620828,
          -0.055138011807786595,
          0.6854314571672231,
          -0.1478062691829591,
          -1.253502457324253,
          1.921862340610081,
          2.696298674069087,
          -1.6097040564760416,
          0.1567218913915828,
          -2.8828752803629207,
          0.0009114201584159576,
          0.9484576630787644,
          2.9534161711103777,
          -1.166434554158071,
          3.3361958106438294,
          1.849566709514238,
          1.9173977214972056,
          1.6139440705418713,
          2.471032584880758,
          -0.3405596050708287,
          -1.4655864947686223,
          1.131418148172374,
          0.05152888836285756,
          -0.6756283128120155,
          -0.32369697979700607,
          0.2348264601525093,
          -0.29765698267928165,
          1.9128708101076421,
          2.0230912796886575,
          2.586251269669767,
          -1.5303714086419986,
          5.240994084332147,
          -2.4694236744938247,
          -3.5916327108165125,
          1.2477657166160387,
          4.774366039977901,
          3.355636159678438,
          -0.26098463531979005,
          -0.7869645580170405,
          -0.5337922136040681,
          -1.7198797220919588,
          2.1275438928179864,
          -1.4700425988188013,
          2.3111406668645955,
          -1.4369098926261286,
          1.2880324666477856,
          3.3992521128011806,
          -2.3983804341654635,
          -0.8151982914681536,
          -1.2429822387770375,
          -1.5073780922935245,
          -1.2280248282014978,
          -1.1482644758230907,
          -0.9705923616100383,
          -0.7240313786240736,
          -4.740688505509286,
          1.923265278957575,
          -0.7652324117350708,
          -0.11679685185990468,
          0.41871986510035486,
          -0.9683357281701784,
          -2.8600943958369314,
          -0.5974430663250383,
          -1.795142134032033,
          0.7025817977947284,
          1.0469180175576192,
          0.13706666147540253,
          1.5662383874235881,
          -1.8234763005051873,
          0.3648687249198124,
          -2.493536062668844,
          1.38398987186884,
          -0.50572941608391,
          3.775355623999178,
          2.249239262252904,
          5.838206022785573,
          -0.6026404595991453,
          2.258680791396351,
          2.889287596665321,
          -1.374806017126966,
          -0.6086408720322521,
          1.1144273535658584,
          -1.9875208942565548,
          -2.2743376734835112,
          0.09983772855354961,
          -0.29212081669873674,
          -0.2723437719657374,
          -2.787729930161945,
          -1.7307457235537977,
          -1.065599282021591,
          2.4078471630322067,
          2.4573669178822954,
          1.2108567777705432,
          0.7534455300198292,
          -2.5526826639012943,
          -1.714261740332286,
          1.2204014607690197,
          -0.3086112951990335,
          2.6946119066209997,
          -2.689557413111286,
          1.0820057470885494,
          2.7864854792946634,
          -3.1689202778237817,
          5.0960455306586745,
          -4.481871687514264,
          -1.734046279478964,
          -2.2434656138694145,
          -0.8980776722544389,
          -0.16477628192128818,
          -5.929326014710137,
          2.104648298106819,
          -1.5512707276811706,
          -0.73028033381635,
          -2.487219281875298,
          -0.6458903754130405,
          -0.8102073525735111,
          -1.6048359694147993,
          -1.718049099500726,
          0.8506717883177072,
          3.6908073080759976,
          -0.652102901187649,
          -1.4394376670460063,
          1.7389262917877373,
          0.7789036438823904,
          2.0950879208427198,
          -2.489482806133889,
          2.227939959633217,
          -1.5872426435588596,
          0.3072169710900408,
          2.634062580851057,
          2.762993306247326,
          1.3700468554480132,
          0.4696074278343376,
          -2.5006717751431498,
          1.7436203471189065,
          0.8905881376733753,
          0.6385128059875448,
          -0.13316973295858356,
          -1.405415214102622,
          -1.6329969276253378,
          2.699295307910392,
          -3.7357768936334774,
          4.538822425991091,
          2.5482945554967613,
          -0.5178941653354349,
          0.8487351847727068,
          -0.7486516677814686,
          3.1765134716540406,
          -2.9657636597157326,
          -0.4948588805549106,
          0.6792093286710945,
          0.49878570716658005,
          1.3706772923295532,
          1.8699171084969712,
          2.1450054438661192,
          0.44460460500808485,
          -1.8468711246118663,
          1.021315104747381,
          -0.40519694506524007,
          1.1378348838796324,
          1.2670394993271983,
          -0.06747710050568885,
          -0.5974249992695115,
          1.8627193921566125,
          -1.5571366193262421,
          -0.8533457912667654,
          8.107533471403675,
          -1.2988181475545204,
          -0.6177863219773619,
          -0.44365634340124405,
          1.6800372845393108,
          0.1556774789342124,
          -0.5518772312548796,
          -3.546628947678639,
          3.7763742861059177,
          0.36992163660606664,
          -2.190203027716143,
          1.7454994057016524,
          0.10542104670332932,
          -0.7491828896458915,
          -2.4653532912281313,
          -2.6718543705845357,
          1.6881551784613722,
          -1.484568906931401,
          2.652573819800293,
          -0.9404860423009138,
          -1.2491475200443054,
          0.1237182321760452,
          1.2209016846344016,
          -2.3760355158167745,
          0.8419723128234932,
          -0.8929677813899903,
          -3.743908091246072,
          -3.0718793152962514,
          -1.1876951528752788,
          -2.6087383193114744,
          2.4186153167463273,
          0.19104147619415077,
          -0.8901889353951737
         ]
        }
       ],
       "layout": {
        "legend": {
         "tracegroupgap": 0
        },
        "margin": {
         "t": 60
        },
        "scene": {
         "domain": {
          "x": [
           0,
           1
          ],
          "y": [
           0,
           1
          ]
         },
         "xaxis": {
          "title": {
           "text": "0"
          }
         },
         "yaxis": {
          "title": {
           "text": "1"
          }
         },
         "zaxis": {
          "title": {
           "text": "2"
          }
         }
        },
        "template": {
         "data": {
          "bar": [
           {
            "error_x": {
             "color": "#2a3f5f"
            },
            "error_y": {
             "color": "#2a3f5f"
            },
            "marker": {
             "line": {
              "color": "#E5ECF6",
              "width": 0.5
             },
             "pattern": {
              "fillmode": "overlay",
              "size": 10,
              "solidity": 0.2
             }
            },
            "type": "bar"
           }
          ],
          "barpolar": [
           {
            "marker": {
             "line": {
              "color": "#E5ECF6",
              "width": 0.5
             },
             "pattern": {
              "fillmode": "overlay",
              "size": 10,
              "solidity": 0.2
             }
            },
            "type": "barpolar"
           }
          ],
          "carpet": [
           {
            "aaxis": {
             "endlinecolor": "#2a3f5f",
             "gridcolor": "white",
             "linecolor": "white",
             "minorgridcolor": "white",
             "startlinecolor": "#2a3f5f"
            },
            "baxis": {
             "endlinecolor": "#2a3f5f",
             "gridcolor": "white",
             "linecolor": "white",
             "minorgridcolor": "white",
             "startlinecolor": "#2a3f5f"
            },
            "type": "carpet"
           }
          ],
          "choropleth": [
           {
            "colorbar": {
             "outlinewidth": 0,
             "ticks": ""
            },
            "type": "choropleth"
           }
          ],
          "contour": [
           {
            "colorbar": {
             "outlinewidth": 0,
             "ticks": ""
            },
            "colorscale": [
             [
              0,
              "#0d0887"
             ],
             [
              0.1111111111111111,
              "#46039f"
             ],
             [
              0.2222222222222222,
              "#7201a8"
             ],
             [
              0.3333333333333333,
              "#9c179e"
             ],
             [
              0.4444444444444444,
              "#bd3786"
             ],
             [
              0.5555555555555556,
              "#d8576b"
             ],
             [
              0.6666666666666666,
              "#ed7953"
             ],
             [
              0.7777777777777778,
              "#fb9f3a"
             ],
             [
              0.8888888888888888,
              "#fdca26"
             ],
             [
              1,
              "#f0f921"
             ]
            ],
            "type": "contour"
           }
          ],
          "contourcarpet": [
           {
            "colorbar": {
             "outlinewidth": 0,
             "ticks": ""
            },
            "type": "contourcarpet"
           }
          ],
          "heatmap": [
           {
            "colorbar": {
             "outlinewidth": 0,
             "ticks": ""
            },
            "colorscale": [
             [
              0,
              "#0d0887"
             ],
             [
              0.1111111111111111,
              "#46039f"
             ],
             [
              0.2222222222222222,
              "#7201a8"
             ],
             [
              0.3333333333333333,
              "#9c179e"
             ],
             [
              0.4444444444444444,
              "#bd3786"
             ],
             [
              0.5555555555555556,
              "#d8576b"
             ],
             [
              0.6666666666666666,
              "#ed7953"
             ],
             [
              0.7777777777777778,
              "#fb9f3a"
             ],
             [
              0.8888888888888888,
              "#fdca26"
             ],
             [
              1,
              "#f0f921"
             ]
            ],
            "type": "heatmap"
           }
          ],
          "heatmapgl": [
           {
            "colorbar": {
             "outlinewidth": 0,
             "ticks": ""
            },
            "colorscale": [
             [
              0,
              "#0d0887"
             ],
             [
              0.1111111111111111,
              "#46039f"
             ],
             [
              0.2222222222222222,
              "#7201a8"
             ],
             [
              0.3333333333333333,
              "#9c179e"
             ],
             [
              0.4444444444444444,
              "#bd3786"
             ],
             [
              0.5555555555555556,
              "#d8576b"
             ],
             [
              0.6666666666666666,
              "#ed7953"
             ],
             [
              0.7777777777777778,
              "#fb9f3a"
             ],
             [
              0.8888888888888888,
              "#fdca26"
             ],
             [
              1,
              "#f0f921"
             ]
            ],
            "type": "heatmapgl"
           }
          ],
          "histogram": [
           {
            "marker": {
             "pattern": {
              "fillmode": "overlay",
              "size": 10,
              "solidity": 0.2
             }
            },
            "type": "histogram"
           }
          ],
          "histogram2d": [
           {
            "colorbar": {
             "outlinewidth": 0,
             "ticks": ""
            },
            "colorscale": [
             [
              0,
              "#0d0887"
             ],
             [
              0.1111111111111111,
              "#46039f"
             ],
             [
              0.2222222222222222,
              "#7201a8"
             ],
             [
              0.3333333333333333,
              "#9c179e"
             ],
             [
              0.4444444444444444,
              "#bd3786"
             ],
             [
              0.5555555555555556,
              "#d8576b"
             ],
             [
              0.6666666666666666,
              "#ed7953"
             ],
             [
              0.7777777777777778,
              "#fb9f3a"
             ],
             [
              0.8888888888888888,
              "#fdca26"
             ],
             [
              1,
              "#f0f921"
             ]
            ],
            "type": "histogram2d"
           }
          ],
          "histogram2dcontour": [
           {
            "colorbar": {
             "outlinewidth": 0,
             "ticks": ""
            },
            "colorscale": [
             [
              0,
              "#0d0887"
             ],
             [
              0.1111111111111111,
              "#46039f"
             ],
             [
              0.2222222222222222,
              "#7201a8"
             ],
             [
              0.3333333333333333,
              "#9c179e"
             ],
             [
              0.4444444444444444,
              "#bd3786"
             ],
             [
              0.5555555555555556,
              "#d8576b"
             ],
             [
              0.6666666666666666,
              "#ed7953"
             ],
             [
              0.7777777777777778,
              "#fb9f3a"
             ],
             [
              0.8888888888888888,
              "#fdca26"
             ],
             [
              1,
              "#f0f921"
             ]
            ],
            "type": "histogram2dcontour"
           }
          ],
          "mesh3d": [
           {
            "colorbar": {
             "outlinewidth": 0,
             "ticks": ""
            },
            "type": "mesh3d"
           }
          ],
          "parcoords": [
           {
            "line": {
             "colorbar": {
              "outlinewidth": 0,
              "ticks": ""
             }
            },
            "type": "parcoords"
           }
          ],
          "pie": [
           {
            "automargin": true,
            "type": "pie"
           }
          ],
          "scatter": [
           {
            "fillpattern": {
             "fillmode": "overlay",
             "size": 10,
             "solidity": 0.2
            },
            "type": "scatter"
           }
          ],
          "scatter3d": [
           {
            "line": {
             "colorbar": {
              "outlinewidth": 0,
              "ticks": ""
             }
            },
            "marker": {
             "colorbar": {
              "outlinewidth": 0,
              "ticks": ""
             }
            },
            "type": "scatter3d"
           }
          ],
          "scattercarpet": [
           {
            "marker": {
             "colorbar": {
              "outlinewidth": 0,
              "ticks": ""
             }
            },
            "type": "scattercarpet"
           }
          ],
          "scattergeo": [
           {
            "marker": {
             "colorbar": {
              "outlinewidth": 0,
              "ticks": ""
             }
            },
            "type": "scattergeo"
           }
          ],
          "scattergl": [
           {
            "marker": {
             "colorbar": {
              "outlinewidth": 0,
              "ticks": ""
             }
            },
            "type": "scattergl"
           }
          ],
          "scattermapbox": [
           {
            "marker": {
             "colorbar": {
              "outlinewidth": 0,
              "ticks": ""
             }
            },
            "type": "scattermapbox"
           }
          ],
          "scatterpolar": [
           {
            "marker": {
             "colorbar": {
              "outlinewidth": 0,
              "ticks": ""
             }
            },
            "type": "scatterpolar"
           }
          ],
          "scatterpolargl": [
           {
            "marker": {
             "colorbar": {
              "outlinewidth": 0,
              "ticks": ""
             }
            },
            "type": "scatterpolargl"
           }
          ],
          "scatterternary": [
           {
            "marker": {
             "colorbar": {
              "outlinewidth": 0,
              "ticks": ""
             }
            },
            "type": "scatterternary"
           }
          ],
          "surface": [
           {
            "colorbar": {
             "outlinewidth": 0,
             "ticks": ""
            },
            "colorscale": [
             [
              0,
              "#0d0887"
             ],
             [
              0.1111111111111111,
              "#46039f"
             ],
             [
              0.2222222222222222,
              "#7201a8"
             ],
             [
              0.3333333333333333,
              "#9c179e"
             ],
             [
              0.4444444444444444,
              "#bd3786"
             ],
             [
              0.5555555555555556,
              "#d8576b"
             ],
             [
              0.6666666666666666,
              "#ed7953"
             ],
             [
              0.7777777777777778,
              "#fb9f3a"
             ],
             [
              0.8888888888888888,
              "#fdca26"
             ],
             [
              1,
              "#f0f921"
             ]
            ],
            "type": "surface"
           }
          ],
          "table": [
           {
            "cells": {
             "fill": {
              "color": "#EBF0F8"
             },
             "line": {
              "color": "white"
             }
            },
            "header": {
             "fill": {
              "color": "#C8D4E3"
             },
             "line": {
              "color": "white"
             }
            },
            "type": "table"
           }
          ]
         },
         "layout": {
          "annotationdefaults": {
           "arrowcolor": "#2a3f5f",
           "arrowhead": 0,
           "arrowwidth": 1
          },
          "autotypenumbers": "strict",
          "coloraxis": {
           "colorbar": {
            "outlinewidth": 0,
            "ticks": ""
           }
          },
          "colorscale": {
           "diverging": [
            [
             0,
             "#8e0152"
            ],
            [
             0.1,
             "#c51b7d"
            ],
            [
             0.2,
             "#de77ae"
            ],
            [
             0.3,
             "#f1b6da"
            ],
            [
             0.4,
             "#fde0ef"
            ],
            [
             0.5,
             "#f7f7f7"
            ],
            [
             0.6,
             "#e6f5d0"
            ],
            [
             0.7,
             "#b8e186"
            ],
            [
             0.8,
             "#7fbc41"
            ],
            [
             0.9,
             "#4d9221"
            ],
            [
             1,
             "#276419"
            ]
           ],
           "sequential": [
            [
             0,
             "#0d0887"
            ],
            [
             0.1111111111111111,
             "#46039f"
            ],
            [
             0.2222222222222222,
             "#7201a8"
            ],
            [
             0.3333333333333333,
             "#9c179e"
            ],
            [
             0.4444444444444444,
             "#bd3786"
            ],
            [
             0.5555555555555556,
             "#d8576b"
            ],
            [
             0.6666666666666666,
             "#ed7953"
            ],
            [
             0.7777777777777778,
             "#fb9f3a"
            ],
            [
             0.8888888888888888,
             "#fdca26"
            ],
            [
             1,
             "#f0f921"
            ]
           ],
           "sequentialminus": [
            [
             0,
             "#0d0887"
            ],
            [
             0.1111111111111111,
             "#46039f"
            ],
            [
             0.2222222222222222,
             "#7201a8"
            ],
            [
             0.3333333333333333,
             "#9c179e"
            ],
            [
             0.4444444444444444,
             "#bd3786"
            ],
            [
             0.5555555555555556,
             "#d8576b"
            ],
            [
             0.6666666666666666,
             "#ed7953"
            ],
            [
             0.7777777777777778,
             "#fb9f3a"
            ],
            [
             0.8888888888888888,
             "#fdca26"
            ],
            [
             1,
             "#f0f921"
            ]
           ]
          },
          "colorway": [
           "#636efa",
           "#EF553B",
           "#00cc96",
           "#ab63fa",
           "#FFA15A",
           "#19d3f3",
           "#FF6692",
           "#B6E880",
           "#FF97FF",
           "#FECB52"
          ],
          "font": {
           "color": "#2a3f5f"
          },
          "geo": {
           "bgcolor": "white",
           "lakecolor": "white",
           "landcolor": "#E5ECF6",
           "showlakes": true,
           "showland": true,
           "subunitcolor": "white"
          },
          "hoverlabel": {
           "align": "left"
          },
          "hovermode": "closest",
          "mapbox": {
           "style": "light"
          },
          "paper_bgcolor": "white",
          "plot_bgcolor": "#E5ECF6",
          "polar": {
           "angularaxis": {
            "gridcolor": "white",
            "linecolor": "white",
            "ticks": ""
           },
           "bgcolor": "#E5ECF6",
           "radialaxis": {
            "gridcolor": "white",
            "linecolor": "white",
            "ticks": ""
           }
          },
          "scene": {
           "xaxis": {
            "backgroundcolor": "#E5ECF6",
            "gridcolor": "white",
            "gridwidth": 2,
            "linecolor": "white",
            "showbackground": true,
            "ticks": "",
            "zerolinecolor": "white"
           },
           "yaxis": {
            "backgroundcolor": "#E5ECF6",
            "gridcolor": "white",
            "gridwidth": 2,
            "linecolor": "white",
            "showbackground": true,
            "ticks": "",
            "zerolinecolor": "white"
           },
           "zaxis": {
            "backgroundcolor": "#E5ECF6",
            "gridcolor": "white",
            "gridwidth": 2,
            "linecolor": "white",
            "showbackground": true,
            "ticks": "",
            "zerolinecolor": "white"
           }
          },
          "shapedefaults": {
           "line": {
            "color": "#2a3f5f"
           }
          },
          "ternary": {
           "aaxis": {
            "gridcolor": "white",
            "linecolor": "white",
            "ticks": ""
           },
           "baxis": {
            "gridcolor": "white",
            "linecolor": "white",
            "ticks": ""
           },
           "bgcolor": "#E5ECF6",
           "caxis": {
            "gridcolor": "white",
            "linecolor": "white",
            "ticks": ""
           }
          },
          "title": {
           "x": 0.05
          },
          "xaxis": {
           "automargin": true,
           "gridcolor": "white",
           "linecolor": "white",
           "ticks": "",
           "title": {
            "standoff": 15
           },
           "zerolinecolor": "white",
           "zerolinewidth": 2
          },
          "yaxis": {
           "automargin": true,
           "gridcolor": "white",
           "linecolor": "white",
           "ticks": "",
           "title": {
            "standoff": 15
           },
           "zerolinecolor": "white",
           "zerolinewidth": 2
          }
         }
        }
       }
      }
     },
     "metadata": {},
     "output_type": "display_data"
    }
   ],
   "source": [
    "px.scatter_3d(pca_df, 0, 1, 2)"
   ]
  },
  {
   "cell_type": "code",
   "execution_count": 54,
   "metadata": {},
   "outputs": [
    {
     "data": {
      "text/plain": [
       "<AxesSubplot:ylabel='Count'>"
      ]
     },
     "execution_count": 54,
     "metadata": {},
     "output_type": "execute_result"
    },
    {
     "data": {
      "image/png": "[encoded data removed]",
      "text/plain": [
       "<Figure size 432x288 with 1 Axes>"
      ]
     },
     "metadata": {
      "needs_background": "light"
     },
     "output_type": "display_data"
    }
   ],
   "source": [
    "sns.histplot([random.gauss(10, 0.25) for _ in range(1, 10000)])"
   ]
  },
  {
   "cell_type": "code",
   "execution_count": null,
   "metadata": {},
   "outputs": [],
   "source": []
  }
 ],
 "metadata": {
  "kernelspec": {
   "display_name": "Python 3.10.5 ('BD-PCA-project-fK0JjJEi')",
   "language": "python",
   "name": "python3"
  },
  "language_info": {
   "codemirror_mode": {
    "name": "ipython",
    "version": 3
   },
   "file_extension": ".py",
   "mimetype": "text/x-python",
   "name": "python",
   "nbconvert_exporter": "python",
   "pygments_lexer": "ipython3",
   "version": "3.10.5"
  },
  "orig_nbformat": 4,
  "vscode": {
   "interpreter": {
    "hash": "ab57f9982d8eb30c69f00f4a3c6f9da5a93d1b963ffde87525f0e2e443b8fb81"
   }
  }
 },
 "nbformat": 4,
 "nbformat_minor": 2
}
