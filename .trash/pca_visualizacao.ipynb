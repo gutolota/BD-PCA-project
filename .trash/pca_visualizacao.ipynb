{
 "cells": [
  {
   "cell_type": "code",
   "execution_count": 2,
   "metadata": {},
   "outputs": [],
   "source": [
    "import pandas as pd\n",
    "import seaborn as sns\n",
    "from sklearn.cluster import k_means\n",
    "from sklearn.decomposition import PCA\n",
    "import matplotlib.pyplot as plt\n",
    "import plotly.express as px"
   ]
  },
  {
   "cell_type": "code",
   "execution_count": 3,
   "metadata": {},
   "outputs": [],
   "source": [
    "wine_df = pd.read_csv('./data/wine-clustering.csv')"
   ]
  },
  {
   "cell_type": "code",
   "execution_count": 4,
   "metadata": {},
   "outputs": [
    {
     "data": {
      "text/html": [
       "<div>\n",
       "<style scoped>\n",
       "    .dataframe tbody tr th:only-of-type {\n",
       "        vertical-align: middle;\n",
       "    }\n",
       "\n",
       "    .dataframe tbody tr th {\n",
       "        vertical-align: top;\n",
       "    }\n",
       "\n",
       "    .dataframe thead th {\n",
       "        text-align: right;\n",
       "    }\n",
       "</style>\n",
       "<table border=\"1\" class=\"dataframe\">\n",
       "  <thead>\n",
       "    <tr style=\"text-align: right;\">\n",
       "      <th></th>\n",
       "      <th>Alcohol</th>\n",
       "      <th>Malic_Acid</th>\n",
       "      <th>Ash</th>\n",
       "      <th>Ash_Alcanity</th>\n",
       "      <th>Magnesium</th>\n",
       "      <th>Total_Phenols</th>\n",
       "      <th>Flavanoids</th>\n",
       "      <th>Nonflavanoid_Phenols</th>\n",
       "      <th>Proanthocyanins</th>\n",
       "      <th>Color_Intensity</th>\n",
       "      <th>Hue</th>\n",
       "      <th>OD280</th>\n",
       "      <th>Proline</th>\n",
       "    </tr>\n",
       "  </thead>\n",
       "  <tbody>\n",
       "    <tr>\n",
       "      <th>0</th>\n",
       "      <td>14.23</td>\n",
       "      <td>1.71</td>\n",
       "      <td>2.43</td>\n",
       "      <td>15.6</td>\n",
       "      <td>127</td>\n",
       "      <td>2.80</td>\n",
       "      <td>3.06</td>\n",
       "      <td>0.28</td>\n",
       "      <td>2.29</td>\n",
       "      <td>5.64</td>\n",
       "      <td>1.04</td>\n",
       "      <td>3.92</td>\n",
       "      <td>1065</td>\n",
       "    </tr>\n",
       "    <tr>\n",
       "      <th>1</th>\n",
       "      <td>13.20</td>\n",
       "      <td>1.78</td>\n",
       "      <td>2.14</td>\n",
       "      <td>11.2</td>\n",
       "      <td>100</td>\n",
       "      <td>2.65</td>\n",
       "      <td>2.76</td>\n",
       "      <td>0.26</td>\n",
       "      <td>1.28</td>\n",
       "      <td>4.38</td>\n",
       "      <td>1.05</td>\n",
       "      <td>3.40</td>\n",
       "      <td>1050</td>\n",
       "    </tr>\n",
       "    <tr>\n",
       "      <th>2</th>\n",
       "      <td>13.16</td>\n",
       "      <td>2.36</td>\n",
       "      <td>2.67</td>\n",
       "      <td>18.6</td>\n",
       "      <td>101</td>\n",
       "      <td>2.80</td>\n",
       "      <td>3.24</td>\n",
       "      <td>0.30</td>\n",
       "      <td>2.81</td>\n",
       "      <td>5.68</td>\n",
       "      <td>1.03</td>\n",
       "      <td>3.17</td>\n",
       "      <td>1185</td>\n",
       "    </tr>\n",
       "    <tr>\n",
       "      <th>3</th>\n",
       "      <td>14.37</td>\n",
       "      <td>1.95</td>\n",
       "      <td>2.50</td>\n",
       "      <td>16.8</td>\n",
       "      <td>113</td>\n",
       "      <td>3.85</td>\n",
       "      <td>3.49</td>\n",
       "      <td>0.24</td>\n",
       "      <td>2.18</td>\n",
       "      <td>7.80</td>\n",
       "      <td>0.86</td>\n",
       "      <td>3.45</td>\n",
       "      <td>1480</td>\n",
       "    </tr>\n",
       "    <tr>\n",
       "      <th>4</th>\n",
       "      <td>13.24</td>\n",
       "      <td>2.59</td>\n",
       "      <td>2.87</td>\n",
       "      <td>21.0</td>\n",
       "      <td>118</td>\n",
       "      <td>2.80</td>\n",
       "      <td>2.69</td>\n",
       "      <td>0.39</td>\n",
       "      <td>1.82</td>\n",
       "      <td>4.32</td>\n",
       "      <td>1.04</td>\n",
       "      <td>2.93</td>\n",
       "      <td>735</td>\n",
       "    </tr>\n",
       "  </tbody>\n",
       "</table>\n",
       "</div>"
      ],
      "text/plain": [
       "   Alcohol  Malic_Acid   Ash  Ash_Alcanity  Magnesium  Total_Phenols  \\\n",
       "0    14.23        1.71  2.43          15.6        127           2.80   \n",
       "1    13.20        1.78  2.14          11.2        100           2.65   \n",
       "2    13.16        2.36  2.67          18.6        101           2.80   \n",
       "3    14.37        1.95  2.50          16.8        113           3.85   \n",
       "4    13.24        2.59  2.87          21.0        118           2.80   \n",
       "\n",
       "   Flavanoids  Nonflavanoid_Phenols  Proanthocyanins  Color_Intensity   Hue  \\\n",
       "0        3.06                  0.28             2.29             5.64  1.04   \n",
       "1        2.76                  0.26             1.28             4.38  1.05   \n",
       "2        3.24                  0.30             2.81             5.68  1.03   \n",
       "3        3.49                  0.24             2.18             7.80  0.86   \n",
       "4        2.69                  0.39             1.82             4.32  1.04   \n",
       "\n",
       "   OD280  Proline  \n",
       "0   3.92     1065  \n",
       "1   3.40     1050  \n",
       "2   3.17     1185  \n",
       "3   3.45     1480  \n",
       "4   2.93      735  "
      ]
     },
     "execution_count": 4,
     "metadata": {},
     "output_type": "execute_result"
    }
   ],
   "source": [
    "wine_df.head()"
   ]
  },
  {
   "cell_type": "code",
   "execution_count": 5,
   "metadata": {},
   "outputs": [
    {
     "data": {
      "image/png": "[encoded data removed]",
      "text/plain": [
       "<Figure size 432x288 with 1 Axes>"
      ]
     },
     "metadata": {
      "needs_background": "light"
     },
     "output_type": "display_data"
    },
    {
     "data": {
      "image/png": "[encoded data removed]",
      "text/plain": [
       "<Figure size 432x288 with 1 Axes>"
      ]
     },
     "metadata": {
      "needs_background": "light"
     },
     "output_type": "display_data"
    },
    {
     "data": {
      "image/png": "[encoded data removed]",
      "text/plain": [
       "<Figure size 432x288 with 1 Axes>"
      ]
     },
     "metadata": {
      "needs_background": "light"
     },
     "output_type": "display_data"
    },
    {
     "data": {
      "image/png": "[encoded data removed]",
      "text/plain": [
       "<Figure size 432x288 with 1 Axes>"
      ]
     },
     "metadata": {
      "needs_background": "light"
     },
     "output_type": "display_data"
    },
    {
     "data": {
      "image/png": "[encoded data removed]",
      "text/plain": [
       "<Figure size 432x288 with 1 Axes>"
      ]
     },
     "metadata": {
      "needs_background": "light"
     },
     "output_type": "display_data"
    },
    {
     "data": {
      "image/png": "[encoded data removed]",
      "text/plain": [
       "<Figure size 432x288 with 1 Axes>"
      ]
     },
     "metadata": {
      "needs_background": "light"
     },
     "output_type": "display_data"
    },
    {
     "data": {
      "image/png": "[encoded data removed]",
      "text/plain": [
       "<Figure size 432x288 with 1 Axes>"
      ]
     },
     "metadata": {
      "needs_background": "light"
     },
     "output_type": "display_data"
    },
    {
     "data": {
      "image/png": "[encoded data removed]",
      "text/plain": [
       "<Figure size 432x288 with 1 Axes>"
      ]
     },
     "metadata": {
      "needs_background": "light"
     },
     "output_type": "display_data"
    },
    {
     "data": {
      "image/png": "[encoded data removed]",
      "text/plain": [
       "<Figure size 432x288 with 1 Axes>"
      ]
     },
     "metadata": {
      "needs_background": "light"
     },
     "output_type": "display_data"
    },
    {
     "data": {
      "image/png": "[encoded data removed]",
      "text/plain": [
       "<Figure size 432x288 with 1 Axes>"
      ]
     },
     "metadata": {
      "needs_background": "light"
     },
     "output_type": "display_data"
    },
    {
     "data": {
      "image/png": "[encoded data removed]",
      "text/plain": [
       "<Figure size 432x288 with 1 Axes>"
      ]
     },
     "metadata": {
      "needs_background": "light"
     },
     "output_type": "display_data"
    },
    {
     "data": {
      "image/png": "[encoded data removed]",
      "text/plain": [
       "<Figure size 432x288 with 1 Axes>"
      ]
     },
     "metadata": {
      "needs_background": "light"
     },
     "output_type": "display_data"
    },
    {
     "data": {
      "image/png": "[encoded data removed]",
      "text/plain": [
       "<Figure size 432x288 with 1 Axes>"
      ]
     },
     "metadata": {
      "needs_background": "light"
     },
     "output_type": "display_data"
    }
   ],
   "source": [
    "for col in wine_df.columns:\n",
    "    wine_df[col].hist()\n",
    "    plt.title('column: '+col)\n",
    "    plt.show()"
   ]
  },
  {
   "cell_type": "code",
   "execution_count": 6,
   "metadata": {},
   "outputs": [
    {
     "data": {
      "text/plain": [
       "<AxesSubplot:xlabel='Malic_Acid', ylabel='Magnesium'>"
      ]
     },
     "execution_count": 6,
     "metadata": {},
     "output_type": "execute_result"
    },
    {
     "data": {
      "image/png": "[encoded data removed]",
      "text/plain": [
       "<Figure size 432x288 with 1 Axes>"
      ]
     },
     "metadata": {
      "needs_background": "light"
     },
     "output_type": "display_data"
    }
   ],
   "source": [
    "sns.scatterplot(data=wine_df, x='Malic_Acid', y='Magnesium')"
   ]
  },
  {
   "cell_type": "code",
   "execution_count": 7,
   "metadata": {},
   "outputs": [
    {
     "data": {
      "application/vnd.plotly.v1+json": {
       "config": {
        "plotlyServerURL": "https://plot.ly"
       },
       "data": [
        {
         "hovertemplate": "Malic_Acid=%{x}<br>Magnesium=%{y}<br>Nonflavanoid_Phenols=%{z}<extra></extra>",
         "legendgroup": "",
         "marker": {
          "color": "#636efa",
          "symbol": "circle"
         },
         "mode": "markers",
         "name": "",
         "scene": "scene",
         "showlegend": false,
         "type": "scatter3d",
         "x": [
          1.71,
          1.78,
          2.36,
          1.95,
          2.59,
          1.76,
          1.87,
          2.15,
          1.64,
          1.35,
          2.16,
          1.48,
          1.73,
          1.73,
          1.87,
          1.81,
          1.92,
          1.57,
          1.59,
          3.1,
          1.63,
          3.8,
          1.86,
          1.6,
          1.81,
          2.05,
          1.77,
          1.72,
          1.9,
          1.68,
          1.5,
          1.66,
          1.83,
          1.53,
          1.8,
          1.81,
          1.64,
          1.65,
          1.5,
          3.99,
          1.71,
          3.84,
          1.89,
          3.98,
          1.77,
          4.04,
          3.59,
          1.68,
          2.02,
          1.73,
          1.73,
          1.65,
          1.75,
          1.9,
          1.67,
          1.73,
          1.7,
          1.97,
          1.43,
          0.94,
          1.1,
          1.36,
          1.25,
          1.13,
          1.45,
          1.21,
          1.01,
          1.17,
          0.94,
          1.19,
          1.61,
          1.51,
          1.66,
          1.67,
          1.09,
          1.88,
          0.9,
          2.89,
          0.99,
          3.87,
          0.92,
          1.81,
          1.13,
          3.86,
          0.89,
          0.98,
          1.61,
          1.67,
          2.06,
          1.33,
          1.83,
          1.51,
          1.53,
          2.83,
          1.99,
          1.52,
          2.12,
          1.41,
          1.07,
          3.17,
          2.08,
          1.34,
          2.45,
          1.72,
          1.73,
          2.55,
          1.73,
          1.75,
          1.29,
          1.35,
          3.74,
          2.43,
          2.68,
          0.74,
          1.39,
          1.51,
          1.47,
          1.61,
          3.43,
          3.43,
          2.4,
          2.05,
          4.43,
          5.8,
          4.31,
          2.16,
          1.53,
          2.13,
          1.63,
          4.3,
          1.35,
          2.99,
          2.31,
          3.55,
          1.24,
          2.46,
          4.72,
          5.51,
          3.59,
          2.96,
          2.81,
          2.56,
          3.17,
          4.95,
          3.88,
          3.57,
          5.04,
          4.61,
          3.24,
          3.9,
          3.12,
          2.67,
          1.9,
          3.3,
          1.29,
          5.19,
          4.12,
          3.03,
          1.68,
          1.67,
          3.83,
          3.26,
          3.27,
          3.45,
          2.76,
          4.36,
          3.7,
          3.37,
          2.58,
          4.6,
          3.03,
          2.39,
          2.51,
          5.65,
          3.91,
          4.28,
          2.59,
          4.1
         ],
         "y": [
          127,
          100,
          101,
          113,
          118,
          112,
          96,
          121,
          97,
          98,
          105,
          95,
          89,
          91,
          102,
          112,
          120,
          115,
          108,
          116,
          126,
          102,
          101,
          95,
          96,
          124,
          93,
          94,
          107,
          96,
          101,
          106,
          104,
          132,
          110,
          100,
          110,
          98,
          98,
          128,
          117,
          90,
          101,
          103,
          107,
          111,
          102,
          101,
          103,
          108,
          92,
          94,
          111,
          115,
          118,
          116,
          118,
          102,
          108,
          88,
          101,
          100,
          94,
          87,
          104,
          98,
          78,
          78,
          110,
          151,
          103,
          86,
          87,
          139,
          101,
          97,
          86,
          112,
          136,
          101,
          86,
          86,
          78,
          85,
          94,
          99,
          90,
          88,
          84,
          70,
          81,
          86,
          80,
          88,
          98,
          162,
          134,
          85,
          88,
          88,
          97,
          88,
          98,
          86,
          85,
          90,
          80,
          84,
          92,
          94,
          107,
          88,
          103,
          88,
          84,
          85,
          86,
          108,
          80,
          87,
          96,
          119,
          102,
          86,
          82,
          85,
          86,
          92,
          88,
          80,
          122,
          104,
          98,
          106,
          85,
          94,
          89,
          96,
          88,
          101,
          96,
          89,
          97,
          92,
          112,
          102,
          80,
          86,
          92,
          113,
          123,
          112,
          116,
          98,
          103,
          93,
          89,
          97,
          98,
          89,
          88,
          107,
          106,
          106,
          90,
          88,
          111,
          88,
          105,
          112,
          96,
          86,
          91,
          95,
          102,
          120,
          120,
          96
         ],
         "z": [
          0.28,
          0.26,
          0.3,
          0.24,
          0.39,
          0.34,
          0.3,
          0.31,
          0.29,
          0.22,
          0.22,
          0.26,
          0.29,
          0.43,
          0.29,
          0.3,
          0.33,
          0.4,
          0.32,
          0.17,
          0.24,
          0.25,
          0.27,
          0.26,
          0.28,
          0.47,
          0.34,
          0.27,
          0.37,
          0.26,
          0.29,
          0.22,
          0.42,
          0.5,
          0.29,
          0.26,
          0.34,
          0.29,
          0.28,
          0.2,
          0.34,
          0.27,
          0.17,
          0.32,
          0.28,
          0.3,
          0.27,
          0.21,
          0.32,
          0.32,
          0.17,
          0.22,
          0.32,
          0.39,
          0.21,
          0.2,
          0.26,
          0.31,
          0.19,
          0.28,
          0.63,
          0.53,
          0.32,
          0.19,
          0.45,
          0.37,
          0.26,
          0.27,
          0.55,
          0.14,
          0.37,
          0.21,
          0.27,
          0.21,
          0.13,
          0.34,
          0.24,
          0.43,
          0.35,
          0.43,
          0.3,
          0.26,
          0.4,
          0.61,
          0.22,
          0.3,
          0.43,
          0.4,
          0.48,
          0.42,
          0.52,
          0.5,
          0.58,
          0.25,
          0.17,
          0.32,
          0.14,
          0.29,
          0.24,
          0.45,
          0.26,
          0.29,
          0.34,
          0.37,
          0.32,
          0.66,
          0.37,
          0.48,
          0.39,
          0.29,
          0.24,
          0.26,
          0.6,
          0.42,
          0.43,
          0.52,
          0.3,
          0.34,
          0.43,
          0.37,
          0.32,
          0.47,
          0.43,
          0.3,
          0.21,
          0.37,
          0.39,
          0.58,
          0.4,
          0.42,
          0.21,
          0.24,
          0.27,
          0.17,
          0.6,
          0.63,
          0.53,
          0.63,
          0.58,
          0.53,
          0.53,
          0.37,
          0.5,
          0.47,
          0.29,
          0.43,
          0.4,
          0.47,
          0.45,
          0.34,
          0.22,
          0.24,
          0.26,
          0.61,
          0.53,
          0.61,
          0.48,
          0.63,
          0.53,
          0.52,
          0.5,
          0.5,
          0.6,
          0.4,
          0.41,
          0.52,
          0.43,
          0.4,
          0.39,
          0.27,
          0.4,
          0.48,
          0.44,
          0.52,
          0.43,
          0.43,
          0.53,
          0.56
         ]
        }
       ],
       "layout": {
        "legend": {
         "tracegroupgap": 0
        },
        "margin": {
         "t": 60
        },
        "scene": {
         "domain": {
          "x": [
           0,
           1
          ],
          "y": [
           0,
           1
          ]
         },
         "xaxis": {
          "title": {
           "text": "Malic_Acid"
          }
         },
         "yaxis": {
          "title": {
           "text": "Magnesium"
          }
         },
         "zaxis": {
          "title": {
           "text": "Nonflavanoid_Phenols"
          }
         }
        },
        "template": {
         "data": {
          "bar": [
           {
            "error_x": {
             "color": "#2a3f5f"
            },
            "error_y": {
             "color": "#2a3f5f"
            },
            "marker": {
             "line": {
              "color": "#E5ECF6",
              "width": 0.5
             },
             "pattern": {
              "fillmode": "overlay",
              "size": 10,
              "solidity": 0.2
             }
            },
            "type": "bar"
           }
          ],
          "barpolar": [
           {
            "marker": {
             "line": {
              "color": "#E5ECF6",
              "width": 0.5
             },
             "pattern": {
              "fillmode": "overlay",
              "size": 10,
              "solidity": 0.2
             }
            },
            "type": "barpolar"
           }
          ],
          "carpet": [
           {
            "aaxis": {
             "endlinecolor": "#2a3f5f",
             "gridcolor": "white",
             "linecolor": "white",
             "minorgridcolor": "white",
             "startlinecolor": "#2a3f5f"
            },
            "baxis": {
             "endlinecolor": "#2a3f5f",
             "gridcolor": "white",
             "linecolor": "white",
             "minorgridcolor": "white",
             "startlinecolor": "#2a3f5f"
            },
            "type": "carpet"
           }
          ],
          "choropleth": [
           {
            "colorbar": {
             "outlinewidth": 0,
             "ticks": ""
            },
            "type": "choropleth"
           }
          ],
          "contour": [
           {
            "colorbar": {
             "outlinewidth": 0,
             "ticks": ""
            },
            "colorscale": [
             [
              0,
              "#0d0887"
             ],
             [
              0.1111111111111111,
              "#46039f"
             ],
             [
              0.2222222222222222,
              "#7201a8"
             ],
             [
              0.3333333333333333,
              "#9c179e"
             ],
             [
              0.4444444444444444,
              "#bd3786"
             ],
             [
              0.5555555555555556,
              "#d8576b"
             ],
             [
              0.6666666666666666,
              "#ed7953"
             ],
             [
              0.7777777777777778,
              "#fb9f3a"
             ],
             [
              0.8888888888888888,
              "#fdca26"
             ],
             [
              1,
              "#f0f921"
             ]
            ],
            "type": "contour"
           }
          ],
          "contourcarpet": [
           {
            "colorbar": {
             "outlinewidth": 0,
             "ticks": ""
            },
            "type": "contourcarpet"
           }
          ],
          "heatmap": [
           {
            "colorbar": {
             "outlinewidth": 0,
             "ticks": ""
            },
            "colorscale": [
             [
              0,
              "#0d0887"
             ],
             [
              0.1111111111111111,
              "#46039f"
             ],
             [
              0.2222222222222222,
              "#7201a8"
             ],
             [
              0.3333333333333333,
              "#9c179e"
             ],
             [
              0.4444444444444444,
              "#bd3786"
             ],
             [
              0.5555555555555556,
              "#d8576b"
             ],
             [
              0.6666666666666666,
              "#ed7953"
             ],
             [
              0.7777777777777778,
              "#fb9f3a"
             ],
             [
              0.8888888888888888,
              "#fdca26"
             ],
             [
              1,
              "#f0f921"
             ]
            ],
            "type": "heatmap"
           }
          ],
          "heatmapgl": [
           {
            "colorbar": {
             "outlinewidth": 0,
             "ticks": ""
            },
            "colorscale": [
             [
              0,
              "#0d0887"
             ],
             [
              0.1111111111111111,
              "#46039f"
             ],
             [
              0.2222222222222222,
              "#7201a8"
             ],
             [
              0.3333333333333333,
              "#9c179e"
             ],
             [
              0.4444444444444444,
              "#bd3786"
             ],
             [
              0.5555555555555556,
              "#d8576b"
             ],
             [
              0.6666666666666666,
              "#ed7953"
             ],
             [
              0.7777777777777778,
              "#fb9f3a"
             ],
             [
              0.8888888888888888,
              "#fdca26"
             ],
             [
              1,
              "#f0f921"
             ]
            ],
            "type": "heatmapgl"
           }
          ],
          "histogram": [
           {
            "marker": {
             "pattern": {
              "fillmode": "overlay",
              "size": 10,
              "solidity": 0.2
             }
            },
            "type": "histogram"
           }
          ],
          "histogram2d": [
           {
            "colorbar": {
             "outlinewidth": 0,
             "ticks": ""
            },
            "colorscale": [
             [
              0,
              "#0d0887"
             ],
             [
              0.1111111111111111,
              "#46039f"
             ],
             [
              0.2222222222222222,
              "#7201a8"
             ],
             [
              0.3333333333333333,
              "#9c179e"
             ],
             [
              0.4444444444444444,
              "#bd3786"
             ],
             [
              0.5555555555555556,
              "#d8576b"
             ],
             [
              0.6666666666666666,
              "#ed7953"
             ],
             [
              0.7777777777777778,
              "#fb9f3a"
             ],
             [
              0.8888888888888888,
              "#fdca26"
             ],
             [
              1,
              "#f0f921"
             ]
            ],
            "type": "histogram2d"
           }
          ],
          "histogram2dcontour": [
           {
            "colorbar": {
             "outlinewidth": 0,
             "ticks": ""
            },
            "colorscale": [
             [
              0,
              "#0d0887"
             ],
             [
              0.1111111111111111,
              "#46039f"
             ],
             [
              0.2222222222222222,
              "#7201a8"
             ],
             [
              0.3333333333333333,
              "#9c179e"
             ],
             [
              0.4444444444444444,
              "#bd3786"
             ],
             [
              0.5555555555555556,
              "#d8576b"
             ],
             [
              0.6666666666666666,
              "#ed7953"
             ],
             [
              0.7777777777777778,
              "#fb9f3a"
             ],
             [
              0.8888888888888888,
              "#fdca26"
             ],
             [
              1,
              "#f0f921"
             ]
            ],
            "type": "histogram2dcontour"
           }
          ],
          "mesh3d": [
           {
            "colorbar": {
             "outlinewidth": 0,
             "ticks": ""
            },
            "type": "mesh3d"
           }
          ],
          "parcoords": [
           {
            "line": {
             "colorbar": {
              "outlinewidth": 0,
              "ticks": ""
             }
            },
            "type": "parcoords"
           }
          ],
          "pie": [
           {
            "automargin": true,
            "type": "pie"
           }
          ],
          "scatter": [
           {
            "fillpattern": {
             "fillmode": "overlay",
             "size": 10,
             "solidity": 0.2
            },
            "type": "scatter"
           }
          ],
          "scatter3d": [
           {
            "line": {
             "colorbar": {
              "outlinewidth": 0,
              "ticks": ""
             }
            },
            "marker": {
             "colorbar": {
              "outlinewidth": 0,
              "ticks": ""
             }
            },
            "type": "scatter3d"
           }
          ],
          "scattercarpet": [
           {
            "marker": {
             "colorbar": {
              "outlinewidth": 0,
              "ticks": ""
             }
            },
            "type": "scattercarpet"
           }
          ],
          "scattergeo": [
           {
            "marker": {
             "colorbar": {
              "outlinewidth": 0,
              "ticks": ""
             }
            },
            "type": "scattergeo"
           }
          ],
          "scattergl": [
           {
            "marker": {
             "colorbar": {
              "outlinewidth": 0,
              "ticks": ""
             }
            },
            "type": "scattergl"
           }
          ],
          "scattermapbox": [
           {
            "marker": {
             "colorbar": {
              "outlinewidth": 0,
              "ticks": ""
             }
            },
            "type": "scattermapbox"
           }
          ],
          "scatterpolar": [
           {
            "marker": {
             "colorbar": {
              "outlinewidth": 0,
              "ticks": ""
             }
            },
            "type": "scatterpolar"
           }
          ],
          "scatterpolargl": [
           {
            "marker": {
             "colorbar": {
              "outlinewidth": 0,
              "ticks": ""
             }
            },
            "type": "scatterpolargl"
           }
          ],
          "scatterternary": [
           {
            "marker": {
             "colorbar": {
              "outlinewidth": 0,
              "ticks": ""
             }
            },
            "type": "scatterternary"
           }
          ],
          "surface": [
           {
            "colorbar": {
             "outlinewidth": 0,
             "ticks": ""
            },
            "colorscale": [
             [
              0,
              "#0d0887"
             ],
             [
              0.1111111111111111,
              "#46039f"
             ],
             [
              0.2222222222222222,
              "#7201a8"
             ],
             [
              0.3333333333333333,
              "#9c179e"
             ],
             [
              0.4444444444444444,
              "#bd3786"
             ],
             [
              0.5555555555555556,
              "#d8576b"
             ],
             [
              0.6666666666666666,
              "#ed7953"
             ],
             [
              0.7777777777777778,
              "#fb9f3a"
             ],
             [
              0.8888888888888888,
              "#fdca26"
             ],
             [
              1,
              "#f0f921"
             ]
            ],
            "type": "surface"
           }
          ],
          "table": [
           {
            "cells": {
             "fill": {
              "color": "#EBF0F8"
             },
             "line": {
              "color": "white"
             }
            },
            "header": {
             "fill": {
              "color": "#C8D4E3"
             },
             "line": {
              "color": "white"
             }
            },
            "type": "table"
           }
          ]
         },
         "layout": {
          "annotationdefaults": {
           "arrowcolor": "#2a3f5f",
           "arrowhead": 0,
           "arrowwidth": 1
          },
          "autotypenumbers": "strict",
          "coloraxis": {
           "colorbar": {
            "outlinewidth": 0,
            "ticks": ""
           }
          },
          "colorscale": {
           "diverging": [
            [
             0,
             "#8e0152"
            ],
            [
             0.1,
             "#c51b7d"
            ],
            [
             0.2,
             "#de77ae"
            ],
            [
             0.3,
             "#f1b6da"
            ],
            [
             0.4,
             "#fde0ef"
            ],
            [
             0.5,
             "#f7f7f7"
            ],
            [
             0.6,
             "#e6f5d0"
            ],
            [
             0.7,
             "#b8e186"
            ],
            [
             0.8,
             "#7fbc41"
            ],
            [
             0.9,
             "#4d9221"
            ],
            [
             1,
             "#276419"
            ]
           ],
           "sequential": [
            [
             0,
             "#0d0887"
            ],
            [
             0.1111111111111111,
             "#46039f"
            ],
            [
             0.2222222222222222,
             "#7201a8"
            ],
            [
             0.3333333333333333,
             "#9c179e"
            ],
            [
             0.4444444444444444,
             "#bd3786"
            ],
            [
             0.5555555555555556,
             "#d8576b"
            ],
            [
             0.6666666666666666,
             "#ed7953"
            ],
            [
             0.7777777777777778,
             "#fb9f3a"
            ],
            [
             0.8888888888888888,
             "#fdca26"
            ],
            [
             1,
             "#f0f921"
            ]
           ],
           "sequentialminus": [
            [
             0,
             "#0d0887"
            ],
            [
             0.1111111111111111,
             "#46039f"
            ],
            [
             0.2222222222222222,
             "#7201a8"
            ],
            [
             0.3333333333333333,
             "#9c179e"
            ],
            [
             0.4444444444444444,
             "#bd3786"
            ],
            [
             0.5555555555555556,
             "#d8576b"
            ],
            [
             0.6666666666666666,
             "#ed7953"
            ],
            [
             0.7777777777777778,
             "#fb9f3a"
            ],
            [
             0.8888888888888888,
             "#fdca26"
            ],
            [
             1,
             "#f0f921"
            ]
           ]
          },
          "colorway": [
           "#636efa",
           "#EF553B",
           "#00cc96",
           "#ab63fa",
           "#FFA15A",
           "#19d3f3",
           "#FF6692",
           "#B6E880",
           "#FF97FF",
           "#FECB52"
          ],
          "font": {
           "color": "#2a3f5f"
          },
          "geo": {
           "bgcolor": "white",
           "lakecolor": "white",
           "landcolor": "#E5ECF6",
           "showlakes": true,
           "showland": true,
           "subunitcolor": "white"
          },
          "hoverlabel": {
           "align": "left"
          },
          "hovermode": "closest",
          "mapbox": {
           "style": "light"
          },
          "paper_bgcolor": "white",
          "plot_bgcolor": "#E5ECF6",
          "polar": {
           "angularaxis": {
            "gridcolor": "white",
            "linecolor": "white",
            "ticks": ""
           },
           "bgcolor": "#E5ECF6",
           "radialaxis": {
            "gridcolor": "white",
            "linecolor": "white",
            "ticks": ""
           }
          },
          "scene": {
           "xaxis": {
            "backgroundcolor": "#E5ECF6",
            "gridcolor": "white",
            "gridwidth": 2,
            "linecolor": "white",
            "showbackground": true,
            "ticks": "",
            "zerolinecolor": "white"
           },
           "yaxis": {
            "backgroundcolor": "#E5ECF6",
            "gridcolor": "white",
            "gridwidth": 2,
            "linecolor": "white",
            "showbackground": true,
            "ticks": "",
            "zerolinecolor": "white"
           },
           "zaxis": {
            "backgroundcolor": "#E5ECF6",
            "gridcolor": "white",
            "gridwidth": 2,
            "linecolor": "white",
            "showbackground": true,
            "ticks": "",
            "zerolinecolor": "white"
           }
          },
          "shapedefaults": {
           "line": {
            "color": "#2a3f5f"
           }
          },
          "ternary": {
           "aaxis": {
            "gridcolor": "white",
            "linecolor": "white",
            "ticks": ""
           },
           "baxis": {
            "gridcolor": "white",
            "linecolor": "white",
            "ticks": ""
           },
           "bgcolor": "#E5ECF6",
           "caxis": {
            "gridcolor": "white",
            "linecolor": "white",
            "ticks": ""
           }
          },
          "title": {
           "x": 0.05
          },
          "xaxis": {
           "automargin": true,
           "gridcolor": "white",
           "linecolor": "white",
           "ticks": "",
           "title": {
            "standoff": 15
           },
           "zerolinecolor": "white",
           "zerolinewidth": 2
          },
          "yaxis": {
           "automargin": true,
           "gridcolor": "white",
           "linecolor": "white",
           "ticks": "",
           "title": {
            "standoff": 15
           },
           "zerolinecolor": "white",
           "zerolinewidth": 2
          }
         }
        }
       }
      }
     },
     "metadata": {},
     "output_type": "display_data"
    }
   ],
   "source": [
    "px.scatter_3d(wine_df, x='Malic_Acid', y='Magnesium', z='Nonflavanoid_Phenols')"
   ]
  },
  {
   "cell_type": "code",
   "execution_count": 8,
   "metadata": {},
   "outputs": [
    {
     "data": {
      "application/vnd.plotly.v1+json": {
       "config": {
        "plotlyServerURL": "https://plot.ly"
       },
       "data": [
        {
         "hovertemplate": "Malic_Acid=%{x}<br>Magnesium=%{y}<br>OD280=%{z}<extra></extra>",
         "legendgroup": "",
         "marker": {
          "color": "#636efa",
          "symbol": "circle"
         },
         "mode": "markers",
         "name": "",
         "scene": "scene",
         "showlegend": false,
         "type": "scatter3d",
         "x": [
          1.71,
          1.78,
          2.36,
          1.95,
          2.59,
          1.76,
          1.87,
          2.15,
          1.64,
          1.35,
          2.16,
          1.48,
          1.73,
          1.73,
          1.87,
          1.81,
          1.92,
          1.57,
          1.59,
          3.1,
          1.63,
          3.8,
          1.86,
          1.6,
          1.81,
          2.05,
          1.77,
          1.72,
          1.9,
          1.68,
          1.5,
          1.66,
          1.83,
          1.53,
          1.8,
          1.81,
          1.64,
          1.65,
          1.5,
          3.99,
          1.71,
          3.84,
          1.89,
          3.98,
          1.77,
          4.04,
          3.59,
          1.68,
          2.02,
          1.73,
          1.73,
          1.65,
          1.75,
          1.9,
          1.67,
          1.73,
          1.7,
          1.97,
          1.43,
          0.94,
          1.1,
          1.36,
          1.25,
          1.13,
          1.45,
          1.21,
          1.01,
          1.17,
          0.94,
          1.19,
          1.61,
          1.51,
          1.66,
          1.67,
          1.09,
          1.88,
          0.9,
          2.89,
          0.99,
          3.87,
          0.92,
          1.81,
          1.13,
          3.86,
          0.89,
          0.98,
          1.61,
          1.67,
          2.06,
          1.33,
          1.83,
          1.51,
          1.53,
          2.83,
          1.99,
          1.52,
          2.12,
          1.41,
          1.07,
          3.17,
          2.08,
          1.34,
          2.45,
          1.72,
          1.73,
          2.55,
          1.73,
          1.75,
          1.29,
          1.35,
          3.74,
          2.43,
          2.68,
          0.74,
          1.39,
          1.51,
          1.47,
          1.61,
          3.43,
          3.43,
          2.4,
          2.05,
          4.43,
          5.8,
          4.31,
          2.16,
          1.53,
          2.13,
          1.63,
          4.3,
          1.35,
          2.99,
          2.31,
          3.55,
          1.24,
          2.46,
          4.72,
          5.51,
          3.59,
          2.96,
          2.81,
          2.56,
          3.17,
          4.95,
          3.88,
          3.57,
          5.04,
          4.61,
          3.24,
          3.9,
          3.12,
          2.67,
          1.9,
          3.3,
          1.29,
          5.19,
          4.12,
          3.03,
          1.68,
          1.67,
          3.83,
          3.26,
          3.27,
          3.45,
          2.76,
          4.36,
          3.7,
          3.37,
          2.58,
          4.6,
          3.03,
          2.39,
          2.51,
          5.65,
          3.91,
          4.28,
          2.59,
          4.1
         ],
         "y": [
          127,
          100,
          101,
          113,
          118,
          112,
          96,
          121,
          97,
          98,
          105,
          95,
          89,
          91,
          102,
          112,
          120,
          115,
          108,
          116,
          126,
          102,
          101,
          95,
          96,
          124,
          93,
          94,
          107,
          96,
          101,
          106,
          104,
          132,
          110,
          100,
          110,
          98,
          98,
          128,
          117,
          90,
          101,
          103,
          107,
          111,
          102,
          101,
          103,
          108,
          92,
          94,
          111,
          115,
          118,
          116,
          118,
          102,
          108,
          88,
          101,
          100,
          94,
          87,
          104,
          98,
          78,
          78,
          110,
          151,
          103,
          86,
          87,
          139,
          101,
          97,
          86,
          112,
          136,
          101,
          86,
          86,
          78,
          85,
          94,
          99,
          90,
          88,
          84,
          70,
          81,
          86,
          80,
          88,
          98,
          162,
          134,
          85,
          88,
          88,
          97,
          88,
          98,
          86,
          85,
          90,
          80,
          84,
          92,
          94,
          107,
          88,
          103,
          88,
          84,
          85,
          86,
          108,
          80,
          87,
          96,
          119,
          102,
          86,
          82,
          85,
          86,
          92,
          88,
          80,
          122,
          104,
          98,
          106,
          85,
          94,
          89,
          96,
          88,
          101,
          96,
          89,
          97,
          92,
          112,
          102,
          80,
          86,
          92,
          113,
          123,
          112,
          116,
          98,
          103,
          93,
          89,
          97,
          98,
          89,
          88,
          107,
          106,
          106,
          90,
          88,
          111,
          88,
          105,
          112,
          96,
          86,
          91,
          95,
          102,
          120,
          120,
          96
         ],
         "z": [
          3.92,
          3.4,
          3.17,
          3.45,
          2.93,
          2.85,
          3.58,
          3.58,
          2.85,
          3.55,
          3.17,
          2.82,
          2.9,
          2.73,
          3,
          2.88,
          2.65,
          2.57,
          2.82,
          3.36,
          3.71,
          3.52,
          4,
          3.63,
          3.82,
          3.2,
          3.22,
          2.77,
          3.4,
          3.59,
          2.71,
          2.88,
          2.87,
          3,
          2.87,
          3.47,
          2.78,
          2.51,
          2.69,
          3.53,
          3.38,
          3,
          3.56,
          3,
          3.35,
          3.33,
          3.44,
          3.33,
          2.75,
          3.1,
          2.91,
          3.37,
          3.26,
          2.93,
          3.2,
          3.03,
          3.31,
          2.84,
          2.87,
          1.82,
          1.67,
          1.59,
          2.46,
          2.87,
          2.23,
          2.3,
          3.18,
          3.48,
          1.93,
          3.07,
          1.82,
          3.16,
          2.78,
          3.5,
          3.13,
          2.14,
          2.48,
          2.52,
          2.31,
          3.13,
          3.12,
          3.14,
          2.72,
          2.01,
          3.08,
          3.16,
          2.26,
          3.21,
          2.75,
          3.21,
          2.27,
          2.65,
          2.06,
          3.3,
          2.96,
          2.63,
          2.26,
          2.74,
          2.77,
          2.83,
          2.96,
          2.77,
          3.38,
          2.44,
          3.57,
          3.3,
          3.17,
          2.42,
          3.02,
          3.26,
          2.81,
          2.78,
          2.5,
          2.31,
          3.19,
          2.87,
          3.33,
          2.96,
          2.12,
          3.05,
          3.39,
          3.69,
          3.12,
          3.1,
          3.64,
          3.28,
          2.84,
          2.44,
          2.78,
          2.57,
          1.29,
          1.42,
          1.36,
          1.29,
          1.51,
          1.58,
          1.27,
          1.69,
          1.82,
          2.15,
          2.31,
          2.47,
          2.06,
          2.05,
          2,
          1.68,
          1.33,
          1.86,
          1.62,
          1.33,
          1.3,
          1.47,
          1.33,
          1.51,
          1.55,
          1.48,
          1.64,
          1.73,
          1.96,
          1.78,
          1.58,
          1.82,
          2.11,
          1.75,
          1.68,
          1.75,
          1.56,
          1.75,
          1.8,
          1.92,
          1.83,
          1.63,
          1.71,
          1.74,
          1.56,
          1.56,
          1.62,
          1.6
         ]
        }
       ],
       "layout": {
        "legend": {
         "tracegroupgap": 0
        },
        "margin": {
         "t": 60
        },
        "scene": {
         "domain": {
          "x": [
           0,
           1
          ],
          "y": [
           0,
           1
          ]
         },
         "xaxis": {
          "title": {
           "text": "Malic_Acid"
          }
         },
         "yaxis": {
          "title": {
           "text": "Magnesium"
          }
         },
         "zaxis": {
          "title": {
           "text": "OD280"
          }
         }
        },
        "template": {
         "data": {
          "bar": [
           {
            "error_x": {
             "color": "#2a3f5f"
            },
            "error_y": {
             "color": "#2a3f5f"
            },
            "marker": {
             "line": {
              "color": "#E5ECF6",
              "width": 0.5
             },
             "pattern": {
              "fillmode": "overlay",
              "size": 10,
              "solidity": 0.2
             }
            },
            "type": "bar"
           }
          ],
          "barpolar": [
           {
            "marker": {
             "line": {
              "color": "#E5ECF6",
              "width": 0.5
             },
             "pattern": {
              "fillmode": "overlay",
              "size": 10,
              "solidity": 0.2
             }
            },
            "type": "barpolar"
           }
          ],
          "carpet": [
           {
            "aaxis": {
             "endlinecolor": "#2a3f5f",
             "gridcolor": "white",
             "linecolor": "white",
             "minorgridcolor": "white",
             "startlinecolor": "#2a3f5f"
            },
            "baxis": {
             "endlinecolor": "#2a3f5f",
             "gridcolor": "white",
             "linecolor": "white",
             "minorgridcolor": "white",
             "startlinecolor": "#2a3f5f"
            },
            "type": "carpet"
           }
          ],
          "choropleth": [
           {
            "colorbar": {
             "outlinewidth": 0,
             "ticks": ""
            },
            "type": "choropleth"
           }
          ],
          "contour": [
           {
            "colorbar": {
             "outlinewidth": 0,
             "ticks": ""
            },
            "colorscale": [
             [
              0,
              "#0d0887"
             ],
             [
              0.1111111111111111,
              "#46039f"
             ],
             [
              0.2222222222222222,
              "#7201a8"
             ],
             [
              0.3333333333333333,
              "#9c179e"
             ],
             [
              0.4444444444444444,
              "#bd3786"
             ],
             [
              0.5555555555555556,
              "#d8576b"
             ],
             [
              0.6666666666666666,
              "#ed7953"
             ],
             [
              0.7777777777777778,
              "#fb9f3a"
             ],
             [
              0.8888888888888888,
              "#fdca26"
             ],
             [
              1,
              "#f0f921"
             ]
            ],
            "type": "contour"
           }
          ],
          "contourcarpet": [
           {
            "colorbar": {
             "outlinewidth": 0,
             "ticks": ""
            },
            "type": "contourcarpet"
           }
          ],
          "heatmap": [
           {
            "colorbar": {
             "outlinewidth": 0,
             "ticks": ""
            },
            "colorscale": [
             [
              0,
              "#0d0887"
             ],
             [
              0.1111111111111111,
              "#46039f"
             ],
             [
              0.2222222222222222,
              "#7201a8"
             ],
             [
              0.3333333333333333,
              "#9c179e"
             ],
             [
              0.4444444444444444,
              "#bd3786"
             ],
             [
              0.5555555555555556,
              "#d8576b"
             ],
             [
              0.6666666666666666,
              "#ed7953"
             ],
             [
              0.7777777777777778,
              "#fb9f3a"
             ],
             [
              0.8888888888888888,
              "#fdca26"
             ],
             [
              1,
              "#f0f921"
             ]
            ],
            "type": "heatmap"
           }
          ],
          "heatmapgl": [
           {
            "colorbar": {
             "outlinewidth": 0,
             "ticks": ""
            },
            "colorscale": [
             [
              0,
              "#0d0887"
             ],
             [
              0.1111111111111111,
              "#46039f"
             ],
             [
              0.2222222222222222,
              "#7201a8"
             ],
             [
              0.3333333333333333,
              "#9c179e"
             ],
             [
              0.4444444444444444,
              "#bd3786"
             ],
             [
              0.5555555555555556,
              "#d8576b"
             ],
             [
              0.6666666666666666,
              "#ed7953"
             ],
             [
              0.7777777777777778,
              "#fb9f3a"
             ],
             [
              0.8888888888888888,
              "#fdca26"
             ],
             [
              1,
              "#f0f921"
             ]
            ],
            "type": "heatmapgl"
           }
          ],
          "histogram": [
           {
            "marker": {
             "pattern": {
              "fillmode": "overlay",
              "size": 10,
              "solidity": 0.2
             }
            },
            "type": "histogram"
           }
          ],
          "histogram2d": [
           {
            "colorbar": {
             "outlinewidth": 0,
             "ticks": ""
            },
            "colorscale": [
             [
              0,
              "#0d0887"
             ],
             [
              0.1111111111111111,
              "#46039f"
             ],
             [
              0.2222222222222222,
              "#7201a8"
             ],
             [
              0.3333333333333333,
              "#9c179e"
             ],
             [
              0.4444444444444444,
              "#bd3786"
             ],
             [
              0.5555555555555556,
              "#d8576b"
             ],
             [
              0.6666666666666666,
              "#ed7953"
             ],
             [
              0.7777777777777778,
              "#fb9f3a"
             ],
             [
              0.8888888888888888,
              "#fdca26"
             ],
             [
              1,
              "#f0f921"
             ]
            ],
            "type": "histogram2d"
           }
          ],
          "histogram2dcontour": [
           {
            "colorbar": {
             "outlinewidth": 0,
             "ticks": ""
            },
            "colorscale": [
             [
              0,
              "#0d0887"
             ],
             [
              0.1111111111111111,
              "#46039f"
             ],
             [
              0.2222222222222222,
              "#7201a8"
             ],
             [
              0.3333333333333333,
              "#9c179e"
             ],
             [
              0.4444444444444444,
              "#bd3786"
             ],
             [
              0.5555555555555556,
              "#d8576b"
             ],
             [
              0.6666666666666666,
              "#ed7953"
             ],
             [
              0.7777777777777778,
              "#fb9f3a"
             ],
             [
              0.8888888888888888,
              "#fdca26"
             ],
             [
              1,
              "#f0f921"
             ]
            ],
            "type": "histogram2dcontour"
           }
          ],
          "mesh3d": [
           {
            "colorbar": {
             "outlinewidth": 0,
             "ticks": ""
            },
            "type": "mesh3d"
           }
          ],
          "parcoords": [
           {
            "line": {
             "colorbar": {
              "outlinewidth": 0,
              "ticks": ""
             }
            },
            "type": "parcoords"
           }
          ],
          "pie": [
           {
            "automargin": true,
            "type": "pie"
           }
          ],
          "scatter": [
           {
            "fillpattern": {
             "fillmode": "overlay",
             "size": 10,
             "solidity": 0.2
            },
            "type": "scatter"
           }
          ],
          "scatter3d": [
           {
            "line": {
             "colorbar": {
              "outlinewidth": 0,
              "ticks": ""
             }
            },
            "marker": {
             "colorbar": {
              "outlinewidth": 0,
              "ticks": ""
             }
            },
            "type": "scatter3d"
           }
          ],
          "scattercarpet": [
           {
            "marker": {
             "colorbar": {
              "outlinewidth": 0,
              "ticks": ""
             }
            },
            "type": "scattercarpet"
           }
          ],
          "scattergeo": [
           {
            "marker": {
             "colorbar": {
              "outlinewidth": 0,
              "ticks": ""
             }
            },
            "type": "scattergeo"
           }
          ],
          "scattergl": [
           {
            "marker": {
             "colorbar": {
              "outlinewidth": 0,
              "ticks": ""
             }
            },
            "type": "scattergl"
           }
          ],
          "scattermapbox": [
           {
            "marker": {
             "colorbar": {
              "outlinewidth": 0,
              "ticks": ""
             }
            },
            "type": "scattermapbox"
           }
          ],
          "scatterpolar": [
           {
            "marker": {
             "colorbar": {
              "outlinewidth": 0,
              "ticks": ""
             }
            },
            "type": "scatterpolar"
           }
          ],
          "scatterpolargl": [
           {
            "marker": {
             "colorbar": {
              "outlinewidth": 0,
              "ticks": ""
             }
            },
            "type": "scatterpolargl"
           }
          ],
          "scatterternary": [
           {
            "marker": {
             "colorbar": {
              "outlinewidth": 0,
              "ticks": ""
             }
            },
            "type": "scatterternary"
           }
          ],
          "surface": [
           {
            "colorbar": {
             "outlinewidth": 0,
             "ticks": ""
            },
            "colorscale": [
             [
              0,
              "#0d0887"
             ],
             [
              0.1111111111111111,
              "#46039f"
             ],
             [
              0.2222222222222222,
              "#7201a8"
             ],
             [
              0.3333333333333333,
              "#9c179e"
             ],
             [
              0.4444444444444444,
              "#bd3786"
             ],
             [
              0.5555555555555556,
              "#d8576b"
             ],
             [
              0.6666666666666666,
              "#ed7953"
             ],
             [
              0.7777777777777778,
              "#fb9f3a"
             ],
             [
              0.8888888888888888,
              "#fdca26"
             ],
             [
              1,
              "#f0f921"
             ]
            ],
            "type": "surface"
           }
          ],
          "table": [
           {
            "cells": {
             "fill": {
              "color": "#EBF0F8"
             },
             "line": {
              "color": "white"
             }
            },
            "header": {
             "fill": {
              "color": "#C8D4E3"
             },
             "line": {
              "color": "white"
             }
            },
            "type": "table"
           }
          ]
         },
         "layout": {
          "annotationdefaults": {
           "arrowcolor": "#2a3f5f",
           "arrowhead": 0,
           "arrowwidth": 1
          },
          "autotypenumbers": "strict",
          "coloraxis": {
           "colorbar": {
            "outlinewidth": 0,
            "ticks": ""
           }
          },
          "colorscale": {
           "diverging": [
            [
             0,
             "#8e0152"
            ],
            [
             0.1,
             "#c51b7d"
            ],
            [
             0.2,
             "#de77ae"
            ],
            [
             0.3,
             "#f1b6da"
            ],
            [
             0.4,
             "#fde0ef"
            ],
            [
             0.5,
             "#f7f7f7"
            ],
            [
             0.6,
             "#e6f5d0"
            ],
            [
             0.7,
             "#b8e186"
            ],
            [
             0.8,
             "#7fbc41"
            ],
            [
             0.9,
             "#4d9221"
            ],
            [
             1,
             "#276419"
            ]
           ],
           "sequential": [
            [
             0,
             "#0d0887"
            ],
            [
             0.1111111111111111,
             "#46039f"
            ],
            [
             0.2222222222222222,
             "#7201a8"
            ],
            [
             0.3333333333333333,
             "#9c179e"
            ],
            [
             0.4444444444444444,
             "#bd3786"
            ],
            [
             0.5555555555555556,
             "#d8576b"
            ],
            [
             0.6666666666666666,
             "#ed7953"
            ],
            [
             0.7777777777777778,
             "#fb9f3a"
            ],
            [
             0.8888888888888888,
             "#fdca26"
            ],
            [
             1,
             "#f0f921"
            ]
           ],
           "sequentialminus": [
            [
             0,
             "#0d0887"
            ],
            [
             0.1111111111111111,
             "#46039f"
            ],
            [
             0.2222222222222222,
             "#7201a8"
            ],
            [
             0.3333333333333333,
             "#9c179e"
            ],
            [
             0.4444444444444444,
             "#bd3786"
            ],
            [
             0.5555555555555556,
             "#d8576b"
            ],
            [
             0.6666666666666666,
             "#ed7953"
            ],
            [
             0.7777777777777778,
             "#fb9f3a"
            ],
            [
             0.8888888888888888,
             "#fdca26"
            ],
            [
             1,
             "#f0f921"
            ]
           ]
          },
          "colorway": [
           "#636efa",
           "#EF553B",
           "#00cc96",
           "#ab63fa",
           "#FFA15A",
           "#19d3f3",
           "#FF6692",
           "#B6E880",
           "#FF97FF",
           "#FECB52"
          ],
          "font": {
           "color": "#2a3f5f"
          },
          "geo": {
           "bgcolor": "white",
           "lakecolor": "white",
           "landcolor": "#E5ECF6",
           "showlakes": true,
           "showland": true,
           "subunitcolor": "white"
          },
          "hoverlabel": {
           "align": "left"
          },
          "hovermode": "closest",
          "mapbox": {
           "style": "light"
          },
          "paper_bgcolor": "white",
          "plot_bgcolor": "#E5ECF6",
          "polar": {
           "angularaxis": {
            "gridcolor": "white",
            "linecolor": "white",
            "ticks": ""
           },
           "bgcolor": "#E5ECF6",
           "radialaxis": {
            "gridcolor": "white",
            "linecolor": "white",
            "ticks": ""
           }
          },
          "scene": {
           "xaxis": {
            "backgroundcolor": "#E5ECF6",
            "gridcolor": "white",
            "gridwidth": 2,
            "linecolor": "white",
            "showbackground": true,
            "ticks": "",
            "zerolinecolor": "white"
           },
           "yaxis": {
            "backgroundcolor": "#E5ECF6",
            "gridcolor": "white",
            "gridwidth": 2,
            "linecolor": "white",
            "showbackground": true,
            "ticks": "",
            "zerolinecolor": "white"
           },
           "zaxis": {
            "backgroundcolor": "#E5ECF6",
            "gridcolor": "white",
            "gridwidth": 2,
            "linecolor": "white",
            "showbackground": true,
            "ticks": "",
            "zerolinecolor": "white"
           }
          },
          "shapedefaults": {
           "line": {
            "color": "#2a3f5f"
           }
          },
          "ternary": {
           "aaxis": {
            "gridcolor": "white",
            "linecolor": "white",
            "ticks": ""
           },
           "baxis": {
            "gridcolor": "white",
            "linecolor": "white",
            "ticks": ""
           },
           "bgcolor": "#E5ECF6",
           "caxis": {
            "gridcolor": "white",
            "linecolor": "white",
            "ticks": ""
           }
          },
          "title": {
           "x": 0.05
          },
          "xaxis": {
           "automargin": true,
           "gridcolor": "white",
           "linecolor": "white",
           "ticks": "",
           "title": {
            "standoff": 15
           },
           "zerolinecolor": "white",
           "zerolinewidth": 2
          },
          "yaxis": {
           "automargin": true,
           "gridcolor": "white",
           "linecolor": "white",
           "ticks": "",
           "title": {
            "standoff": 15
           },
           "zerolinecolor": "white",
           "zerolinewidth": 2
          }
         }
        }
       }
      }
     },
     "metadata": {},
     "output_type": "display_data"
    }
   ],
   "source": [
    "px.scatter_3d(wine_df, x='Malic_Acid', y='Magnesium', z='OD280')"
   ]
  },
  {
   "cell_type": "code",
   "execution_count": 9,
   "metadata": {},
   "outputs": [],
   "source": [
    "pca = PCA()\n",
    "pca_data = pca.fit_transform(X=wine_df)"
   ]
  },
  {
   "cell_type": "code",
   "execution_count": 10,
   "metadata": {},
   "outputs": [],
   "source": [
    "pca_df = pd.DataFrame(pca_data)"
   ]
  },
  {
   "cell_type": "code",
   "execution_count": 11,
   "metadata": {},
   "outputs": [
    {
     "data": {
      "text/html": [
       "<div>\n",
       "<style scoped>\n",
       "    .dataframe tbody tr th:only-of-type {\n",
       "        vertical-align: middle;\n",
       "    }\n",
       "\n",
       "    .dataframe tbody tr th {\n",
       "        vertical-align: top;\n",
       "    }\n",
       "\n",
       "    .dataframe thead th {\n",
       "        text-align: right;\n",
       "    }\n",
       "</style>\n",
       "<table border=\"1\" class=\"dataframe\">\n",
       "  <thead>\n",
       "    <tr style=\"text-align: right;\">\n",
       "      <th></th>\n",
       "      <th>0</th>\n",
       "      <th>1</th>\n",
       "      <th>2</th>\n",
       "      <th>3</th>\n",
       "      <th>4</th>\n",
       "      <th>5</th>\n",
       "      <th>6</th>\n",
       "      <th>7</th>\n",
       "      <th>8</th>\n",
       "      <th>9</th>\n",
       "      <th>10</th>\n",
       "      <th>11</th>\n",
       "      <th>12</th>\n",
       "    </tr>\n",
       "  </thead>\n",
       "  <tbody>\n",
       "    <tr>\n",
       "      <th>0</th>\n",
       "      <td>318.562979</td>\n",
       "      <td>21.492131</td>\n",
       "      <td>3.130735</td>\n",
       "      <td>-0.250114</td>\n",
       "      <td>0.677078</td>\n",
       "      <td>0.568081</td>\n",
       "      <td>-0.619642</td>\n",
       "      <td>-0.199555</td>\n",
       "      <td>0.701280</td>\n",
       "      <td>-0.095008</td>\n",
       "      <td>0.088734</td>\n",
       "      <td>-0.038548</td>\n",
       "      <td>0.080264</td>\n",
       "    </tr>\n",
       "    <tr>\n",
       "      <th>1</th>\n",
       "      <td>303.097420</td>\n",
       "      <td>-5.364718</td>\n",
       "      <td>6.822835</td>\n",
       "      <td>-0.864035</td>\n",
       "      <td>-0.486096</td>\n",
       "      <td>0.014340</td>\n",
       "      <td>0.108865</td>\n",
       "      <td>0.604714</td>\n",
       "      <td>0.286717</td>\n",
       "      <td>-0.045782</td>\n",
       "      <td>0.039778</td>\n",
       "      <td>-0.057192</td>\n",
       "      <td>0.013593</td>\n",
       "    </tr>\n",
       "    <tr>\n",
       "      <th>2</th>\n",
       "      <td>438.061133</td>\n",
       "      <td>-6.537309</td>\n",
       "      <td>-1.113223</td>\n",
       "      <td>0.912411</td>\n",
       "      <td>0.380651</td>\n",
       "      <td>0.672404</td>\n",
       "      <td>0.785819</td>\n",
       "      <td>-0.500886</td>\n",
       "      <td>0.024547</td>\n",
       "      <td>-0.208960</td>\n",
       "      <td>0.237770</td>\n",
       "      <td>-0.048798</td>\n",
       "      <td>-0.035408</td>\n",
       "    </tr>\n",
       "    <tr>\n",
       "      <th>3</th>\n",
       "      <td>733.240139</td>\n",
       "      <td>0.192729</td>\n",
       "      <td>-0.917257</td>\n",
       "      <td>-0.541251</td>\n",
       "      <td>0.858662</td>\n",
       "      <td>0.599122</td>\n",
       "      <td>0.018770</td>\n",
       "      <td>0.190428</td>\n",
       "      <td>0.054277</td>\n",
       "      <td>0.531684</td>\n",
       "      <td>-0.096044</td>\n",
       "      <td>-0.166353</td>\n",
       "      <td>0.016344</td>\n",
       "    </tr>\n",
       "    <tr>\n",
       "      <th>4</th>\n",
       "      <td>-11.571428</td>\n",
       "      <td>18.489995</td>\n",
       "      <td>-0.554422</td>\n",
       "      <td>1.360896</td>\n",
       "      <td>0.276442</td>\n",
       "      <td>0.768884</td>\n",
       "      <td>-0.309976</td>\n",
       "      <td>0.119091</td>\n",
       "      <td>-0.195843</td>\n",
       "      <td>0.061771</td>\n",
       "      <td>0.316466</td>\n",
       "      <td>-0.007118</td>\n",
       "      <td>0.015278</td>\n",
       "    </tr>\n",
       "  </tbody>\n",
       "</table>\n",
       "</div>"
      ],
      "text/plain": [
       "           0          1         2         3         4         5         6   \\\n",
       "0  318.562979  21.492131  3.130735 -0.250114  0.677078  0.568081 -0.619642   \n",
       "1  303.097420  -5.364718  6.822835 -0.864035 -0.486096  0.014340  0.108865   \n",
       "2  438.061133  -6.537309 -1.113223  0.912411  0.380651  0.672404  0.785819   \n",
       "3  733.240139   0.192729 -0.917257 -0.541251  0.858662  0.599122  0.018770   \n",
       "4  -11.571428  18.489995 -0.554422  1.360896  0.276442  0.768884 -0.309976   \n",
       "\n",
       "         7         8         9         10        11        12  \n",
       "0 -0.199555  0.701280 -0.095008  0.088734 -0.038548  0.080264  \n",
       "1  0.604714  0.286717 -0.045782  0.039778 -0.057192  0.013593  \n",
       "2 -0.500886  0.024547 -0.208960  0.237770 -0.048798 -0.035408  \n",
       "3  0.190428  0.054277  0.531684 -0.096044 -0.166353  0.016344  \n",
       "4  0.119091 -0.195843  0.061771  0.316466 -0.007118  0.015278  "
      ]
     },
     "execution_count": 11,
     "metadata": {},
     "output_type": "execute_result"
    }
   ],
   "source": [
    "pca_df.head()"
   ]
  },
  {
   "cell_type": "code",
   "execution_count": 12,
   "metadata": {},
   "outputs": [
    {
     "data": {
      "text/plain": [
       "(array([ 0,  1,  2,  3,  4,  5,  6,  7,  8,  9, 10, 11, 12]),\n",
       " [Text(0, 0, 'Alcohol'),\n",
       "  Text(1, 0, 'Malic_Acid'),\n",
       "  Text(2, 0, 'Ash'),\n",
       "  Text(3, 0, 'Ash_Alcanity'),\n",
       "  Text(4, 0, 'Magnesium'),\n",
       "  Text(5, 0, 'Total_Phenols'),\n",
       "  Text(6, 0, 'Flavanoids'),\n",
       "  Text(7, 0, 'Nonflavanoid_Phenols'),\n",
       "  Text(8, 0, 'Proanthocyanins'),\n",
       "  Text(9, 0, 'Color_Intensity'),\n",
       "  Text(10, 0, 'Hue'),\n",
       "  Text(11, 0, 'OD280'),\n",
       "  Text(12, 0, 'Proline')])"
      ]
     },
     "execution_count": 12,
     "metadata": {},
     "output_type": "execute_result"
    },
    {
     "data": {
      "image/png": "[encoded data removed]",
      "text/plain": [
       "<Figure size 1080x648 with 1 Axes>"
      ]
     },
     "metadata": {
      "needs_background": "light"
     },
     "output_type": "display_data"
    }
   ],
   "source": [
    "plt.figure(figsize=(15, 9))\n",
    "sns.barplot(x=wine_df.columns, y=pca.explained_variance_ratio_)\n",
    "plt.xticks(rotation=45)"
   ]
  },
  {
   "cell_type": "code",
   "execution_count": 13,
   "metadata": {},
   "outputs": [
    {
     "data": {
      "text/plain": [
       "(array([ 0,  1,  2,  3,  4,  5,  6,  7,  8,  9, 10, 11]),\n",
       " [Text(0, 0, 'Malic_Acid'),\n",
       "  Text(1, 0, 'Ash'),\n",
       "  Text(2, 0, 'Ash_Alcanity'),\n",
       "  Text(3, 0, 'Magnesium'),\n",
       "  Text(4, 0, 'Total_Phenols'),\n",
       "  Text(5, 0, 'Flavanoids'),\n",
       "  Text(6, 0, 'Nonflavanoid_Phenols'),\n",
       "  Text(7, 0, 'Proanthocyanins'),\n",
       "  Text(8, 0, 'Color_Intensity'),\n",
       "  Text(9, 0, 'Hue'),\n",
       "  Text(10, 0, 'OD280'),\n",
       "  Text(11, 0, 'Proline')])"
      ]
     },
     "execution_count": 13,
     "metadata": {},
     "output_type": "execute_result"
    },
    {
     "data": {
      "image/png": "[encoded data removed]",
      "text/plain": [
       "<Figure size 1080x648 with 1 Axes>"
      ]
     },
     "metadata": {
      "needs_background": "light"
     },
     "output_type": "display_data"
    }
   ],
   "source": [
    "plt.figure(figsize=(15, 9))\n",
    "sns.barplot(x=wine_df.columns[1:], y=pca.explained_variance_ratio_[1:])\n",
    "plt.xticks(rotation=45)"
   ]
  },
  {
   "cell_type": "code",
   "execution_count": 14,
   "metadata": {},
   "outputs": [
    {
     "data": {
      "application/vnd.plotly.v1+json": {
       "config": {
        "plotlyServerURL": "https://plot.ly"
       },
       "data": [
        {
         "hovertemplate": "0=%{x}<br>1=%{y}<br>2=%{z}<extra></extra>",
         "legendgroup": "",
         "marker": {
          "color": "#636efa",
          "symbol": "circle"
         },
         "mode": "markers",
         "name": "",
         "scene": "scene",
         "showlegend": false,
         "type": "scatter3d",
         "x": [
          318.56297928793697,
          303.0974196593858,
          438.0611329172365,
          733.2401393508122,
          -11.571428495905936,
          703.2311917377228,
          542.9715808665925,
          548.401859840437,
          298.0368628006119,
          298.04955313546816,
          763.0797119412475,
          532.9432277319978,
          572.8344103911646,
          402.9253582860971,
          800.053393856972,
          563.2455779988175,
          533.3796506359125,
          383.31759107727515,
          933.118387499606,
          98.40317747596033,
          33.593594001853845,
          23.146437540271325,
          288.0930302174046,
          267.9815125349914,
          98.01988577277815,
          83.49874396134187,
          447.92559622234256,
          537.9191650213771,
          168.21046760464966,
          288.0082470812646,
          538.0264521021904,
          768.0929388553866,
          243.15075090189163,
          488.6012800452356,
          348.23100699681953,
          173.07995742609629,
          133.28642354659152,
          358.01855917526626,
          273.0444315214036,
          13.64300211336579,
          48.42964224993001,
          287.88409216899106,
          348.0953481804468,
          -66.81465538610246,
          138.22700988344204,
          333.2548058291667,
          318.1118484666389,
          238.11148507872252,
          313.1199153878397,
          513.187748021228,
          402.9390171589735,
          517.9289632654716,
          443.2664112949332,
          628.2860709851129,
          313.3976126756321,
          373.3332912223799,
          223.41710635795044,
          523.072851396616,
          538.182097322943,
          -227.0326904524968,
          -66.8501219972491,
          -296.82443689141564,
          -116.97047258185808,
          -327.0591255951515,
          -391.75248643605,
          -68.90576044269487,
          -245.21252397707912,
          -237.24141029251683,
          3.296155990979901,
          -27.9661207305396,
          123.13013830856245,
          -337.1041224880131,
          -275.096025879688,
          238.71675654886099,
          139.0940566399579,
          -318.8763289023296,
          -355.06025251413723,
          -246.63359745191585,
          3.771689655532634,
          -283.842247644766,
          -469.0593503092667,
          -33.13133924615634,
          -117.29039200980735,
          -232.13298838412308,
          -226.9532994201187,
          -296.8521517343858,
          -252.04639192844056,
          -185.10885737349278,
          -67.18075184447491,
          -122.43132640120501,
          -267.18533320304385,
          -297.1044146752865,
          -252.2138850717705,
          -457.0222149421966,
          -401.8512740899958,
          191.18339677250665,
          -121.27917775374162,
          -319.08827280468597,
          -87.08029256129844,
          -341.04090016734875,
          -36.93161455099829,
          -185.0737134940795,
          -308.88238661249596,
          -332.08929638290095,
          -75.15313775202654,
          -432.0097419228538,
          -237.2066970872571,
          -259.14836773379653,
          -434.9577801123814,
          -66.99069577012972,
          -184.73643852532717,
          -422.0428736248791,
          -139.81866316131362,
          -313.06094816289715,
          -362.12963311360676,
          -340.11500621424557,
          -252.10947206109944,
          -401.69597348176734,
          -375.17109236646627,
          -183.09792918191016,
          -121.94524134844434,
          -281.5345691197326,
          -381.82677823426343,
          -367.08938004599395,
          -367.15717469661206,
          -369.1036009666215,
          -395.078836456941,
          -281.0303687091013,
          -405.06128780288594,
          -167.23764181767564,
          -116.47300035905579,
          -216.78453997810763,
          -186.91511196560208,
          -146.76952962486232,
          -97.13297359792658,
          -51.98204686718363,
          -27.09793074985308,
          -231.9515340706206,
          -167.07624576452395,
          -156.86804454285758,
          -146.9464895805513,
          32.904292748895735,
          -226.92620968566467,
          -197.00434749401953,
          108.31267730325996,
          83.11826261248198,
          -332.1958399900889,
          -122.12609208783418,
          -97.01938926807348,
          -196.62480660405078,
          -246.44919923184167,
          -266.62878804970154,
          -321.570740935181,
          -71.89765870622577,
          -106.81661780127264,
          -22.020256798528703,
          -267.03173230557604,
          132.99984125218953,
          -86.91399859078058,
          -127.06128965116453,
          -227.0688357517344,
          -66.75543117637729,
          -176.765098425117,
          -71.76839793240185,
          -132.04824836043477,
          -227.07784455326015,
          -51.689506459844395,
          -62.085011124303875,
          3.182764653492861,
          -116.67481804945243,
          -236.92120794183762,
          -277.0835782560394,
          -87.0274026313734,
          -6.980210958028232,
          3.1316046787554397,
          88.4580736861297,
          93.4562418541091,
          -186.94319027310917
         ],
         "y": [
          21.492130734539955,
          -5.364717683064033,
          -6.537309449440048,
          0.1927290320721296,
          18.489994608360362,
          -0.3321586742532949,
          -13.518966641596892,
          11.449432383558483,
          -8.180157835408352,
          -7.101542937561736,
          -8.334317226298769,
          -14.287633770471405,
          -21.00501433007112,
          -16.102635218597207,
          -12.118447191589341,
          2.214828664086276,
          10.804802233662503,
          8.477419817562932,
          -8.354478439743357,
          14.392659413302269,
          25.56795649775253,
          1.8174730862651145,
          -3.963041749665033,
          -9.570704013405841,
          -5.495846062188418,
          22.89162154995944,
          -14.797331250759312,
          -15.388346065023555,
          4.255310963149657,
          -8.959731549015757,
          -8.212738820938174,
          -7.379897374639952,
          -0.14391492761481345,
          23.56532504324066,
          4.038080148998225,
          -2.7929216497768694,
          7.772729575349448,
          -8.157984118124046,
          -6.725074307758921,
          27.84683214774909,
          16.32194976052219,
          -14.885118535217186,
          -5.043426088455587,
          4.3848299183095705,
          4.730688359804039,
          5.3193311582485,
          -3.4869449391169507,
          -3.051521001293958,
          -2.3053631635876384,
          -0.8637592352155254,
          -15.053302848806704,
          -14.997554888546466,
          3.260502044073274,
          4.041145380795895,
          12.608913514882223,
          9.664198626315429,
          14.216892411736996,
          -7.096625255912913,
          -1.356780128101632,
          -7.994967969134493,
          2.3198665362225714,
          5.468475698009889,
          -3.7263834231551685,
          -6.948130808142181,
          11.17167825622285,
          -0.5586205371241968,
          -17.493639299420575,
          -17.531025550918006,
          10.095811600653027,
          51.63012518592643,
          1.0598345145506953,
          -7.623855122175806,
          -7.753152131800838,
          35.251827368233684,
          -1.2074761987359965,
          2.8107711323253213,
          -7.53070183182974,
          16.558436650558416,
          36.031092363033544,
          6.361860804858205,
          -5.458923979087497,
          -13.187104957216409,
          -19.57861246799193,
          -10.530103259648032,
          -1.776058791556474,
          4.452803088679312,
          -5.2126175881049805,
          -8.318582024009315,
          -14.524690218444064,
          -27.50403869849135,
          -14.053890086022566,
          -8.415031614551138,
          -15.251570245283135,
          -3.6973379267771285,
          5.3314002157993885,
          58.793762379561855,
          36.41751488931712,
          -9.193078195295877,
          -10.226572689126003,
          -5.750565586578922,
          -2.170415928046051,
          -8.520519018587825,
          3.7516565521730842,
          -7.883728753439611,
          -13.413827944810869,
          -2.0329467337495375,
          -15.561967932903483,
          -11.078816347723379,
          -0.05952602952399857,
          -4.571457640410518,
          10.516463160565277,
          -4.244921941762498,
          5.735552074296909,
          -6.16709401104084,
          -9.259295397921374,
          -8.689734429642712,
          -9.275870146862673,
          15.425890267706624,
          -13.185050253814767,
          -9.553544319548788,
          -1.5888942780782374,
          24.50826118654671,
          9.189109755405722,
          -7.188215890256373,
          -11.1963202216613,
          -8.175804911790463,
          -6.67983187337449,
          -2.535860067717686,
          -4.451073669629209,
          -16.73118572505877,
          24.266020059797516,
          8.13044955622495,
          1.7100573556775995,
          8.920334113562184,
          -13.05828382688089,
          -4.812293096844395,
          -10.229996223962065,
          0.5349074098240264,
          -8.756723111031379,
          4.163162488055396,
          -1.0967289642032587,
          -11.305365635407666,
          1.3882783668811023,
          -4.228428695529235,
          10.35133044379577,
          0.8068696950290761,
          -13.813298892465202,
          -11.46992585963707,
          -5.906442575323522,
          16.873113924850294,
          27.810095379533596,
          17.15023199752928,
          22.164340097201038,
          -0.39965639971936595,
          5.206123065088733,
          -6.229439254840844,
          -5.923089144009858,
          -4.867705439544269,
          0.07963577715358854,
          -8.291416841194469,
          -7.618630299434812,
          8.470289897435146,
          9.47319000201679,
          7.510637841257729,
          -7.255030312061563,
          -7.593379303886897,
          12.35808497459784,
          -10.554015295801596,
          5.391361501575997,
          14.533370347154204,
          0.46303699755317373,
          -8.740331907970253,
          -7.104595748581738,
          -4.541136569158692,
          2.335190511328363,
          18.77628455835615,
          18.67081912342541,
          -0.2133308031216706
         ],
         "z": [
          3.130734704812432,
          6.822835495267977,
          -1.1132229813677728,
          -0.917257015615953,
          -0.5544220764538568,
          0.9493753343135384,
          2.1269428292907584,
          0.040492420229178046,
          3.8809751711362055,
          1.5584553269055037,
          -1.8862903746692847,
          0.13033523958244028,
          0.3726148589301759,
          5.675139863234848,
          3.0465299070444667,
          -0.5255109845710354,
          -2.476527344013021,
          -1.9897450127087442,
          -1.9329127593191062,
          4.103746161566876,
          4.033586149690669,
          0.8871608409161937,
          2.0537138085203104,
          0.7584118315838377,
          -0.38729766079058225,
          -4.278836526584913,
          1.2198344514939683,
          0.16469232934214573,
          -0.10338440781075864,
          2.161498205662694,
          -5.168396279208273,
          -3.229962413129045,
          1.68080272801992,
          -1.1716264175970021,
          -0.4476749952054184,
          -1.5097919841869507,
          3.71926607547116,
          0.07320060546610639,
          3.0347923708207705,
          6.64055072610893,
          3.361210127078713,
          -0.8069365283241519,
          2.8389683690284095,
          2.366542980065736,
          2.1931658420629097,
          -0.7837581291545921,
          1.9938573800045654,
          2.2273271441802827,
          -0.8559035268130567,
          -0.9638927665023379,
          4.252680542396472,
          -0.29543347718325624,
          3.2253348673124895,
          -0.35793152753207885,
          2.004699364162205,
          -2.292045751660402,
          2.3878650381890676,
          0.12928836917024733,
          0.23097851091683327,
          9.94713133776714,
          4.126899332646671,
          3.6617552215439013,
          2.219998841499897,
          2.085708028521194,
          3.024744638723438,
          1.8950692219499403,
          4.993235932280121,
          0.6560142273250206,
          3.2177922543832693,
          4.999461281198751,
          -0.8110228828001342,
          -3.335576259631291,
          -2.931177237618911,
          -9.005075737158654,
          -1.1982546783342485,
          5.007321550644135,
          4.801951375096366,
          3.440159403620584,
          6.13187473458247,
          -1.3088627653246003,
          3.2013148618203138,
          0.8942199036692886,
          -3.397196627503833,
          -2.430109110116479,
          3.090595879324312,
          3.645455008096166,
          -1.4523108311782538,
          -4.815931293586872,
          -1.4714870295045723,
          -3.0803859615490605,
          2.3435504155541693,
          -0.9727154519195774,
          -0.010559973631033604,
          4.019284914658164,
          3.843719805747637,
          2.368811543771194,
          0.32317103295922744,
          5.1314856345407796,
          1.539707420380173,
          3.480188977223783,
          2.5903095818237656,
          2.2509767061181036,
          0.6457357499334236,
          2.041298468388398,
          -0.269440609994361,
          -0.01297855204681631,
          1.547246613860729,
          -1.599972845736464,
          3.095052479157563,
          0.649008691874273,
          1.7028908621079861,
          1.079803183507845,
          0.5340291891297286,
          0.42958373868264055,
          -0.8390443466871078,
          0.3459305702058428,
          0.5577057418652029,
          0.24785618801488968,
          4.6094546915106775,
          1.9084831633534796,
          0.65563542953273,
          -6.485045869937735,
          -4.133342046481041,
          -0.2186550266388082,
          0.36550887123893977,
          0.639848719191266,
          0.06189455707245906,
          -6.785925299912559,
          -2.2072153631847593,
          -1.7368791369547745,
          2.7892495021738424,
          0.23992681020541104,
          -3.856146524097659,
          -1.3644812992645319,
          1.6758577178581102,
          0.1607301223929292,
          -1.837655835959181,
          -4.831493112675967,
          -0.1773776252683958,
          -3.703076586415879,
          -1.0096025360789114,
          -1.3413769751850224,
          -2.962953674992249,
          -0.12287404169144991,
          -0.4810854297583304,
          -1.7968429693435475,
          -0.17093583700294224,
          -3.0006437106280064,
          -2.982826293556557,
          -2.2538996313115818,
          -3.750749290530459,
          -2.6831192631387766,
          -4.42434278752505,
          -0.7077531625493046,
          -0.7332940172726561,
          -3.8648328232759064,
          -0.703284457643991,
          -8.75379841244248,
          -7.171313675163069,
          -4.577280887569156,
          -1.8550854337306057,
          -0.5491365352489253,
          -1.8428729242424582,
          1.0122258512645983,
          -3.663328099463389,
          -3.1040062972136253,
          -4.7436126471659925,
          -1.9421360432113748,
          -5.857239690699434,
          -5.754956502189541,
          0.9701937431228083,
          -0.8396936183760323,
          -1.9605158219045347,
          -2.4747068615945786,
          -4.309930609696323,
          -2.237576509448466,
          -1.7883915219577446,
          -5.630509838777133
         ]
        }
       ],
       "layout": {
        "legend": {
         "tracegroupgap": 0
        },
        "margin": {
         "t": 60
        },
        "scene": {
         "domain": {
          "x": [
           0,
           1
          ],
          "y": [
           0,
           1
          ]
         },
         "xaxis": {
          "title": {
           "text": "0"
          }
         },
         "yaxis": {
          "title": {
           "text": "1"
          }
         },
         "zaxis": {
          "title": {
           "text": "2"
          }
         }
        },
        "template": {
         "data": {
          "bar": [
           {
            "error_x": {
             "color": "#2a3f5f"
            },
            "error_y": {
             "color": "#2a3f5f"
            },
            "marker": {
             "line": {
              "color": "#E5ECF6",
              "width": 0.5
             },
             "pattern": {
              "fillmode": "overlay",
              "size": 10,
              "solidity": 0.2
             }
            },
            "type": "bar"
           }
          ],
          "barpolar": [
           {
            "marker": {
             "line": {
              "color": "#E5ECF6",
              "width": 0.5
             },
             "pattern": {
              "fillmode": "overlay",
              "size": 10,
              "solidity": 0.2
             }
            },
            "type": "barpolar"
           }
          ],
          "carpet": [
           {
            "aaxis": {
             "endlinecolor": "#2a3f5f",
             "gridcolor": "white",
             "linecolor": "white",
             "minorgridcolor": "white",
             "startlinecolor": "#2a3f5f"
            },
            "baxis": {
             "endlinecolor": "#2a3f5f",
             "gridcolor": "white",
             "linecolor": "white",
             "minorgridcolor": "white",
             "startlinecolor": "#2a3f5f"
            },
            "type": "carpet"
           }
          ],
          "choropleth": [
           {
            "colorbar": {
             "outlinewidth": 0,
             "ticks": ""
            },
            "type": "choropleth"
           }
          ],
          "contour": [
           {
            "colorbar": {
             "outlinewidth": 0,
             "ticks": ""
            },
            "colorscale": [
             [
              0,
              "#0d0887"
             ],
             [
              0.1111111111111111,
              "#46039f"
             ],
             [
              0.2222222222222222,
              "#7201a8"
             ],
             [
              0.3333333333333333,
              "#9c179e"
             ],
             [
              0.4444444444444444,
              "#bd3786"
             ],
             [
              0.5555555555555556,
              "#d8576b"
             ],
             [
              0.6666666666666666,
              "#ed7953"
             ],
             [
              0.7777777777777778,
              "#fb9f3a"
             ],
             [
              0.8888888888888888,
              "#fdca26"
             ],
             [
              1,
              "#f0f921"
             ]
            ],
            "type": "contour"
           }
          ],
          "contourcarpet": [
           {
            "colorbar": {
             "outlinewidth": 0,
             "ticks": ""
            },
            "type": "contourcarpet"
           }
          ],
          "heatmap": [
           {
            "colorbar": {
             "outlinewidth": 0,
             "ticks": ""
            },
            "colorscale": [
             [
              0,
              "#0d0887"
             ],
             [
              0.1111111111111111,
              "#46039f"
             ],
             [
              0.2222222222222222,
              "#7201a8"
             ],
             [
              0.3333333333333333,
              "#9c179e"
             ],
             [
              0.4444444444444444,
              "#bd3786"
             ],
             [
              0.5555555555555556,
              "#d8576b"
             ],
             [
              0.6666666666666666,
              "#ed7953"
             ],
             [
              0.7777777777777778,
              "#fb9f3a"
             ],
             [
              0.8888888888888888,
              "#fdca26"
             ],
             [
              1,
              "#f0f921"
             ]
            ],
            "type": "heatmap"
           }
          ],
          "heatmapgl": [
           {
            "colorbar": {
             "outlinewidth": 0,
             "ticks": ""
            },
            "colorscale": [
             [
              0,
              "#0d0887"
             ],
             [
              0.1111111111111111,
              "#46039f"
             ],
             [
              0.2222222222222222,
              "#7201a8"
             ],
             [
              0.3333333333333333,
              "#9c179e"
             ],
             [
              0.4444444444444444,
              "#bd3786"
             ],
             [
              0.5555555555555556,
              "#d8576b"
             ],
             [
              0.6666666666666666,
              "#ed7953"
             ],
             [
              0.7777777777777778,
              "#fb9f3a"
             ],
             [
              0.8888888888888888,
              "#fdca26"
             ],
             [
              1,
              "#f0f921"
             ]
            ],
            "type": "heatmapgl"
           }
          ],
          "histogram": [
           {
            "marker": {
             "pattern": {
              "fillmode": "overlay",
              "size": 10,
              "solidity": 0.2
             }
            },
            "type": "histogram"
           }
          ],
          "histogram2d": [
           {
            "colorbar": {
             "outlinewidth": 0,
             "ticks": ""
            },
            "colorscale": [
             [
              0,
              "#0d0887"
             ],
             [
              0.1111111111111111,
              "#46039f"
             ],
             [
              0.2222222222222222,
              "#7201a8"
             ],
             [
              0.3333333333333333,
              "#9c179e"
             ],
             [
              0.4444444444444444,
              "#bd3786"
             ],
             [
              0.5555555555555556,
              "#d8576b"
             ],
             [
              0.6666666666666666,
              "#ed7953"
             ],
             [
              0.7777777777777778,
              "#fb9f3a"
             ],
             [
              0.8888888888888888,
              "#fdca26"
             ],
             [
              1,
              "#f0f921"
             ]
            ],
            "type": "histogram2d"
           }
          ],
          "histogram2dcontour": [
           {
            "colorbar": {
             "outlinewidth": 0,
             "ticks": ""
            },
            "colorscale": [
             [
              0,
              "#0d0887"
             ],
             [
              0.1111111111111111,
              "#46039f"
             ],
             [
              0.2222222222222222,
              "#7201a8"
             ],
             [
              0.3333333333333333,
              "#9c179e"
             ],
             [
              0.4444444444444444,
              "#bd3786"
             ],
             [
              0.5555555555555556,
              "#d8576b"
             ],
             [
              0.6666666666666666,
              "#ed7953"
             ],
             [
              0.7777777777777778,
              "#fb9f3a"
             ],
             [
              0.8888888888888888,
              "#fdca26"
             ],
             [
              1,
              "#f0f921"
             ]
            ],
            "type": "histogram2dcontour"
           }
          ],
          "mesh3d": [
           {
            "colorbar": {
             "outlinewidth": 0,
             "ticks": ""
            },
            "type": "mesh3d"
           }
          ],
          "parcoords": [
           {
            "line": {
             "colorbar": {
              "outlinewidth": 0,
              "ticks": ""
             }
            },
            "type": "parcoords"
           }
          ],
          "pie": [
           {
            "automargin": true,
            "type": "pie"
           }
          ],
          "scatter": [
           {
            "fillpattern": {
             "fillmode": "overlay",
             "size": 10,
             "solidity": 0.2
            },
            "type": "scatter"
           }
          ],
          "scatter3d": [
           {
            "line": {
             "colorbar": {
              "outlinewidth": 0,
              "ticks": ""
             }
            },
            "marker": {
             "colorbar": {
              "outlinewidth": 0,
              "ticks": ""
             }
            },
            "type": "scatter3d"
           }
          ],
          "scattercarpet": [
           {
            "marker": {
             "colorbar": {
              "outlinewidth": 0,
              "ticks": ""
             }
            },
            "type": "scattercarpet"
           }
          ],
          "scattergeo": [
           {
            "marker": {
             "colorbar": {
              "outlinewidth": 0,
              "ticks": ""
             }
            },
            "type": "scattergeo"
           }
          ],
          "scattergl": [
           {
            "marker": {
             "colorbar": {
              "outlinewidth": 0,
              "ticks": ""
             }
            },
            "type": "scattergl"
           }
          ],
          "scattermapbox": [
           {
            "marker": {
             "colorbar": {
              "outlinewidth": 0,
              "ticks": ""
             }
            },
            "type": "scattermapbox"
           }
          ],
          "scatterpolar": [
           {
            "marker": {
             "colorbar": {
              "outlinewidth": 0,
              "ticks": ""
             }
            },
            "type": "scatterpolar"
           }
          ],
          "scatterpolargl": [
           {
            "marker": {
             "colorbar": {
              "outlinewidth": 0,
              "ticks": ""
             }
            },
            "type": "scatterpolargl"
           }
          ],
          "scatterternary": [
           {
            "marker": {
             "colorbar": {
              "outlinewidth": 0,
              "ticks": ""
             }
            },
            "type": "scatterternary"
           }
          ],
          "surface": [
           {
            "colorbar": {
             "outlinewidth": 0,
             "ticks": ""
            },
            "colorscale": [
             [
              0,
              "#0d0887"
             ],
             [
              0.1111111111111111,
              "#46039f"
             ],
             [
              0.2222222222222222,
              "#7201a8"
             ],
             [
              0.3333333333333333,
              "#9c179e"
             ],
             [
              0.4444444444444444,
              "#bd3786"
             ],
             [
              0.5555555555555556,
              "#d8576b"
             ],
             [
              0.6666666666666666,
              "#ed7953"
             ],
             [
              0.7777777777777778,
              "#fb9f3a"
             ],
             [
              0.8888888888888888,
              "#fdca26"
             ],
             [
              1,
              "#f0f921"
             ]
            ],
            "type": "surface"
           }
          ],
          "table": [
           {
            "cells": {
             "fill": {
              "color": "#EBF0F8"
             },
             "line": {
              "color": "white"
             }
            },
            "header": {
             "fill": {
              "color": "#C8D4E3"
             },
             "line": {
              "color": "white"
             }
            },
            "type": "table"
           }
          ]
         },
         "layout": {
          "annotationdefaults": {
           "arrowcolor": "#2a3f5f",
           "arrowhead": 0,
           "arrowwidth": 1
          },
          "autotypenumbers": "strict",
          "coloraxis": {
           "colorbar": {
            "outlinewidth": 0,
            "ticks": ""
           }
          },
          "colorscale": {
           "diverging": [
            [
             0,
             "#8e0152"
            ],
            [
             0.1,
             "#c51b7d"
            ],
            [
             0.2,
             "#de77ae"
            ],
            [
             0.3,
             "#f1b6da"
            ],
            [
             0.4,
             "#fde0ef"
            ],
            [
             0.5,
             "#f7f7f7"
            ],
            [
             0.6,
             "#e6f5d0"
            ],
            [
             0.7,
             "#b8e186"
            ],
            [
             0.8,
             "#7fbc41"
            ],
            [
             0.9,
             "#4d9221"
            ],
            [
             1,
             "#276419"
            ]
           ],
           "sequential": [
            [
             0,
             "#0d0887"
            ],
            [
             0.1111111111111111,
             "#46039f"
            ],
            [
             0.2222222222222222,
             "#7201a8"
            ],
            [
             0.3333333333333333,
             "#9c179e"
            ],
            [
             0.4444444444444444,
             "#bd3786"
            ],
            [
             0.5555555555555556,
             "#d8576b"
            ],
            [
             0.6666666666666666,
             "#ed7953"
            ],
            [
             0.7777777777777778,
             "#fb9f3a"
            ],
            [
             0.8888888888888888,
             "#fdca26"
            ],
            [
             1,
             "#f0f921"
            ]
           ],
           "sequentialminus": [
            [
             0,
             "#0d0887"
            ],
            [
             0.1111111111111111,
             "#46039f"
            ],
            [
             0.2222222222222222,
             "#7201a8"
            ],
            [
             0.3333333333333333,
             "#9c179e"
            ],
            [
             0.4444444444444444,
             "#bd3786"
            ],
            [
             0.5555555555555556,
             "#d8576b"
            ],
            [
             0.6666666666666666,
             "#ed7953"
            ],
            [
             0.7777777777777778,
             "#fb9f3a"
            ],
            [
             0.8888888888888888,
             "#fdca26"
            ],
            [
             1,
             "#f0f921"
            ]
           ]
          },
          "colorway": [
           "#636efa",
           "#EF553B",
           "#00cc96",
           "#ab63fa",
           "#FFA15A",
           "#19d3f3",
           "#FF6692",
           "#B6E880",
           "#FF97FF",
           "#FECB52"
          ],
          "font": {
           "color": "#2a3f5f"
          },
          "geo": {
           "bgcolor": "white",
           "lakecolor": "white",
           "landcolor": "#E5ECF6",
           "showlakes": true,
           "showland": true,
           "subunitcolor": "white"
          },
          "hoverlabel": {
           "align": "left"
          },
          "hovermode": "closest",
          "mapbox": {
           "style": "light"
          },
          "paper_bgcolor": "white",
          "plot_bgcolor": "#E5ECF6",
          "polar": {
           "angularaxis": {
            "gridcolor": "white",
            "linecolor": "white",
            "ticks": ""
           },
           "bgcolor": "#E5ECF6",
           "radialaxis": {
            "gridcolor": "white",
            "linecolor": "white",
            "ticks": ""
           }
          },
          "scene": {
           "xaxis": {
            "backgroundcolor": "#E5ECF6",
            "gridcolor": "white",
            "gridwidth": 2,
            "linecolor": "white",
            "showbackground": true,
            "ticks": "",
            "zerolinecolor": "white"
           },
           "yaxis": {
            "backgroundcolor": "#E5ECF6",
            "gridcolor": "white",
            "gridwidth": 2,
            "linecolor": "white",
            "showbackground": true,
            "ticks": "",
            "zerolinecolor": "white"
           },
           "zaxis": {
            "backgroundcolor": "#E5ECF6",
            "gridcolor": "white",
            "gridwidth": 2,
            "linecolor": "white",
            "showbackground": true,
            "ticks": "",
            "zerolinecolor": "white"
           }
          },
          "shapedefaults": {
           "line": {
            "color": "#2a3f5f"
           }
          },
          "ternary": {
           "aaxis": {
            "gridcolor": "white",
            "linecolor": "white",
            "ticks": ""
           },
           "baxis": {
            "gridcolor": "white",
            "linecolor": "white",
            "ticks": ""
           },
           "bgcolor": "#E5ECF6",
           "caxis": {
            "gridcolor": "white",
            "linecolor": "white",
            "ticks": ""
           }
          },
          "title": {
           "x": 0.05
          },
          "xaxis": {
           "automargin": true,
           "gridcolor": "white",
           "linecolor": "white",
           "ticks": "",
           "title": {
            "standoff": 15
           },
           "zerolinecolor": "white",
           "zerolinewidth": 2
          },
          "yaxis": {
           "automargin": true,
           "gridcolor": "white",
           "linecolor": "white",
           "ticks": "",
           "title": {
            "standoff": 15
           },
           "zerolinecolor": "white",
           "zerolinewidth": 2
          }
         }
        }
       }
      }
     },
     "metadata": {},
     "output_type": "display_data"
    }
   ],
   "source": [
    "px.scatter_3d(data_frame=pca_df, x=0, y=1, z=2)"
   ]
  },
  {
   "cell_type": "code",
   "execution_count": 21,
   "metadata": {},
   "outputs": [
    {
     "data": {
      "application/vnd.plotly.v1+json": {
       "config": {
        "plotlyServerURL": "https://plot.ly"
       },
       "data": [
        {
         "hovertemplate": "x=%{x}<br>y=%{y}<extra></extra>",
         "legendgroup": "",
         "marker": {
          "color": "#636efa",
          "symbol": "circle"
         },
         "mode": "markers",
         "name": "",
         "orientation": "v",
         "showlegend": false,
         "type": "scatter",
         "x": [
          318.56297928793697,
          303.0974196593858,
          438.0611329172365,
          733.2401393508122,
          -11.571428495905936,
          703.2311917377228,
          542.9715808665925,
          548.401859840437,
          298.0368628006119,
          298.04955313546816,
          763.0797119412475,
          532.9432277319978,
          572.8344103911646,
          402.9253582860971,
          800.053393856972,
          563.2455779988175,
          533.3796506359125,
          383.31759107727515,
          933.118387499606,
          98.40317747596033,
          33.593594001853845,
          23.146437540271325,
          288.0930302174046,
          267.9815125349914,
          98.01988577277815,
          83.49874396134187,
          447.92559622234256,
          537.9191650213771,
          168.21046760464966,
          288.0082470812646,
          538.0264521021904,
          768.0929388553866,
          243.15075090189163,
          488.6012800452356,
          348.23100699681953,
          173.07995742609629,
          133.28642354659152,
          358.01855917526626,
          273.0444315214036,
          13.64300211336579,
          48.42964224993001,
          287.88409216899106,
          348.0953481804468,
          -66.81465538610246,
          138.22700988344204,
          333.2548058291667,
          318.1118484666389,
          238.11148507872252,
          313.1199153878397,
          513.187748021228,
          402.9390171589735,
          517.9289632654716,
          443.2664112949332,
          628.2860709851129,
          313.3976126756321,
          373.3332912223799,
          223.41710635795044,
          523.072851396616,
          538.182097322943,
          -227.0326904524968,
          -66.8501219972491,
          -296.82443689141564,
          -116.97047258185808,
          -327.0591255951515,
          -391.75248643605,
          -68.90576044269487,
          -245.21252397707912,
          -237.24141029251683,
          3.296155990979901,
          -27.9661207305396,
          123.13013830856245,
          -337.1041224880131,
          -275.096025879688,
          238.71675654886099,
          139.0940566399579,
          -318.8763289023296,
          -355.06025251413723,
          -246.63359745191585,
          3.771689655532634,
          -283.842247644766,
          -469.0593503092667,
          -33.13133924615634,
          -117.29039200980735,
          -232.13298838412308,
          -226.9532994201187,
          -296.8521517343858,
          -252.04639192844056,
          -185.10885737349278,
          -67.18075184447491,
          -122.43132640120501,
          -267.18533320304385,
          -297.1044146752865,
          -252.2138850717705,
          -457.0222149421966,
          -401.8512740899958,
          191.18339677250665,
          -121.27917775374162,
          -319.08827280468597,
          -87.08029256129844,
          -341.04090016734875,
          -36.93161455099829,
          -185.0737134940795,
          -308.88238661249596,
          -332.08929638290095,
          -75.15313775202654,
          -432.0097419228538,
          -237.2066970872571,
          -259.14836773379653,
          -434.9577801123814,
          -66.99069577012972,
          -184.73643852532717,
          -422.0428736248791,
          -139.81866316131362,
          -313.06094816289715,
          -362.12963311360676,
          -340.11500621424557,
          -252.10947206109944,
          -401.69597348176734,
          -375.17109236646627,
          -183.09792918191016,
          -121.94524134844434,
          -281.5345691197326,
          -381.82677823426343,
          -367.08938004599395,
          -367.15717469661206,
          -369.1036009666215,
          -395.078836456941,
          -281.0303687091013,
          -405.06128780288594,
          -167.23764181767564,
          -116.47300035905579,
          -216.78453997810763,
          -186.91511196560208,
          -146.76952962486232,
          -97.13297359792658,
          -51.98204686718363,
          -27.09793074985308,
          -231.9515340706206,
          -167.07624576452395,
          -156.86804454285758,
          -146.9464895805513,
          32.904292748895735,
          -226.92620968566467,
          -197.00434749401953,
          108.31267730325996,
          83.11826261248198,
          -332.1958399900889,
          -122.12609208783418,
          -97.01938926807348,
          -196.62480660405078,
          -246.44919923184167,
          -266.62878804970154,
          -321.570740935181,
          -71.89765870622577,
          -106.81661780127264,
          -22.020256798528703,
          -267.03173230557604,
          132.99984125218953,
          -86.91399859078058,
          -127.06128965116453,
          -227.0688357517344,
          -66.75543117637729,
          -176.765098425117,
          -71.76839793240185,
          -132.04824836043477,
          -227.07784455326015,
          -51.689506459844395,
          -62.085011124303875,
          3.182764653492861,
          -116.67481804945243,
          -236.92120794183762,
          -277.0835782560394,
          -87.0274026313734,
          -6.980210958028232,
          3.1316046787554397,
          88.4580736861297,
          93.4562418541091,
          -186.94319027310917
         ],
         "xaxis": "x",
         "y": [
          0,
          0,
          0,
          0,
          0,
          0,
          0,
          0,
          0,
          0,
          0,
          0,
          0,
          0,
          0,
          0,
          0,
          0,
          0,
          0,
          0,
          0,
          0,
          0,
          0,
          0,
          0,
          0,
          0,
          0,
          0,
          0,
          0,
          0,
          0,
          0,
          0,
          0,
          0,
          0,
          0,
          0,
          0,
          0,
          0,
          0,
          0,
          0,
          0,
          0,
          0,
          0,
          0,
          0,
          0,
          0,
          0,
          0,
          0,
          0,
          0,
          0,
          0,
          0,
          0,
          0,
          0,
          0,
          0,
          0,
          0,
          0,
          0,
          0,
          0,
          0,
          0,
          0,
          0,
          0,
          0,
          0,
          0,
          0,
          0,
          0,
          0,
          0,
          0,
          0,
          0,
          0,
          0,
          0,
          0,
          0,
          0,
          0,
          0,
          0,
          0,
          0,
          0,
          0,
          0,
          0,
          0,
          0,
          0,
          0,
          0,
          0,
          0,
          0,
          0,
          0,
          0,
          0,
          0,
          0,
          0,
          0,
          0,
          0,
          0,
          0,
          0,
          0,
          0,
          0,
          0,
          0,
          0,
          0,
          0,
          0,
          0,
          0,
          0,
          0,
          0,
          0,
          0,
          0,
          0,
          0,
          0,
          0,
          0,
          0,
          0,
          0,
          0,
          0,
          0,
          0,
          0,
          0,
          0,
          0,
          0,
          0,
          0,
          0,
          0,
          0,
          0,
          0,
          0,
          0,
          0,
          0,
          0,
          0,
          0,
          0,
          0,
          0
         ],
         "yaxis": "y"
        }
       ],
       "layout": {
        "legend": {
         "tracegroupgap": 0
        },
        "margin": {
         "t": 60
        },
        "template": {
         "data": {
          "bar": [
           {
            "error_x": {
             "color": "#2a3f5f"
            },
            "error_y": {
             "color": "#2a3f5f"
            },
            "marker": {
             "line": {
              "color": "#E5ECF6",
              "width": 0.5
             },
             "pattern": {
              "fillmode": "overlay",
              "size": 10,
              "solidity": 0.2
             }
            },
            "type": "bar"
           }
          ],
          "barpolar": [
           {
            "marker": {
             "line": {
              "color": "#E5ECF6",
              "width": 0.5
             },
             "pattern": {
              "fillmode": "overlay",
              "size": 10,
              "solidity": 0.2
             }
            },
            "type": "barpolar"
           }
          ],
          "carpet": [
           {
            "aaxis": {
             "endlinecolor": "#2a3f5f",
             "gridcolor": "white",
             "linecolor": "white",
             "minorgridcolor": "white",
             "startlinecolor": "#2a3f5f"
            },
            "baxis": {
             "endlinecolor": "#2a3f5f",
             "gridcolor": "white",
             "linecolor": "white",
             "minorgridcolor": "white",
             "startlinecolor": "#2a3f5f"
            },
            "type": "carpet"
           }
          ],
          "choropleth": [
           {
            "colorbar": {
             "outlinewidth": 0,
             "ticks": ""
            },
            "type": "choropleth"
           }
          ],
          "contour": [
           {
            "colorbar": {
             "outlinewidth": 0,
             "ticks": ""
            },
            "colorscale": [
             [
              0,
              "#0d0887"
             ],
             [
              0.1111111111111111,
              "#46039f"
             ],
             [
              0.2222222222222222,
              "#7201a8"
             ],
             [
              0.3333333333333333,
              "#9c179e"
             ],
             [
              0.4444444444444444,
              "#bd3786"
             ],
             [
              0.5555555555555556,
              "#d8576b"
             ],
             [
              0.6666666666666666,
              "#ed7953"
             ],
             [
              0.7777777777777778,
              "#fb9f3a"
             ],
             [
              0.8888888888888888,
              "#fdca26"
             ],
             [
              1,
              "#f0f921"
             ]
            ],
            "type": "contour"
           }
          ],
          "contourcarpet": [
           {
            "colorbar": {
             "outlinewidth": 0,
             "ticks": ""
            },
            "type": "contourcarpet"
           }
          ],
          "heatmap": [
           {
            "colorbar": {
             "outlinewidth": 0,
             "ticks": ""
            },
            "colorscale": [
             [
              0,
              "#0d0887"
             ],
             [
              0.1111111111111111,
              "#46039f"
             ],
             [
              0.2222222222222222,
              "#7201a8"
             ],
             [
              0.3333333333333333,
              "#9c179e"
             ],
             [
              0.4444444444444444,
              "#bd3786"
             ],
             [
              0.5555555555555556,
              "#d8576b"
             ],
             [
              0.6666666666666666,
              "#ed7953"
             ],
             [
              0.7777777777777778,
              "#fb9f3a"
             ],
             [
              0.8888888888888888,
              "#fdca26"
             ],
             [
              1,
              "#f0f921"
             ]
            ],
            "type": "heatmap"
           }
          ],
          "heatmapgl": [
           {
            "colorbar": {
             "outlinewidth": 0,
             "ticks": ""
            },
            "colorscale": [
             [
              0,
              "#0d0887"
             ],
             [
              0.1111111111111111,
              "#46039f"
             ],
             [
              0.2222222222222222,
              "#7201a8"
             ],
             [
              0.3333333333333333,
              "#9c179e"
             ],
             [
              0.4444444444444444,
              "#bd3786"
             ],
             [
              0.5555555555555556,
              "#d8576b"
             ],
             [
              0.6666666666666666,
              "#ed7953"
             ],
             [
              0.7777777777777778,
              "#fb9f3a"
             ],
             [
              0.8888888888888888,
              "#fdca26"
             ],
             [
              1,
              "#f0f921"
             ]
            ],
            "type": "heatmapgl"
           }
          ],
          "histogram": [
           {
            "marker": {
             "pattern": {
              "fillmode": "overlay",
              "size": 10,
              "solidity": 0.2
             }
            },
            "type": "histogram"
           }
          ],
          "histogram2d": [
           {
            "colorbar": {
             "outlinewidth": 0,
             "ticks": ""
            },
            "colorscale": [
             [
              0,
              "#0d0887"
             ],
             [
              0.1111111111111111,
              "#46039f"
             ],
             [
              0.2222222222222222,
              "#7201a8"
             ],
             [
              0.3333333333333333,
              "#9c179e"
             ],
             [
              0.4444444444444444,
              "#bd3786"
             ],
             [
              0.5555555555555556,
              "#d8576b"
             ],
             [
              0.6666666666666666,
              "#ed7953"
             ],
             [
              0.7777777777777778,
              "#fb9f3a"
             ],
             [
              0.8888888888888888,
              "#fdca26"
             ],
             [
              1,
              "#f0f921"
             ]
            ],
            "type": "histogram2d"
           }
          ],
          "histogram2dcontour": [
           {
            "colorbar": {
             "outlinewidth": 0,
             "ticks": ""
            },
            "colorscale": [
             [
              0,
              "#0d0887"
             ],
             [
              0.1111111111111111,
              "#46039f"
             ],
             [
              0.2222222222222222,
              "#7201a8"
             ],
             [
              0.3333333333333333,
              "#9c179e"
             ],
             [
              0.4444444444444444,
              "#bd3786"
             ],
             [
              0.5555555555555556,
              "#d8576b"
             ],
             [
              0.6666666666666666,
              "#ed7953"
             ],
             [
              0.7777777777777778,
              "#fb9f3a"
             ],
             [
              0.8888888888888888,
              "#fdca26"
             ],
             [
              1,
              "#f0f921"
             ]
            ],
            "type": "histogram2dcontour"
           }
          ],
          "mesh3d": [
           {
            "colorbar": {
             "outlinewidth": 0,
             "ticks": ""
            },
            "type": "mesh3d"
           }
          ],
          "parcoords": [
           {
            "line": {
             "colorbar": {
              "outlinewidth": 0,
              "ticks": ""
             }
            },
            "type": "parcoords"
           }
          ],
          "pie": [
           {
            "automargin": true,
            "type": "pie"
           }
          ],
          "scatter": [
           {
            "fillpattern": {
             "fillmode": "overlay",
             "size": 10,
             "solidity": 0.2
            },
            "type": "scatter"
           }
          ],
          "scatter3d": [
           {
            "line": {
             "colorbar": {
              "outlinewidth": 0,
              "ticks": ""
             }
            },
            "marker": {
             "colorbar": {
              "outlinewidth": 0,
              "ticks": ""
             }
            },
            "type": "scatter3d"
           }
          ],
          "scattercarpet": [
           {
            "marker": {
             "colorbar": {
              "outlinewidth": 0,
              "ticks": ""
             }
            },
            "type": "scattercarpet"
           }
          ],
          "scattergeo": [
           {
            "marker": {
             "colorbar": {
              "outlinewidth": 0,
              "ticks": ""
             }
            },
            "type": "scattergeo"
           }
          ],
          "scattergl": [
           {
            "marker": {
             "colorbar": {
              "outlinewidth": 0,
              "ticks": ""
             }
            },
            "type": "scattergl"
           }
          ],
          "scattermapbox": [
           {
            "marker": {
             "colorbar": {
              "outlinewidth": 0,
              "ticks": ""
             }
            },
            "type": "scattermapbox"
           }
          ],
          "scatterpolar": [
           {
            "marker": {
             "colorbar": {
              "outlinewidth": 0,
              "ticks": ""
             }
            },
            "type": "scatterpolar"
           }
          ],
          "scatterpolargl": [
           {
            "marker": {
             "colorbar": {
              "outlinewidth": 0,
              "ticks": ""
             }
            },
            "type": "scatterpolargl"
           }
          ],
          "scatterternary": [
           {
            "marker": {
             "colorbar": {
              "outlinewidth": 0,
              "ticks": ""
             }
            },
            "type": "scatterternary"
           }
          ],
          "surface": [
           {
            "colorbar": {
             "outlinewidth": 0,
             "ticks": ""
            },
            "colorscale": [
             [
              0,
              "#0d0887"
             ],
             [
              0.1111111111111111,
              "#46039f"
             ],
             [
              0.2222222222222222,
              "#7201a8"
             ],
             [
              0.3333333333333333,
              "#9c179e"
             ],
             [
              0.4444444444444444,
              "#bd3786"
             ],
             [
              0.5555555555555556,
              "#d8576b"
             ],
             [
              0.6666666666666666,
              "#ed7953"
             ],
             [
              0.7777777777777778,
              "#fb9f3a"
             ],
             [
              0.8888888888888888,
              "#fdca26"
             ],
             [
              1,
              "#f0f921"
             ]
            ],
            "type": "surface"
           }
          ],
          "table": [
           {
            "cells": {
             "fill": {
              "color": "#EBF0F8"
             },
             "line": {
              "color": "white"
             }
            },
            "header": {
             "fill": {
              "color": "#C8D4E3"
             },
             "line": {
              "color": "white"
             }
            },
            "type": "table"
           }
          ]
         },
         "layout": {
          "annotationdefaults": {
           "arrowcolor": "#2a3f5f",
           "arrowhead": 0,
           "arrowwidth": 1
          },
          "autotypenumbers": "strict",
          "coloraxis": {
           "colorbar": {
            "outlinewidth": 0,
            "ticks": ""
           }
          },
          "colorscale": {
           "diverging": [
            [
             0,
             "#8e0152"
            ],
            [
             0.1,
             "#c51b7d"
            ],
            [
             0.2,
             "#de77ae"
            ],
            [
             0.3,
             "#f1b6da"
            ],
            [
             0.4,
             "#fde0ef"
            ],
            [
             0.5,
             "#f7f7f7"
            ],
            [
             0.6,
             "#e6f5d0"
            ],
            [
             0.7,
             "#b8e186"
            ],
            [
             0.8,
             "#7fbc41"
            ],
            [
             0.9,
             "#4d9221"
            ],
            [
             1,
             "#276419"
            ]
           ],
           "sequential": [
            [
             0,
             "#0d0887"
            ],
            [
             0.1111111111111111,
             "#46039f"
            ],
            [
             0.2222222222222222,
             "#7201a8"
            ],
            [
             0.3333333333333333,
             "#9c179e"
            ],
            [
             0.4444444444444444,
             "#bd3786"
            ],
            [
             0.5555555555555556,
             "#d8576b"
            ],
            [
             0.6666666666666666,
             "#ed7953"
            ],
            [
             0.7777777777777778,
             "#fb9f3a"
            ],
            [
             0.8888888888888888,
             "#fdca26"
            ],
            [
             1,
             "#f0f921"
            ]
           ],
           "sequentialminus": [
            [
             0,
             "#0d0887"
            ],
            [
             0.1111111111111111,
             "#46039f"
            ],
            [
             0.2222222222222222,
             "#7201a8"
            ],
            [
             0.3333333333333333,
             "#9c179e"
            ],
            [
             0.4444444444444444,
             "#bd3786"
            ],
            [
             0.5555555555555556,
             "#d8576b"
            ],
            [
             0.6666666666666666,
             "#ed7953"
            ],
            [
             0.7777777777777778,
             "#fb9f3a"
            ],
            [
             0.8888888888888888,
             "#fdca26"
            ],
            [
             1,
             "#f0f921"
            ]
           ]
          },
          "colorway": [
           "#636efa",
           "#EF553B",
           "#00cc96",
           "#ab63fa",
           "#FFA15A",
           "#19d3f3",
           "#FF6692",
           "#B6E880",
           "#FF97FF",
           "#FECB52"
          ],
          "font": {
           "color": "#2a3f5f"
          },
          "geo": {
           "bgcolor": "white",
           "lakecolor": "white",
           "landcolor": "#E5ECF6",
           "showlakes": true,
           "showland": true,
           "subunitcolor": "white"
          },
          "hoverlabel": {
           "align": "left"
          },
          "hovermode": "closest",
          "mapbox": {
           "style": "light"
          },
          "paper_bgcolor": "white",
          "plot_bgcolor": "#E5ECF6",
          "polar": {
           "angularaxis": {
            "gridcolor": "white",
            "linecolor": "white",
            "ticks": ""
           },
           "bgcolor": "#E5ECF6",
           "radialaxis": {
            "gridcolor": "white",
            "linecolor": "white",
            "ticks": ""
           }
          },
          "scene": {
           "xaxis": {
            "backgroundcolor": "#E5ECF6",
            "gridcolor": "white",
            "gridwidth": 2,
            "linecolor": "white",
            "showbackground": true,
            "ticks": "",
            "zerolinecolor": "white"
           },
           "yaxis": {
            "backgroundcolor": "#E5ECF6",
            "gridcolor": "white",
            "gridwidth": 2,
            "linecolor": "white",
            "showbackground": true,
            "ticks": "",
            "zerolinecolor": "white"
           },
           "zaxis": {
            "backgroundcolor": "#E5ECF6",
            "gridcolor": "white",
            "gridwidth": 2,
            "linecolor": "white",
            "showbackground": true,
            "ticks": "",
            "zerolinecolor": "white"
           }
          },
          "shapedefaults": {
           "line": {
            "color": "#2a3f5f"
           }
          },
          "ternary": {
           "aaxis": {
            "gridcolor": "white",
            "linecolor": "white",
            "ticks": ""
           },
           "baxis": {
            "gridcolor": "white",
            "linecolor": "white",
            "ticks": ""
           },
           "bgcolor": "#E5ECF6",
           "caxis": {
            "gridcolor": "white",
            "linecolor": "white",
            "ticks": ""
           }
          },
          "title": {
           "x": 0.05
          },
          "xaxis": {
           "automargin": true,
           "gridcolor": "white",
           "linecolor": "white",
           "ticks": "",
           "title": {
            "standoff": 15
           },
           "zerolinecolor": "white",
           "zerolinewidth": 2
          },
          "yaxis": {
           "automargin": true,
           "gridcolor": "white",
           "linecolor": "white",
           "ticks": "",
           "title": {
            "standoff": 15
           },
           "zerolinecolor": "white",
           "zerolinewidth": 2
          }
         }
        },
        "xaxis": {
         "anchor": "y",
         "domain": [
          0,
          1
         ],
         "title": {
          "text": "x"
         }
        },
        "yaxis": {
         "anchor": "x",
         "domain": [
          0,
          1
         ],
         "title": {
          "text": "y"
         }
        }
       }
      }
     },
     "metadata": {},
     "output_type": "display_data"
    }
   ],
   "source": [
    "px.scatter(x=pca_df[0], y=[0 for _ in range(pca_df.shape[0])])"
   ]
  },
  {
   "cell_type": "code",
   "execution_count": null,
   "metadata": {},
   "outputs": [],
   "source": []
  }
 ],
 "metadata": {
  "kernelspec": {
   "display_name": "Python 3.10.5 ('BD-PCA-project-fK0JjJEi')",
   "language": "python",
   "name": "python3"
  },
  "language_info": {
   "codemirror_mode": {
    "name": "ipython",
    "version": 3
   },
   "file_extension": ".py",
   "mimetype": "text/x-python",
   "name": "python",
   "nbconvert_exporter": "python",
   "pygments_lexer": "ipython3",
   "version": "3.10.5"
  },
  "orig_nbformat": 4,
  "vscode": {
   "interpreter": {
    "hash": "ab57f9982d8eb30c69f00f4a3c6f9da5a93d1b963ffde87525f0e2e443b8fb81"
   }
  }
 },
 "nbformat": 4,
 "nbformat_minor": 2
}
